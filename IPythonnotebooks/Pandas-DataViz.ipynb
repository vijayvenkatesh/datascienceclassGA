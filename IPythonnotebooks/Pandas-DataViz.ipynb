{
 "metadata": {
  "name": ""
 },
 "nbformat": 3,
 "nbformat_minor": 0,
 "worksheets": [
  {
   "cells": [
    {
     "cell_type": "code",
     "collapsed": false,
     "input": [
      "%pylab inline"
     ],
     "language": "python",
     "metadata": {},
     "outputs": [
      {
       "output_type": "stream",
       "stream": "stdout",
       "text": [
        "Populating the interactive namespace from numpy and matplotlib\n"
       ]
      }
     ],
     "prompt_number": 1
    },
    {
     "cell_type": "code",
     "collapsed": false,
     "input": [
      "import pandas as pd\n",
      "\n",
      "master = pd.read_csv('Downloads/lahman-csv_2013-12-10/Master.csv')\n",
      "salaries = pd.read_csv('Downloads/lahman-csv_2013-12-10/Salaries.csv')"
     ],
     "language": "python",
     "metadata": {},
     "outputs": [],
     "prompt_number": 2
    },
    {
     "cell_type": "raw",
     "metadata": {},
     "source": [
      "I just loaded in two files. Awesome.  Now let's take some notes!"
     ]
    },
    {
     "cell_type": "markdown",
     "metadata": {},
     "source": [
      "#This is a title\n",
      "##Subtitle\n",
      "\n",
      "1. This is item 1\n",
      "2. This is item 2"
     ]
    },
    {
     "cell_type": "code",
     "collapsed": false,
     "input": [
      "master_salaries = master.merge(salaries, on='playerID')\n",
      "master_salaries.head()"
     ],
     "language": "python",
     "metadata": {},
     "outputs": [
      {
       "html": [
        "<pre>\n",
        "&lt;class 'pandas.core.frame.DataFrame'&gt;\n",
        "Int64Index: 5 entries, 0 to 4\n",
        "Data columns (total 37 columns):\n",
        "lahmanID        5  non-null values\n",
        "playerID        5  non-null values\n",
        "managerID       0  non-null values\n",
        "hofID           0  non-null values\n",
        "birthYear       5  non-null values\n",
        "birthMonth      5  non-null values\n",
        "birthDay        5  non-null values\n",
        "birthCountry    5  non-null values\n",
        "birthState      5  non-null values\n",
        "birthCity       5  non-null values\n",
        "deathYear       0  non-null values\n",
        "deathMonth      0  non-null values\n",
        "deathDay        0  non-null values\n",
        "deathCountry    0  non-null values\n",
        "deathState      0  non-null values\n",
        "deathCity       0  non-null values\n",
        "nameFirst       5  non-null values\n",
        "nameLast        5  non-null values\n",
        "nameNote        0  non-null values\n",
        "nameGiven       4  non-null values\n",
        "nameNick        0  non-null values\n",
        "weight          5  non-null values\n",
        "height          5  non-null values\n",
        "bats            5  non-null values\n",
        "throws          5  non-null values\n",
        "debut           5  non-null values\n",
        "finalGame       5  non-null values\n",
        "college         5  non-null values\n",
        "lahman40ID      5  non-null values\n",
        "lahman45ID      5  non-null values\n",
        "retroID         5  non-null values\n",
        "holtzID         5  non-null values\n",
        "bbrefID         5  non-null values\n",
        "yearID          5  non-null values\n",
        "teamID          5  non-null values\n",
        "lgID            5  non-null values\n",
        "salary          5  non-null values\n",
        "dtypes: float64(8), int64(3), object(26)\n",
        "</pre>"
       ],
       "metadata": {},
       "output_type": "pyout",
       "prompt_number": 3,
       "text": [
        "<class 'pandas.core.frame.DataFrame'>\n",
        "Int64Index: 5 entries, 0 to 4\n",
        "Data columns (total 37 columns):\n",
        "lahmanID        5  non-null values\n",
        "playerID        5  non-null values\n",
        "managerID       0  non-null values\n",
        "hofID           0  non-null values\n",
        "birthYear       5  non-null values\n",
        "birthMonth      5  non-null values\n",
        "birthDay        5  non-null values\n",
        "birthCountry    5  non-null values\n",
        "birthState      5  non-null values\n",
        "birthCity       5  non-null values\n",
        "deathYear       0  non-null values\n",
        "deathMonth      0  non-null values\n",
        "deathDay        0  non-null values\n",
        "deathCountry    0  non-null values\n",
        "deathState      0  non-null values\n",
        "deathCity       0  non-null values\n",
        "nameFirst       5  non-null values\n",
        "nameLast        5  non-null values\n",
        "nameNote        0  non-null values\n",
        "nameGiven       4  non-null values\n",
        "nameNick        0  non-null values\n",
        "weight          5  non-null values\n",
        "height          5  non-null values\n",
        "bats            5  non-null values\n",
        "throws          5  non-null values\n",
        "debut           5  non-null values\n",
        "finalGame       5  non-null values\n",
        "college         5  non-null values\n",
        "lahman40ID      5  non-null values\n",
        "lahman45ID      5  non-null values\n",
        "retroID         5  non-null values\n",
        "holtzID         5  non-null values\n",
        "bbrefID         5  non-null values\n",
        "yearID          5  non-null values\n",
        "teamID          5  non-null values\n",
        "lgID            5  non-null values\n",
        "salary          5  non-null values\n",
        "dtypes: float64(8), int64(3), object(26)"
       ]
      }
     ],
     "prompt_number": 3
    },
    {
     "cell_type": "code",
     "collapsed": false,
     "input": [
      "plt.hist(master_salaries.salary,)\n",
      "plt.title(\"Distribution of Salaries\")\n",
      "plt.xlabel(\"Salaries\")\n",
      "plt.ylabel(\"Count of Players\")"
     ],
     "language": "python",
     "metadata": {},
     "outputs": [
      {
       "metadata": {},
       "output_type": "pyout",
       "prompt_number": 8,
       "text": [
        "<matplotlib.text.Text at 0x1071a4a10>"
       ]
      },
      {
       "metadata": {},
       "output_type": "display_data",
       "png": "[encoded data removed]",
       "text": [
        "<matplotlib.figure.Figure at 0x107114110>"
       ]
      }
     ],
     "prompt_number": 8
    },
    {
     "cell_type": "code",
     "collapsed": false,
     "input": [
      "player_stats = master_salaries.groupby(['nameFirst', 'nameLast','playerID']).salary.mean()\n",
      "\n"
     ],
     "language": "python",
     "metadata": {},
     "outputs": [
      {
       "metadata": {},
       "output_type": "pyout",
       "prompt_number": 6,
       "text": [
        "nameFirst  nameLast    playerID \n",
        "A.J.       Burnett     burneaj01    8051433.333333\n",
        "           Ellis       ellisaj01     970333.333333\n",
        "           Griffin     griffaj01     492500.000000\n",
        "           Hinch       hinchaj01     230000.000000\n",
        "           Pierzynski  pierzaj01    3878846.153846\n",
        "           Pollock     polloaj01     491000.000000\n",
        "           Ramos       ramosaj01     490000.000000\n",
        "           Sager       sageraj01     173100.000000\n",
        "Aaron      Boone       booneaa01    1482272.727273\n",
        "           Cook        cookaa01     4872000.000000\n",
        "           Crow        crowaa01     1426666.666667\n",
        "           Cunningham  cunniaa01     482300.000000\n",
        "           Fultz       fultzaa01     640000.000000\n",
        "           Guiel       guielaa01     320000.000000\n",
        "           Harang      haranaa01    5350000.000000\n",
        "...\n",
        "Yuniesky   Betancourt  betanyu01    1969375.000000\n",
        "Yusmeiro   Petit       petityu01     402750.000000\n",
        "Zach       Braddock    braddza01     424000.000000\n",
        "           Britton     brittza01     486000.000000\n",
        "           Day         dayza01       393500.000000\n",
        "           Duke        dukeza01     1692142.857143\n",
        "           Jackson     jacksza01     403800.000000\n",
        "           Lutz        lutzza01      490040.000000\n",
        "           McAllister  mcallza01     496400.000000\n",
        "           Miner       minerza01     599166.666667\n",
        "           Stewart     stewaza01     481500.000000\n",
        "Zack       Cozart      cozarza01     488750.000000\n",
        "           Greinke     greinza01    6833666.666667\n",
        "           Segovia     segovza01     380000.000000\n",
        "Zane       Smith       smithza01    1357727.272727\n",
        "Name: salary, Length: 4668, dtype: float64"
       ]
      }
     ],
     "prompt_number": 6
    },
    {
     "cell_type": "code",
     "collapsed": false,
     "input": [
      "batting = pd.read_csv('Downloads/lahman-csv_2013-12-10/Batting.csv')\n",
      "\n",
      "player_stats = master_salaries.merge(batting, on='playerID')\n"
     ],
     "language": "python",
     "metadata": {},
     "outputs": [],
     "prompt_number": 9
    },
    {
     "cell_type": "code",
     "collapsed": false,
     "input": [
      "hr_salaries = player_stats.groupby('HR').RBI.mean()\n"
     ],
     "language": "python",
     "metadata": {},
     "outputs": [],
     "prompt_number": 31
    },
    {
     "cell_type": "code",
     "collapsed": false,
     "input": [
      "import vincent\n",
      "vincent.core.initialize_notebook()"
     ],
     "language": "python",
     "metadata": {},
     "outputs": [
      {
       "javascript": [
        "$.getScript(\"http://d3js.org/d3.v3.min.js\", function() {\n",
        "        $.getScript(\"http://d3js.org/d3.geo.projection.v0.min.js\", function() {\n",
        "            $.getScript(\"http://d3js.org/topojson.v1.min.js\", function() {\n",
        "                $.getScript(\"http://trifacta.github.com/vega/vega.js\", function() {\n",
        "                    $([IPython.events]).trigger(\"vega_loaded.vincent\");\n",
        "                })\n",
        "            })\n",
        "        })\n",
        "    });"
       ],
       "metadata": {},
       "output_type": "display_data",
       "text": [
        "<IPython.core.display.Javascript at 0x1080ab790>"
       ]
      }
     ],
     "prompt_number": 24
    },
    {
     "cell_type": "code",
     "collapsed": false,
     "input": [
      "plot = vincent.Scatter(hr_salaries)\n",
      "plot.display()\n"
     ],
     "language": "python",
     "metadata": {},
     "outputs": [
      {
       "html": [
        "<div id=\"vis45095\"></div>"
       ],
       "metadata": {},
       "output_type": "display_data",
       "text": [
        "<IPython.core.display.HTML at 0x10716b1d0>"
       ]
      },
      {
       "javascript": [
        "\n",
        "( function() {\n",
        "  var _do_plot = function() {\n",
        "    if ( typeof vg == 'undefined' ) {\n",
        "      $([IPython.events]).on(\"vega_loaded.vincent\", _do_plot);\n",
        "      return;\n",
        "    }\n",
        "    vg.parse.spec({\"axes\": [{\"scale\": \"x\", \"type\": \"x\"}, {\"scale\": \"y\", \"type\": \"y\"}], \"data\": [{\"name\": \"table\", \"values\": [{\"col\": \"RBI\", \"idx\": 0.0, \"val\": 1.5852585850970256}, {\"col\": \"RBI\", \"idx\": 1.0, \"val\": 10.761633866338663}, {\"col\": \"RBI\", \"idx\": 2.0, \"val\": 17.122966062296605}, {\"col\": \"RBI\", \"idx\": 3.0, \"val\": 22.152630545740088}, {\"col\": \"RBI\", \"idx\": 4.0, \"val\": 26.943613630791862}, {\"col\": \"RBI\", \"idx\": 5.0, \"val\": 31.503223094170405}, {\"col\": \"RBI\", \"idx\": 6.0, \"val\": 34.50600554357869}, {\"col\": \"RBI\", \"idx\": 7.0, \"val\": 38.32500924898261}, {\"col\": \"RBI\", \"idx\": 8.0, \"val\": 40.96135443503864}, {\"col\": \"RBI\", \"idx\": 9.0, \"val\": 45.586431421970175}, {\"col\": \"RBI\", \"idx\": 10.0, \"val\": 49.401697312588404}, {\"col\": \"RBI\", \"idx\": 11.0, \"val\": 50.45581756931848}, {\"col\": \"RBI\", \"idx\": 12.0, \"val\": 53.15207489878542}, {\"col\": \"RBI\", \"idx\": 13.0, \"val\": 57.37268803945746}, {\"col\": \"RBI\", \"idx\": 14.0, \"val\": 60.421181512090605}, {\"col\": \"RBI\", \"idx\": 15.0, \"val\": 63.360223905169576}, {\"col\": \"RBI\", \"idx\": 16.0, \"val\": 65.42841490138787}, {\"col\": \"RBI\", \"idx\": 17.0, \"val\": 66.80492730210017}, {\"col\": \"RBI\", \"idx\": 18.0, \"val\": 69.11059322033898}, {\"col\": \"RBI\", \"idx\": 19.0, \"val\": 72.10401647785788}, {\"col\": \"RBI\", \"idx\": 20.0, \"val\": 76.32030914555604}, {\"col\": \"RBI\", \"idx\": 21.0, \"val\": 80.0657455931396}, {\"col\": \"RBI\", \"idx\": 22.0, \"val\": 82.88188134687333}, {\"col\": \"RBI\", \"idx\": 23.0, \"val\": 82.52184466019418}, {\"col\": \"RBI\", \"idx\": 24.0, \"val\": 85.65614973262032}, {\"col\": \"RBI\", \"idx\": 25.0, \"val\": 86.59556786703601}, {\"col\": \"RBI\", \"idx\": 26.0, \"val\": 88.725}, {\"col\": \"RBI\", \"idx\": 27.0, \"val\": 92.63294600136706}, {\"col\": \"RBI\", \"idx\": 28.0, \"val\": 91.95222672064777}, {\"col\": \"RBI\", \"idx\": 29.0, \"val\": 97.45775401069518}, {\"col\": \"RBI\", \"idx\": 30.0, \"val\": 98.93233082706767}, {\"col\": \"RBI\", \"idx\": 31.0, \"val\": 101.04851485148515}, {\"col\": \"RBI\", \"idx\": 32.0, \"val\": 99.10971786833856}, {\"col\": \"RBI\", \"idx\": 33.0, \"val\": 105.44875}, {\"col\": \"RBI\", \"idx\": 34.0, \"val\": 105.87802313354364}, {\"col\": \"RBI\", \"idx\": 35.0, \"val\": 107.96768982229402}, {\"col\": \"RBI\", \"idx\": 36.0, \"val\": 108.43953934740883}, {\"col\": \"RBI\", \"idx\": 37.0, \"val\": 109.35879629629629}, {\"col\": \"RBI\", \"idx\": 38.0, \"val\": 112.65931863727455}, {\"col\": \"RBI\", \"idx\": 39.0, \"val\": 113.60091743119266}, {\"col\": \"RBI\", \"idx\": 40.0, \"val\": 110.95388349514563}, {\"col\": \"RBI\", \"idx\": 41.0, \"val\": 121.54513888888889}, {\"col\": \"RBI\", \"idx\": 42.0, \"val\": 119.6831955922865}, {\"col\": \"RBI\", \"idx\": 43.0, \"val\": 120.50884955752213}, {\"col\": \"RBI\", \"idx\": 44.0, \"val\": 132.06153846153848}, {\"col\": \"RBI\", \"idx\": 45.0, \"val\": 122.02941176470588}, {\"col\": \"RBI\", \"idx\": 46.0, \"val\": 117.4}, {\"col\": \"RBI\", \"idx\": 47.0, \"val\": 132.65}, {\"col\": \"RBI\", \"idx\": 48.0, \"val\": 133.17241379310346}, {\"col\": \"RBI\", \"idx\": 49.0, \"val\": 128.2566844919786}, {\"col\": \"RBI\", \"idx\": 50.0, \"val\": 123.65217391304348}, {\"col\": \"RBI\", \"idx\": 51.0, \"val\": 129.6551724137931}, {\"col\": \"RBI\", \"idx\": 52.0, \"val\": 123.78688524590164}, {\"col\": \"RBI\", \"idx\": 53.0, \"val\": 138.0}, {\"col\": \"RBI\", \"idx\": 54.0, \"val\": 143.41860465116278}, {\"col\": \"RBI\", \"idx\": 56.0, \"val\": 146.5}, {\"col\": \"RBI\", \"idx\": 57.0, \"val\": 142.0}, {\"col\": \"RBI\", \"idx\": 58.0, \"val\": 149.0}, {\"col\": \"RBI\", \"idx\": 63.0, \"val\": 141.0}, {\"col\": \"RBI\", \"idx\": 64.0, \"val\": 160.0}, {\"col\": \"RBI\", \"idx\": 65.0, \"val\": 147.0}, {\"col\": \"RBI\", \"idx\": 66.0, \"val\": 158.0}, {\"col\": \"RBI\", \"idx\": 70.0, \"val\": 147.0}, {\"col\": \"RBI\", \"idx\": 73.0, \"val\": 137.0}]}], \"height\": 500, \"legends\": [], \"marks\": [{\"from\": {\"data\": \"table\", \"transform\": [{\"keys\": [\"data.col\"], \"type\": \"facet\"}]}, \"marks\": [{\"properties\": {\"enter\": {\"fill\": {\"field\": \"data.col\", \"scale\": \"color\"}, \"size\": {\"value\": 100}, \"x\": {\"field\": \"data.idx\", \"scale\": \"x\"}, \"y\": {\"field\": \"data.val\", \"scale\": \"y\"}}}, \"type\": \"symbol\"}], \"type\": \"group\"}], \"padding\": \"auto\", \"scales\": [{\"domain\": {\"data\": \"table\", \"field\": \"data.idx\"}, \"name\": \"x\", \"range\": \"width\", \"type\": \"linear\"}, {\"domain\": {\"data\": \"table\", \"field\": \"data.val\"}, \"name\": \"y\", \"nice\": true, \"range\": \"height\", \"type\": \"linear\"}, {\"domain\": {\"data\": \"table\", \"field\": \"data.col\"}, \"name\": \"color\", \"range\": \"category20\", \"type\": \"ordinal\"}], \"width\": 960}, function(chart) {\n",
        "      chart({el: \"#vis45095\"}).update();\n",
        "    });\n",
        "  };\n",
        "  _do_plot();\n",
        "})();\n"
       ],
       "metadata": {},
       "output_type": "display_data",
       "text": [
        "<IPython.core.display.Javascript at 0x10716b9d0>"
       ]
      }
     ],
     "prompt_number": 32
    },
    {
     "cell_type": "code",
     "collapsed": false,
     "input": [],
     "language": "python",
     "metadata": {},
     "outputs": [
      {
       "metadata": {},
       "output_type": "pyout",
       "prompt_number": 28,
       "text": [
        "'{\\n  \"axes\": [\\n    {\\n      \"scale\": \"x\",\\n      \"type\": \"x\"\\n    },\\n    {\\n      \"scale\": \"y\",\\n      \"type\": \"y\"\\n    }\\n  ],\\n  \"data\": [\\n    {\\n      \"name\": \"table\",\\n      \"values\": [\\n        {\\n          \"col\": \"salary\",\\n          \"idx\": 0.0,\\n          \"val\": 1987770.7481914302\\n        },\\n        {\\n          \"col\": \"salary\",\\n          \"idx\": 1.0,\\n          \"val\": 1672872.4805248051\\n        },\\n        {\\n          \"col\": \"salary\",\\n          \"idx\": 2.0,\\n          \"val\": 1550296.3690531536\\n        },\\n        {\\n          \"col\": \"salary\",\\n          \"idx\": 3.0,\\n          \"val\": 1572258.481841382\\n        },\\n        {\\n          \"col\": \"salary\",\\n          \"idx\": 4.0,\\n          \"val\": 1685101.006128953\\n        },\\n        {\\n          \"col\": \"salary\",\\n          \"idx\": 5.0,\\n          \"val\": 1803377.510369955\\n        },\\n        {\\n          \"col\": \"salary\",\\n          \"idx\": 6.0,\\n          \"val\": 1864961.1275023099\\n        },\\n        {\\n          \"col\": \"salary\",\\n          \"idx\": 7.0,\\n          \"val\": 2138700.65427303\\n        },\\n        {\\n          \"col\": \"salary\",\\n          \"idx\": 8.0,\\n          \"val\": 2419191.20979021\\n        },\\n        {\\n          \"col\": \"salary\",\\n          \"idx\": 9.0,\\n          \"val\": 2316747.420919975\\n        },\\n        {\\n          \"col\": \"salary\",\\n          \"idx\": 10.0,\\n          \"val\": 2409591.2640264025\\n        },\\n        {\\n          \"col\": \"salary\",\\n          \"idx\": 11.0,\\n          \"val\": 2534287.0471624774\\n        },\\n        {\\n          \"col\": \"salary\",\\n          \"idx\": 12.0,\\n          \"val\": 2739685.8337550606\\n        },\\n        {\\n          \"col\": \"salary\",\\n          \"idx\": 13.0,\\n          \"val\": 2756239.63378545\\n        },\\n        {\\n          \"col\": \"salary\",\\n          \"idx\": 14.0,\\n          \"val\": 2985031.7891031527\\n        },\\n        {\\n          \"col\": \"salary\",\\n          \"idx\": 15.0,\\n          \"val\": 3274266.525518604\\n        },\\n        {\\n          \"col\": \"salary\",\\n          \"idx\": 16.0,\\n          \"val\": 3208981.169831994\\n        },\\n        {\\n          \"col\": \"salary\",\\n          \"idx\": 17.0,\\n          \"val\": 3023742.3134087236\\n        },\\n        {\\n          \"col\": \"salary\",\\n          \"idx\": 18.0,\\n          \"val\": 3540630.2851694915\\n        },\\n        {\\n          \"col\": \"salary\",\\n          \"idx\": 19.0,\\n          \"val\": 3709052.3686920702\\n        },\\n        {\\n          \"col\": \"salary\",\\n          \"idx\": 20.0,\\n          \"val\": 3667509.184628596\\n        },\\n        {\\n          \"col\": \"salary\",\\n          \"idx\": 21.0,\\n          \"val\": 3671800.1105288235\\n        },\\n        {\\n          \"col\": \"salary\",\\n          \"idx\": 22.0,\\n          \"val\": 3897873.7397113843\\n        },\\n        {\\n          \"col\": \"salary\",\\n          \"idx\": 23.0,\\n          \"val\": 4164853.1328883497\\n        },\\n        {\\n          \"col\": \"salary\",\\n          \"idx\": 24.0,\\n          \"val\": 4068394.886631016\\n        },\\n        {\\n          \"col\": \"salary\",\\n          \"idx\": 25.0,\\n          \"val\": 4191195.4923822717\\n        },\\n        {\\n          \"col\": \"salary\",\\n          \"idx\": 26.0,\\n          \"val\": 4390420.805405405\\n        },\\n        {\\n          \"col\": \"salary\",\\n          \"idx\": 27.0,\\n          \"val\": 4214840.500341764\\n        },\\n        {\\n          \"col\": \"salary\",\\n          \"idx\": 28.0,\\n          \"val\": 4123435.3004048583\\n        },\\n        {\\n          \"col\": \"salary\",\\n          \"idx\": 29.0,\\n          \"val\": 4478288.751871658\\n        },\\n        {\\n          \"col\": \"salary\",\\n          \"idx\": 30.0,\\n          \"val\": 5550957.9581095595\\n        },\\n        {\\n          \"col\": \"salary\",\\n          \"idx\": 31.0,\\n          \"val\": 4877455.7920792075\\n        },\\n        {\\n          \"col\": \"salary\",\\n          \"idx\": 32.0,\\n          \"val\": 4782013.684430512\\n        },\\n        {\\n          \"col\": \"salary\",\\n          \"idx\": 33.0,\\n          \"val\": 6307902.28375\\n        },\\n        {\\n          \"col\": \"salary\",\\n          \"idx\": 34.0,\\n          \"val\": 5180152.652996846\\n        },\\n        {\\n          \"col\": \"salary\",\\n          \"idx\": 35.0,\\n          \"val\": 5940406.121163166\\n        },\\n        {\\n          \"col\": \"salary\",\\n          \"idx\": 36.0,\\n          \"val\": 6369653.230326296\\n        },\\n        {\\n          \"col\": \"salary\",\\n          \"idx\": 37.0,\\n          \"val\": 5647088.150462963\\n        },\\n        {\\n          \"col\": \"salary\",\\n          \"idx\": 38.0,\\n          \"val\": 6714347.6553106215\\n        },\\n        {\\n          \"col\": \"salary\",\\n          \"idx\": 39.0,\\n          \"val\": 6266839.970183486\\n        },\\n        {\\n          \"col\": \"salary\",\\n          \"idx\": 40.0,\\n          \"val\": 5640607.781553398\\n        },\\n        {\\n          \"col\": \"salary\",\\n          \"idx\": 41.0,\\n          \"val\": 7406961.958333333\\n        },\\n        {\\n          \"col\": \"salary\",\\n          \"idx\": 42.0,\\n          \"val\": 8119761.212121212\\n        },\\n        {\\n          \"col\": \"salary\",\\n          \"idx\": 43.0,\\n          \"val\": 6904449.522123894\\n        },\\n        {\\n          \"col\": \"salary\",\\n          \"idx\": 44.0,\\n          \"val\": 6137566.353846154\\n        },\\n        {\\n          \"col\": \"salary\",\\n          \"idx\": 45.0,\\n          \"val\": 7992890.617647059\\n        },\\n        {\\n          \"col\": \"salary\",\\n          \"idx\": 46.0,\\n          \"val\": 7003253.575757576\\n        },\\n        {\\n          \"col\": \"salary\",\\n          \"idx\": 47.0,\\n          \"val\": 7085326.865\\n        },\\n        {\\n          \"col\": \"salary\",\\n          \"idx\": 48.0,\\n          \"val\": 9797161.229885057\\n        },\\n        {\\n          \"col\": \"salary\",\\n          \"idx\": 49.0,\\n          \"val\": 7012880.133689839\\n        },\\n        {\\n          \"col\": \"salary\",\\n          \"idx\": 50.0,\\n          \"val\": 5797451.043478261\\n        },\\n        {\\n          \"col\": \"salary\",\\n          \"idx\": 51.0,\\n          \"val\": 5304117.586206896\\n        },\\n        {\\n          \"col\": \"salary\",\\n          \"idx\": 52.0,\\n          \"val\": 9469166.06557377\\n        },\\n        {\\n          \"col\": \"salary\",\\n          \"idx\": 53.0,\\n          \"val\": 1152185.0\\n        },\\n        {\\n          \"col\": \"salary\",\\n          \"idx\": 54.0,\\n          \"val\": 11900610.511627907\\n        },\\n        {\\n          \"col\": \"salary\",\\n          \"idx\": 56.0,\\n          \"val\": 6895621.909090909\\n        },\\n        {\\n          \"col\": \"salary\",\\n          \"idx\": 57.0,\\n          \"val\": 11073934.5\\n        },\\n        {\\n          \"col\": \"salary\",\\n          \"idx\": 58.0,\\n          \"val\": 13156875.0\\n        },\\n        {\\n          \"col\": \"salary\",\\n          \"idx\": 63.0,\\n          \"val\": 6892666.666666667\\n        },\\n        {\\n          \"col\": \"salary\",\\n          \"idx\": 64.0,\\n          \"val\": 6892666.666666667\\n        },\\n        {\\n          \"col\": \"salary\",\\n          \"idx\": 65.0,\\n          \"val\": 4668022.125\\n        },\\n        {\\n          \"col\": \"salary\",\\n          \"idx\": 66.0,\\n          \"val\": 6892666.666666667\\n        },\\n        {\\n          \"col\": \"salary\",\\n          \"idx\": 70.0,\\n          \"val\": 4668022.125\\n        },\\n        {\\n          \"col\": \"salary\",\\n          \"idx\": 73.0,\\n          \"val\": 8556605.545454545\\n        }\\n      ]\\n    }\\n  ],\\n  \"height\": 500,\\n  \"legends\": [],\\n  \"marks\": [\\n    {\\n      \"from\": {\\n        \"data\": \"table\",\\n        \"transform\": [\\n          {\\n            \"keys\": [\\n              \"data.col\"\\n            ],\\n            \"type\": \"facet\"\\n          }\\n        ]\\n      },\\n      \"marks\": [\\n        {\\n          \"properties\": {\\n            \"enter\": {\\n              \"fill\": {\\n                \"field\": \"data.col\",\\n                \"scale\": \"color\"\\n              },\\n              \"size\": {\\n                \"value\": 100\\n              },\\n              \"x\": {\\n                \"field\": \"data.idx\",\\n                \"scale\": \"x\"\\n              },\\n              \"y\": {\\n                \"field\": \"data.val\",\\n                \"scale\": \"y\"\\n              }\\n            }\\n          },\\n          \"type\": \"symbol\"\\n        }\\n      ],\\n      \"type\": \"group\"\\n    }\\n  ],\\n  \"padding\": \"auto\",\\n  \"scales\": [\\n    {\\n      \"domain\": {\\n        \"data\": \"table\",\\n        \"field\": \"data.idx\"\\n      },\\n      \"name\": \"x\",\\n      \"range\": \"width\",\\n      \"type\": \"linear\"\\n    },\\n    {\\n      \"domain\": {\\n        \"data\": \"table\",\\n        \"field\": \"data.val\"\\n      },\\n      \"name\": \"y\",\\n      \"nice\": true,\\n      \"range\": \"height\",\\n      \"type\": \"linear\"\\n    },\\n    {\\n      \"domain\": {\\n        \"data\": \"table\",\\n        \"field\": \"data.col\"\\n      },\\n      \"name\": \"color\",\\n      \"range\": \"category20\",\\n      \"type\": \"ordinal\"\\n    }\\n  ],\\n  \"width\": 960\\n}'"
       ]
      }
     ],
     "prompt_number": 28
    },
    {
     "cell_type": "code",
     "collapsed": false,
     "input": [],
     "language": "python",
     "metadata": {},
     "outputs": []
    }
   ],
   "metadata": {}
  }
 ]
}