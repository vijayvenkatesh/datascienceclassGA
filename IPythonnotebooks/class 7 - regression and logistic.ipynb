{
 "metadata": {
  "name": ""
 },
 "nbformat": 3,
 "nbformat_minor": 0,
 "worksheets": [
  {
   "cells": [
    {
     "cell_type": "code",
     "collapsed": false,
     "input": [
      "import pandas as pd\n",
      "data = pd.read_csv('/Users/vjbu/Google Drive/classes/datascience/GADS7/src/lesson03/train-utf8.csv')\n",
      "data.head()\n",
      "\n",
      "# Want to drive some features\n",
      "data['fuck'] = data.Comment.map(lambda x: 1 if 'fuck' in x else 0)\n",
      "#data['night'] = data.Date.map(lambda x: 1 if else 0)\n",
      "data['cunt'] = data.Comment.map(lambda x: 1 if 'cunt' in x.lower() else 0)\n",
      "data.head()"
     ],
     "language": "python",
     "metadata": {},
     "outputs": [
      {
       "html": [
        "<div style=\"max-height:1000px;max-width:1500px;overflow:auto;\">\n",
        "<table border=\"1\" class=\"dataframe\">\n",
        "  <thead>\n",
        "    <tr style=\"text-align: right;\">\n",
        "      <th></th>\n",
        "      <th>Insult</th>\n",
        "      <th>Date</th>\n",
        "      <th>Comment</th>\n",
        "      <th>fuck</th>\n",
        "      <th>cunt</th>\n",
        "    </tr>\n",
        "  </thead>\n",
        "  <tbody>\n",
        "    <tr>\n",
        "      <th>0</th>\n",
        "      <td> 1</td>\n",
        "      <td> 20120618192155Z</td>\n",
        "      <td>                                You fuck your dad.</td>\n",
        "      <td> 1</td>\n",
        "      <td> 0</td>\n",
        "    </tr>\n",
        "    <tr>\n",
        "      <th>1</th>\n",
        "      <td> 0</td>\n",
        "      <td> 20120528192215Z</td>\n",
        "      <td> i really don't understand your point.  It seem...</td>\n",
        "      <td> 0</td>\n",
        "      <td> 0</td>\n",
        "    </tr>\n",
        "    <tr>\n",
        "      <th>2</th>\n",
        "      <td> 0</td>\n",
        "      <td>             NaN</td>\n",
        "      <td> A majority of Canadians can and has been wrong...</td>\n",
        "      <td> 0</td>\n",
        "      <td> 0</td>\n",
        "    </tr>\n",
        "    <tr>\n",
        "      <th>3</th>\n",
        "      <td> 0</td>\n",
        "      <td>             NaN</td>\n",
        "      <td> listen if you dont wanna get married to a man ...</td>\n",
        "      <td> 0</td>\n",
        "      <td> 0</td>\n",
        "    </tr>\n",
        "    <tr>\n",
        "      <th>4</th>\n",
        "      <td> 0</td>\n",
        "      <td> 20120619094753Z</td>\n",
        "      <td> C\u00e1c b\u1ea1n xu\u1ed1ng \u0111\u01b0\u1eddng bi\u1ec3u t\u00ecnh 2011 c\u00f3 \u00f4n ho\u00e0 k...</td>\n",
        "      <td> 0</td>\n",
        "      <td> 0</td>\n",
        "    </tr>\n",
        "  </tbody>\n",
        "</table>\n",
        "</div>"
       ],
       "metadata": {},
       "output_type": "pyout",
       "prompt_number": 9,
       "text": [
        "   Insult             Date                                            Comment  fuck  cunt\n",
        "0       1  20120618192155Z                                 You fuck your dad.     1     0\n",
        "1       0  20120528192215Z  i really don't understand your point.  It seem...     0     0\n",
        "2       0              NaN  A majority of Canadians can and has been wrong...     0     0\n",
        "3       0              NaN  listen if you dont wanna get married to a man ...     0     0\n",
        "4       0  20120619094753Z  C\u00e1c b\u1ea1n xu\u1ed1ng \u0111\u01b0\u1eddng bi\u1ec3u t\u00ecnh 2011 c\u00f3 \u00f4n ho\u00e0 k...     0     0"
       ]
      }
     ],
     "prompt_number": 9
    },
    {
     "cell_type": "code",
     "collapsed": false,
     "input": [
      "# Build models - start with statsmodels\n",
      "import statsmodels.formula.api as sm\n"
     ],
     "language": "python",
     "metadata": {},
     "outputs": [],
     "prompt_number": 3
    },
    {
     "cell_type": "code",
     "collapsed": false,
     "input": [
      "model = sm.logit(\" Insult ~ fuck + cunt\", data).fit() # insult is dependent on the fuck column - fit the model\n",
      "model.summary()"
     ],
     "language": "python",
     "metadata": {},
     "outputs": [
      {
       "output_type": "stream",
       "stream": "stdout",
       "text": [
        "Optimization terminated successfully.\n",
        "         Current function value: 0.569625\n",
        "         Iterations 6\n"
       ]
      },
      {
       "html": [
        "<table class=\"simpletable\">\n",
        "<caption>Logit Regression Results</caption>\n",
        "<tr>\n",
        "  <th>Dep. Variable:</th>      <td>Insult</td>      <th>  No. Observations:  </th>  <td>  3947</td>  \n",
        "</tr>\n",
        "<tr>\n",
        "  <th>Model:</th>               <td>Logit</td>      <th>  Df Residuals:      </th>  <td>  3944</td>  \n",
        "</tr>\n",
        "<tr>\n",
        "  <th>Method:</th>               <td>MLE</td>       <th>  Df Model:          </th>  <td>     2</td>  \n",
        "</tr>\n",
        "<tr>\n",
        "  <th>Date:</th>          <td>Tue, 14 Jan 2014</td> <th>  Pseudo R-squ.:     </th>  <td>0.01620</td> \n",
        "</tr>\n",
        "<tr>\n",
        "  <th>Time:</th>              <td>20:12:56</td>     <th>  Log-Likelihood:    </th> <td> -2248.3</td> \n",
        "</tr>\n",
        "<tr>\n",
        "  <th>converged:</th>           <td>True</td>       <th>  LL-Null:           </th> <td> -2285.3</td> \n",
        "</tr>\n",
        "<tr>\n",
        "  <th> </th>                      <td> </td>        <th>  LLR p-value:       </th> <td>8.250e-17</td>\n",
        "</tr>\n",
        "</table>\n",
        "<table class=\"simpletable\">\n",
        "<tr>\n",
        "      <td></td>         <th>coef</th>     <th>std err</th>      <th>z</th>      <th>P>|z|</th> <th>[95.0% Conf. Int.]</th> \n",
        "</tr>\n",
        "<tr>\n",
        "  <th>Intercept</th> <td>   -1.1138</td> <td>    0.039</td> <td>  -28.775</td> <td> 0.000</td> <td>   -1.190    -1.038</td>\n",
        "</tr>\n",
        "<tr>\n",
        "  <th>fuck</th>      <td>    0.8573</td> <td>    0.114</td> <td>    7.495</td> <td> 0.000</td> <td>    0.633     1.081</td>\n",
        "</tr>\n",
        "<tr>\n",
        "  <th>cunt</th>      <td>    2.7642</td> <td>    1.059</td> <td>    2.611</td> <td> 0.009</td> <td>    0.689     4.839</td>\n",
        "</tr>\n",
        "</table>"
       ],
       "metadata": {},
       "output_type": "pyout",
       "prompt_number": 10,
       "text": [
        "<class 'statsmodels.iolib.summary.Summary'>\n",
        "\"\"\"\n",
        "                           Logit Regression Results                           \n",
        "==============================================================================\n",
        "Dep. Variable:                 Insult   No. Observations:                 3947\n",
        "Model:                          Logit   Df Residuals:                     3944\n",
        "Method:                           MLE   Df Model:                            2\n",
        "Date:                Tue, 14 Jan 2014   Pseudo R-squ.:                 0.01620\n",
        "Time:                        20:12:56   Log-Likelihood:                -2248.3\n",
        "converged:                       True   LL-Null:                       -2285.3\n",
        "                                        LLR p-value:                 8.250e-17\n",
        "==============================================================================\n",
        "                 coef    std err          z      P>|z|      [95.0% Conf. Int.]\n",
        "------------------------------------------------------------------------------\n",
        "Intercept     -1.1138      0.039    -28.775      0.000        -1.190    -1.038\n",
        "fuck           0.8573      0.114      7.495      0.000         0.633     1.081\n",
        "cunt           2.7642      1.059      2.611      0.009         0.689     4.839\n",
        "==============================================================================\n",
        "\"\"\""
       ]
      }
     ],
     "prompt_number": 10
    },
    {
     "cell_type": "code",
     "collapsed": false,
     "input": [
      "# e to the 0.9 times more likely to be an insult if it contains fuck\n",
      "# e to the ln(P(insult) / 1 -P(insult) = alpha + beta x = -1.1 + 0.9 (contains fuck)\n",
      "# Pseudo R squared - Going higher there is a better fit\n",
      "bad_words_file = open('/Users/vjbu/Google Drive/classes/datascience/GADS7/src/lesson07/google_badlist.txt')\n",
      "bad_words = set([word.strip() for word in bad_words_file.readlines() ] )"
     ],
     "language": "python",
     "metadata": {},
     "outputs": [],
     "prompt_number": 11
    },
    {
     "cell_type": "code",
     "collapsed": false,
     "input": [
      "#data['badwords'] = data.Comment.map(lambda x: 1 if x.split in bad_words else 0)\n",
      "data['badwords'] = data.Comment.map(lambda x: 1 if bad_words.intersection(set([word for word in x.lower().split()])) == 1 else 0)"
     ],
     "language": "python",
     "metadata": {},
     "outputs": [],
     "prompt_number": 23
    },
    {
     "cell_type": "code",
     "collapsed": false,
     "input": [
      "data.head()"
     ],
     "language": "python",
     "metadata": {},
     "outputs": [
      {
       "html": [
        "<div style=\"max-height:1000px;max-width:1500px;overflow:auto;\">\n",
        "<table border=\"1\" class=\"dataframe\">\n",
        "  <thead>\n",
        "    <tr style=\"text-align: right;\">\n",
        "      <th></th>\n",
        "      <th>Insult</th>\n",
        "      <th>Date</th>\n",
        "      <th>Comment</th>\n",
        "      <th>fuck</th>\n",
        "      <th>cunt</th>\n",
        "      <th>badwords</th>\n",
        "    </tr>\n",
        "  </thead>\n",
        "  <tbody>\n",
        "    <tr>\n",
        "      <th>0</th>\n",
        "      <td> 1</td>\n",
        "      <td> 20120618192155Z</td>\n",
        "      <td>                                You fuck your dad.</td>\n",
        "      <td> 1</td>\n",
        "      <td> 0</td>\n",
        "      <td> 0</td>\n",
        "    </tr>\n",
        "    <tr>\n",
        "      <th>1</th>\n",
        "      <td> 0</td>\n",
        "      <td> 20120528192215Z</td>\n",
        "      <td> i really don't understand your point.  It seem...</td>\n",
        "      <td> 0</td>\n",
        "      <td> 0</td>\n",
        "      <td> 0</td>\n",
        "    </tr>\n",
        "    <tr>\n",
        "      <th>2</th>\n",
        "      <td> 0</td>\n",
        "      <td>             NaN</td>\n",
        "      <td> A majority of Canadians can and has been wrong...</td>\n",
        "      <td> 0</td>\n",
        "      <td> 0</td>\n",
        "      <td> 0</td>\n",
        "    </tr>\n",
        "    <tr>\n",
        "      <th>3</th>\n",
        "      <td> 0</td>\n",
        "      <td>             NaN</td>\n",
        "      <td> listen if you dont wanna get married to a man ...</td>\n",
        "      <td> 0</td>\n",
        "      <td> 0</td>\n",
        "      <td> 0</td>\n",
        "    </tr>\n",
        "    <tr>\n",
        "      <th>4</th>\n",
        "      <td> 0</td>\n",
        "      <td> 20120619094753Z</td>\n",
        "      <td> C\u00e1c b\u1ea1n xu\u1ed1ng \u0111\u01b0\u1eddng bi\u1ec3u t\u00ecnh 2011 c\u00f3 \u00f4n ho\u00e0 k...</td>\n",
        "      <td> 0</td>\n",
        "      <td> 0</td>\n",
        "      <td> 0</td>\n",
        "    </tr>\n",
        "  </tbody>\n",
        "</table>\n",
        "</div>"
       ],
       "metadata": {},
       "output_type": "pyout",
       "prompt_number": 24,
       "text": [
        "   Insult             Date                                            Comment  fuck  cunt  badwords\n",
        "0       1  20120618192155Z                                 You fuck your dad.     1     0         0\n",
        "1       0  20120528192215Z  i really don't understand your point.  It seem...     0     0         0\n",
        "2       0              NaN  A majority of Canadians can and has been wrong...     0     0         0\n",
        "3       0              NaN  listen if you dont wanna get married to a man ...     0     0         0\n",
        "4       0  20120619094753Z  C\u00e1c b\u1ea1n xu\u1ed1ng \u0111\u01b0\u1eddng bi\u1ec3u t\u00ecnh 2011 c\u00f3 \u00f4n ho\u00e0 k...     0     0         0"
       ]
      }
     ],
     "prompt_number": 24
    },
    {
     "cell_type": "code",
     "collapsed": false,
     "input": [
      "from sklearn import linear_model\n",
      "from sklearn.feature_extraction.text import CountVectorizer\n",
      "from sklearn.cross_validation import cross_val_score\n",
      "\n",
      "v = CountVectorizer() # Turns text into a matrix of each column being a word and each cell being binary yes/no\n",
      "v.fit(data.Comment) # Learns the columns\n",
      "#print  v.get_feature_names() # Every word is a column len gives you number of columns\n",
      "X = v.transform(data.Comment)\n",
      "\n",
      "\n",
      "#print X # Sparse representation (Row 0, word 3501 - presence is 0). (Row 1, word 5569 - presence is 1)\n",
      "#model = linear_model.LogisticRegression(penalty='l1', C = .01) #More regularization means making C very small. Less means making it big\n",
      "\n",
      "model = linear_model.LogisticRegression() # default is L2 with high seed value\n",
      "\n",
      "# penalty = L1 - by detault\n",
      "#model.fit(X,y)\n",
      "\n",
      "\n",
      "#cross_val_score(model, X, data.Insult) # Splits into 3 buckets. 2 test, 1 train and cycles. Mean should predict. Look at this number\n",
      "\n",
      "model.fit(X, data.Insult)\n",
      "print sorted(zip(model.coef_[0], v.get_feature_names()), reverse=True)[:10]\n",
      "    \n",
      "#model.score(X,data.Insult) # Score is the accuracy of the model. % of times we accurately predict the model\n",
      "# Higher the C; more overfitting. Better score\n",
      "\n",
      "# missing test / train - missing CV"
     ],
     "language": "python",
     "metadata": {},
     "outputs": [
      {
       "output_type": "stream",
       "stream": "stdout",
       "text": [
        "[(2.8572161670725666, u'moron'), (2.8391763932404648, u'idiot'), (2.7137709195980859, u'dumb'), (2.4491663051684203, u'faggot'), (2.4015226951135347, u'loser'), (1.7737888957777215, u'stupid'), (1.6996645627581162, u'fool'), (1.6785637966894147, u'shut'), (1.6480207791177475, u'retarded'), (1.6399363491589118, u'bitch')]\n"
       ]
      }
     ],
     "prompt_number": 29
    },
    {
     "cell_type": "code",
     "collapsed": false,
     "input": [
      "v = CountVectorizer(binary=False, stop_words='english', ngram_range=(1,3)) # Turns text into a matrix of each column being a word and each cell being binary yes/no\n",
      "# v = CountVectorizer(binary=False, ngram_range=(1,6), analyzer=\"char_wb\")\n",
      "v.fit(data.Comment) # Learns the columns\n",
      "#print  v.get_feature_names() # Every word is a column len gives you number of columns\n",
      "X = v.transform(data.Comment)\n",
      "\n",
      "\n",
      "#print X # Sparse representation (Row 0, word 3501 - presence is 0). (Row 1, word 5569 - presence is 1)\n",
      "#model = linear_model.LogisticRegression(penalty='l1', C = .01) #More regularization means making C very small. Less means making it big\n",
      "\n",
      "model = linear_model.LogisticRegression(penalty='l1',C=100) # default is L2 with high seed value\n",
      "\n",
      "# penalty = L1 - by detault\n",
      "#model.fit(X,y)\n",
      "\n",
      "\n",
      "#cross_val_score(model, X, data.Insult) # Splits into 3 buckets. 2 test, 1 train and cycles. Mean should predict. Look at this number\n",
      "\n",
      "model.fit(X, data.Insult)\n",
      "\n",
      "print len( [ x for x in model.coef_[0] if x> 0]) # length of non zero features\n",
      "#print sorted(zip(model.coef_[0], v.get_feature_names()), reverse=True)[:10]\n",
      "print [(x,y) for (x,y) in zip(model.coef_[0], v.get_feature_names()) if x>0] [:10]    \n",
      "#model.score(X,data.Insult) # Score is the accuracy of the model. % of times we accurately predict the model\n",
      "# Higher the C; more overfitting. Better score\n",
      "\n",
      "# missing test / train - missing CV\n",
      "print cross_val_score(model, X, data.Insult) \n",
      "# Scoring flag different scoring metrics other than accuracy\n",
      "print cross_val_score(model, X, data.Insult, scoring='roc_auc')"
     ],
     "language": "python",
     "metadata": {},
     "outputs": [
      {
       "output_type": "stream",
       "stream": "stdout",
       "text": [
        "2422\n",
        "[(2.1497504399390097, u'10 years'), (0.34172746312251312, u'100 niggers'), (0.65033995349812668, u'100 niggers crackers'), (0.59044142757015239, u'12 knicks'), (0.83531681116129153, u'12 knicks fan'), (0.59269506748540446, u'2ne1'), (8.5800587495792708, u'45'), (0.009087281468096859, u'56'), (1.1054700924226888, u'90 genes'), (0.21023429731173454, u'90 genes shared')]"
       ]
      },
      {
       "output_type": "stream",
       "stream": "stdout",
       "text": [
        "\n",
        "[ 0.80395137  0.81838906  0.81749049]"
       ]
      },
      {
       "output_type": "stream",
       "stream": "stdout",
       "text": [
        "\n",
        "[ 0.8188184   0.79545105  0.81455742]"
       ]
      },
      {
       "output_type": "stream",
       "stream": "stdout",
       "text": [
        "\n"
       ]
      }
     ],
     "prompt_number": 41
    },
    {
     "cell_type": "code",
     "collapsed": false,
     "input": [
      "model.score(X, data.Insult)"
     ],
     "language": "python",
     "metadata": {},
     "outputs": [
      {
       "metadata": {},
       "output_type": "pyout",
       "prompt_number": 40,
       "text": [
        "0.99847985812009121"
       ]
      }
     ],
     "prompt_number": 40
    },
    {
     "cell_type": "code",
     "collapsed": false,
     "input": [
      "# Use existing vectorizer to transform a new string in array format\n",
      "model.predict(v.transform([\"Comment moron moron moron from the website is an insult\"]))\n",
      "model.predict_proba(v.transform([\"Comment from the website is an insult\"]))"
     ],
     "language": "python",
     "metadata": {},
     "outputs": [
      {
       "metadata": {},
       "output_type": "pyout",
       "prompt_number": 50,
       "text": [
        "array([[ 0.06816981,  0.93183019]])"
       ]
      }
     ],
     "prompt_number": 50
    },
    {
     "cell_type": "code",
     "collapsed": false,
     "input": [],
     "language": "python",
     "metadata": {},
     "outputs": []
    }
   ],
   "metadata": {}
  }
 ]
}