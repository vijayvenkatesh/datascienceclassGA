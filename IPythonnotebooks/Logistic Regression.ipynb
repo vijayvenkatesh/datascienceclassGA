{
 "metadata": {
  "name": ""
 },
 "nbformat": 3,
 "nbformat_minor": 0,
 "worksheets": [
  {
   "cells": [
    {
     "cell_type": "code",
     "collapsed": false,
     "input": [
      "import pandas as pd\n",
      "\n",
      "data =pd.read_csv('Dropbox/src/GADS7/src/lesson03/train-utf8.csv')\n",
      "\n",
      "data['fuck'] = data.Comment.map( lambda x : 1 if 'fuck' in x else 0 )\n",
      "data['cunt'] = data.Comment.map( lambda x : 1 if 'cunt' in x.lower() else 0)\n"
     ],
     "language": "python",
     "metadata": {},
     "outputs": [],
     "prompt_number": 1
    },
    {
     "cell_type": "code",
     "collapsed": false,
     "input": [
      "data.head()"
     ],
     "language": "python",
     "metadata": {},
     "outputs": [
      {
       "html": [
        "<div style=\"max-height:1000px;max-width:1500px;overflow:auto;\">\n",
        "<table border=\"1\" class=\"dataframe\">\n",
        "  <thead>\n",
        "    <tr style=\"text-align: right;\">\n",
        "      <th></th>\n",
        "      <th>Insult</th>\n",
        "      <th>Date</th>\n",
        "      <th>Comment</th>\n",
        "      <th>fuck</th>\n",
        "      <th>cunt</th>\n",
        "    </tr>\n",
        "  </thead>\n",
        "  <tbody>\n",
        "    <tr>\n",
        "      <th>0</th>\n",
        "      <td> 1</td>\n",
        "      <td> 20120618192155Z</td>\n",
        "      <td>                                You fuck your dad.</td>\n",
        "      <td> 1</td>\n",
        "      <td> 0</td>\n",
        "    </tr>\n",
        "    <tr>\n",
        "      <th>1</th>\n",
        "      <td> 0</td>\n",
        "      <td> 20120528192215Z</td>\n",
        "      <td> i really don't understand your point.  It seem...</td>\n",
        "      <td> 0</td>\n",
        "      <td> 0</td>\n",
        "    </tr>\n",
        "    <tr>\n",
        "      <th>2</th>\n",
        "      <td> 0</td>\n",
        "      <td>             NaN</td>\n",
        "      <td> A majority of Canadians can and has been wrong...</td>\n",
        "      <td> 0</td>\n",
        "      <td> 0</td>\n",
        "    </tr>\n",
        "    <tr>\n",
        "      <th>3</th>\n",
        "      <td> 0</td>\n",
        "      <td>             NaN</td>\n",
        "      <td> listen if you dont wanna get married to a man ...</td>\n",
        "      <td> 0</td>\n",
        "      <td> 0</td>\n",
        "    </tr>\n",
        "    <tr>\n",
        "      <th>4</th>\n",
        "      <td> 0</td>\n",
        "      <td> 20120619094753Z</td>\n",
        "      <td> C\u00e1c b\u1ea1n xu\u1ed1ng \u0111\u01b0\u1eddng bi\u1ec3u t\u00ecnh 2011 c\u00f3 \u00f4n ho\u00e0 k...</td>\n",
        "      <td> 0</td>\n",
        "      <td> 0</td>\n",
        "    </tr>\n",
        "  </tbody>\n",
        "</table>\n",
        "</div>"
       ],
       "metadata": {},
       "output_type": "pyout",
       "prompt_number": 2,
       "text": [
        "   Insult             Date                                            Comment  fuck  cunt\n",
        "0       1  20120618192155Z                                 You fuck your dad.     1     0\n",
        "1       0  20120528192215Z  i really don't understand your point.  It seem...     0     0\n",
        "2       0              NaN  A majority of Canadians can and has been wrong...     0     0\n",
        "3       0              NaN  listen if you dont wanna get married to a man ...     0     0\n",
        "4       0  20120619094753Z  C\u00e1c b\u1ea1n xu\u1ed1ng \u0111\u01b0\u1eddng bi\u1ec3u t\u00ecnh 2011 c\u00f3 \u00f4n ho\u00e0 k...     0     0"
       ]
      }
     ],
     "prompt_number": 2
    },
    {
     "cell_type": "code",
     "collapsed": false,
     "input": [
      "import statsmodels.formula.api as sm"
     ],
     "language": "python",
     "metadata": {},
     "outputs": [],
     "prompt_number": 4
    },
    {
     "cell_type": "code",
     "collapsed": false,
     "input": [
      "model = sm.logit(\" Insult ~ fuck + cunt\" , data).fit()\n",
      "model.summary()"
     ],
     "language": "python",
     "metadata": {},
     "outputs": [
      {
       "output_type": "stream",
       "stream": "stdout",
       "text": [
        "Optimization terminated successfully.\n",
        "         Current function value: 0.569625\n",
        "         Iterations 6\n"
       ]
      },
      {
       "html": [
        "<table class=\"simpletable\">\n",
        "<caption>Logit Regression Results</caption>\n",
        "<tr>\n",
        "  <th>Dep. Variable:</th>      <td>Insult</td>      <th>  No. Observations:  </th>  <td>  3947</td>  \n",
        "</tr>\n",
        "<tr>\n",
        "  <th>Model:</th>               <td>Logit</td>      <th>  Df Residuals:      </th>  <td>  3944</td>  \n",
        "</tr>\n",
        "<tr>\n",
        "  <th>Method:</th>               <td>MLE</td>       <th>  Df Model:          </th>  <td>     2</td>  \n",
        "</tr>\n",
        "<tr>\n",
        "  <th>Date:</th>          <td>Tue, 14 Jan 2014</td> <th>  Pseudo R-squ.:     </th>  <td>0.01620</td> \n",
        "</tr>\n",
        "<tr>\n",
        "  <th>Time:</th>              <td>20:12:32</td>     <th>  Log-Likelihood:    </th> <td> -2248.3</td> \n",
        "</tr>\n",
        "<tr>\n",
        "  <th>converged:</th>           <td>True</td>       <th>  LL-Null:           </th> <td> -2285.3</td> \n",
        "</tr>\n",
        "<tr>\n",
        "  <th> </th>                      <td> </td>        <th>  LLR p-value:       </th> <td>8.250e-17</td>\n",
        "</tr>\n",
        "</table>\n",
        "<table class=\"simpletable\">\n",
        "<tr>\n",
        "      <td></td>         <th>coef</th>     <th>std err</th>      <th>z</th>      <th>P>|z|</th> <th>[95.0% Conf. Int.]</th> \n",
        "</tr>\n",
        "<tr>\n",
        "  <th>Intercept</th> <td>   -1.1138</td> <td>    0.039</td> <td>  -28.775</td> <td> 0.000</td> <td>   -1.190    -1.038</td>\n",
        "</tr>\n",
        "<tr>\n",
        "  <th>fuck</th>      <td>    0.8573</td> <td>    0.114</td> <td>    7.495</td> <td> 0.000</td> <td>    0.633     1.081</td>\n",
        "</tr>\n",
        "<tr>\n",
        "  <th>cunt</th>      <td>    2.7642</td> <td>    1.059</td> <td>    2.611</td> <td> 0.009</td> <td>    0.689     4.839</td>\n",
        "</tr>\n",
        "</table>"
       ],
       "metadata": {},
       "output_type": "pyout",
       "prompt_number": 5,
       "text": [
        "<class 'statsmodels.iolib.summary.Summary'>\n",
        "\"\"\"\n",
        "                           Logit Regression Results                           \n",
        "==============================================================================\n",
        "Dep. Variable:                 Insult   No. Observations:                 3947\n",
        "Model:                          Logit   Df Residuals:                     3944\n",
        "Method:                           MLE   Df Model:                            2\n",
        "Date:                Tue, 14 Jan 2014   Pseudo R-squ.:                 0.01620\n",
        "Time:                        20:12:32   Log-Likelihood:                -2248.3\n",
        "converged:                       True   LL-Null:                       -2285.3\n",
        "                                        LLR p-value:                 8.250e-17\n",
        "==============================================================================\n",
        "                 coef    std err          z      P>|z|      [95.0% Conf. Int.]\n",
        "------------------------------------------------------------------------------\n",
        "Intercept     -1.1138      0.039    -28.775      0.000        -1.190    -1.038\n",
        "fuck           0.8573      0.114      7.495      0.000         0.633     1.081\n",
        "cunt           2.7642      1.059      2.611      0.009         0.689     4.839\n",
        "==============================================================================\n",
        "\"\"\""
       ]
      }
     ],
     "prompt_number": 5
    },
    {
     "cell_type": "code",
     "collapsed": false,
     "input": [
      "bad_words_file = open('Dropbox/src/GADS7/src/lesson07/google_badlist.txt')\n",
      "\n",
      "bad_words = set( [ word.strip() for word in bad_words_file.readlines() ] )\n"
     ],
     "language": "python",
     "metadata": {},
     "outputs": [],
     "prompt_number": 7
    },
    {
     "cell_type": "code",
     "collapsed": false,
     "input": [
      "data['badwords'] = data.Comment.map( lambda x: 1 if bad_words.intersection(set( [word for word in x.lower().split()])) else 0)"
     ],
     "language": "python",
     "metadata": {},
     "outputs": [],
     "prompt_number": 8
    },
    {
     "cell_type": "code",
     "collapsed": false,
     "input": [
      "model = sm.logit(\" Insult ~ badwords + fuck + cunt\" , data).fit()\n",
      "model.summary()\n",
      "\n",
      "dmatrices(\"sdffgr\")"
     ],
     "language": "python",
     "metadata": {},
     "outputs": [
      {
       "output_type": "stream",
       "stream": "stdout",
       "text": [
        "Optimization terminated successfully.\n",
        "         Current function value: 0.561294\n",
        "         Iterations 6\n"
       ]
      },
      {
       "html": [
        "<table class=\"simpletable\">\n",
        "<caption>Logit Regression Results</caption>\n",
        "<tr>\n",
        "  <th>Dep. Variable:</th>      <td>Insult</td>      <th>  No. Observations:  </th>  <td>  3947</td>  \n",
        "</tr>\n",
        "<tr>\n",
        "  <th>Model:</th>               <td>Logit</td>      <th>  Df Residuals:      </th>  <td>  3943</td>  \n",
        "</tr>\n",
        "<tr>\n",
        "  <th>Method:</th>               <td>MLE</td>       <th>  Df Model:          </th>  <td>     3</td>  \n",
        "</tr>\n",
        "<tr>\n",
        "  <th>Date:</th>          <td>Tue, 14 Jan 2014</td> <th>  Pseudo R-squ.:     </th>  <td>0.03059</td> \n",
        "</tr>\n",
        "<tr>\n",
        "  <th>Time:</th>              <td>20:25:22</td>     <th>  Log-Likelihood:    </th> <td> -2215.4</td> \n",
        "</tr>\n",
        "<tr>\n",
        "  <th>converged:</th>           <td>True</td>       <th>  LL-Null:           </th> <td> -2285.3</td> \n",
        "</tr>\n",
        "<tr>\n",
        "  <th> </th>                      <td> </td>        <th>  LLR p-value:       </th> <td>4.107e-30</td>\n",
        "</tr>\n",
        "</table>\n",
        "<table class=\"simpletable\">\n",
        "<tr>\n",
        "      <td></td>         <th>coef</th>     <th>std err</th>      <th>z</th>      <th>P>|z|</th> <th>[95.0% Conf. Int.]</th> \n",
        "</tr>\n",
        "<tr>\n",
        "  <th>Intercept</th> <td>   -1.2346</td> <td>    0.042</td> <td>  -29.132</td> <td> 0.000</td> <td>   -1.318    -1.152</td>\n",
        "</tr>\n",
        "<tr>\n",
        "  <th>badwords</th>  <td>    0.8369</td> <td>    0.101</td> <td>    8.269</td> <td> 0.000</td> <td>    0.639     1.035</td>\n",
        "</tr>\n",
        "<tr>\n",
        "  <th>fuck</th>      <td>    0.2466</td> <td>    0.137</td> <td>    1.803</td> <td> 0.071</td> <td>   -0.022     0.515</td>\n",
        "</tr>\n",
        "<tr>\n",
        "  <th>cunt</th>      <td>    2.7309</td> <td>    1.063</td> <td>    2.568</td> <td> 0.010</td> <td>    0.647     4.815</td>\n",
        "</tr>\n",
        "</table>"
       ],
       "metadata": {},
       "output_type": "pyout",
       "prompt_number": 10,
       "text": [
        "<class 'statsmodels.iolib.summary.Summary'>\n",
        "\"\"\"\n",
        "                           Logit Regression Results                           \n",
        "==============================================================================\n",
        "Dep. Variable:                 Insult   No. Observations:                 3947\n",
        "Model:                          Logit   Df Residuals:                     3943\n",
        "Method:                           MLE   Df Model:                            3\n",
        "Date:                Tue, 14 Jan 2014   Pseudo R-squ.:                 0.03059\n",
        "Time:                        20:25:22   Log-Likelihood:                -2215.4\n",
        "converged:                       True   LL-Null:                       -2285.3\n",
        "                                        LLR p-value:                 4.107e-30\n",
        "==============================================================================\n",
        "                 coef    std err          z      P>|z|      [95.0% Conf. Int.]\n",
        "------------------------------------------------------------------------------\n",
        "Intercept     -1.2346      0.042    -29.132      0.000        -1.318    -1.152\n",
        "badwords       0.8369      0.101      8.269      0.000         0.639     1.035\n",
        "fuck           0.2466      0.137      1.803      0.071        -0.022     0.515\n",
        "cunt           2.7309      1.063      2.568      0.010         0.647     4.815\n",
        "==============================================================================\n",
        "\"\"\""
       ]
      }
     ],
     "prompt_number": 10
    },
    {
     "cell_type": "code",
     "collapsed": false,
     "input": [
      "from sklearn import linear_model\n",
      "from sklearn.feature_extraction.text import CountVectorizer\n",
      "from sklearn.cross_validation import cross_val_score\n",
      "\n",
      "v = CountVectorizer(binary=False, ngram_range=(1,6),analyzer=\"char_wb\")\n",
      "?CountVectorizer\n",
      "v.fit(data.Comment)\n",
      "#print len(v.get_feature_names())\n",
      "X = v.transform(data.Comment)\n",
      "\n",
      "#print X\n",
      "\n",
      "\n",
      "model = linear_model.LogisticRegression(penalty='l1', C=100)\n",
      "\n",
      "cross_val_score(model, X, data.Insult)\n",
      "# model.fit(X, data.Insult)\n",
      "# # print [ (x, y) for (x,y) in zip(model.coef_[0], v.get_feature_names()) if x> 0] \n",
      "# # #print sorted(zip(model.coef_[0], v.get_feature_names()), reverse=True)[:10]\n",
      "# model.score(X, data.Insult) # Accuracy = % correct\n",
      "# #?cross_val_score\n",
      "# #print cross_val_score(model, X, data.Insult, scoring='roc_auc')\n"
     ],
     "language": "python",
     "metadata": {},
     "outputs": [
      {
       "metadata": {},
       "output_type": "pyout",
       "prompt_number": 67,
       "text": [
        "array([ 0.8168693 ,  0.81382979,  0.80912548])"
       ]
      }
     ],
     "prompt_number": 67
    },
    {
     "cell_type": "code",
     "collapsed": false,
     "input": [
      "?CountVectorizer"
     ],
     "language": "python",
     "metadata": {},
     "outputs": [],
     "prompt_number": 36
    },
    {
     "cell_type": "code",
     "collapsed": false,
     "input": [],
     "language": "python",
     "metadata": {},
     "outputs": [],
     "prompt_number": 19
    },
    {
     "cell_type": "code",
     "collapsed": false,
     "input": [],
     "language": "python",
     "metadata": {},
     "outputs": []
    }
   ],
   "metadata": {}
  }
 ]
}