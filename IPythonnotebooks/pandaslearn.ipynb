{
 "metadata": {
  "name": ""
 },
 "nbformat": 3,
 "nbformat_minor": 0,
 "worksheets": [
  {
   "cells": [
    {
     "cell_type": "code",
     "collapsed": false,
     "input": [
      "from pandas import DataFrame"
     ],
     "language": "python",
     "metadata": {},
     "outputs": [],
     "prompt_number": 1
    },
    {
     "cell_type": "code",
     "collapsed": false,
     "input": [
      "# create some data\n",
      "d = [[1,0],[0,0]]\n",
      "d"
     ],
     "language": "python",
     "metadata": {},
     "outputs": [
      {
       "metadata": {},
       "output_type": "pyout",
       "prompt_number": 2,
       "text": [
        "[[1, 0], [0, 0]]"
       ]
      }
     ],
     "prompt_number": 2
    },
    {
     "cell_type": "code",
     "collapsed": false,
     "input": [
      "# create data frame\n",
      "frm = DataFrame(data=d)\n",
      "frm"
     ],
     "language": "python",
     "metadata": {},
     "outputs": [
      {
       "html": [
        "<div style=\"max-height:1000px;max-width:1500px;overflow:auto;\">\n",
        "<table border=\"1\" class=\"dataframe\">\n",
        "  <thead>\n",
        "    <tr style=\"text-align: right;\">\n",
        "      <th></th>\n",
        "      <th>0</th>\n",
        "      <th>1</th>\n",
        "    </tr>\n",
        "  </thead>\n",
        "  <tbody>\n",
        "    <tr>\n",
        "      <th>0</th>\n",
        "      <td> 1</td>\n",
        "      <td> 0</td>\n",
        "    </tr>\n",
        "    <tr>\n",
        "      <th>1</th>\n",
        "      <td> 0</td>\n",
        "      <td> 0</td>\n",
        "    </tr>\n",
        "  </tbody>\n",
        "</table>\n",
        "</div>"
       ],
       "metadata": {},
       "output_type": "pyout",
       "prompt_number": 5,
       "text": [
        "   0  1\n",
        "0  1  0\n",
        "1  0  0"
       ]
      }
     ],
     "prompt_number": 5
    },
    {
     "cell_type": "code",
     "collapsed": false,
     "input": [
      "ans=[[0,1],[0,0]]\n",
      "frm_ans = DataFrame(data = ans)\n",
      "frm_ans"
     ],
     "language": "python",
     "metadata": {},
     "outputs": [
      {
       "html": [
        "<div style=\"max-height:1000px;max-width:1500px;overflow:auto;\">\n",
        "<table border=\"1\" class=\"dataframe\">\n",
        "  <thead>\n",
        "    <tr style=\"text-align: right;\">\n",
        "      <th></th>\n",
        "      <th>0</th>\n",
        "      <th>1</th>\n",
        "    </tr>\n",
        "  </thead>\n",
        "  <tbody>\n",
        "    <tr>\n",
        "      <th>0</th>\n",
        "      <td> 0</td>\n",
        "      <td> 1</td>\n",
        "    </tr>\n",
        "    <tr>\n",
        "      <th>1</th>\n",
        "      <td> 0</td>\n",
        "      <td> 0</td>\n",
        "    </tr>\n",
        "  </tbody>\n",
        "</table>\n",
        "</div>"
       ],
       "metadata": {},
       "output_type": "pyout",
       "prompt_number": 7,
       "text": [
        "   0  1\n",
        "0  0  1\n",
        "1  0  0"
       ]
      }
     ],
     "prompt_number": 7
    },
    {
     "cell_type": "code",
     "collapsed": false,
     "input": [
      "from pandas import DataFrame, read_csv\n",
      "import matplotlib.pyplot as plt\n",
      "import pandas as pd"
     ],
     "language": "python",
     "metadata": {},
     "outputs": [],
     "prompt_number": 8
    },
    {
     "cell_type": "code",
     "collapsed": false,
     "input": [
      "print 'Pandas' +pd.__version__"
     ],
     "language": "python",
     "metadata": {},
     "outputs": [
      {
       "output_type": "stream",
       "stream": "stdout",
       "text": [
        "Pandas0.12.0\n"
       ]
      }
     ],
     "prompt_number": 9
    },
    {
     "cell_type": "code",
     "collapsed": false,
     "input": [
      "names =  ['vijay','harini','john','krishna']\n",
      "births = [976,978,977, 013]"
     ],
     "language": "python",
     "metadata": {},
     "outputs": [],
     "prompt_number": 11
    },
    {
     "cell_type": "code",
     "collapsed": false,
     "input": [
      "names\n",
      "births\n"
     ],
     "language": "python",
     "metadata": {},
     "outputs": [
      {
       "metadata": {},
       "output_type": "pyout",
       "prompt_number": 12,
       "text": [
        "[976, 978, 977, 11]"
       ]
      }
     ],
     "prompt_number": 12
    },
    {
     "cell_type": "code",
     "collapsed": false,
     "input": [
      "names"
     ],
     "language": "python",
     "metadata": {},
     "outputs": [
      {
       "metadata": {},
       "output_type": "pyout",
       "prompt_number": 13,
       "text": [
        "['vijay', 'harini', 'john', 'krishna']"
       ]
      }
     ],
     "prompt_number": 13
    },
    {
     "cell_type": "code",
     "collapsed": false,
     "input": [
      "zip?"
     ],
     "language": "python",
     "metadata": {},
     "outputs": [],
     "prompt_number": 14
    },
    {
     "cell_type": "code",
     "collapsed": false,
     "input": [
      "BabyDataSet = zip(names, births)\n",
      "print BabyDataSet"
     ],
     "language": "python",
     "metadata": {},
     "outputs": [
      {
       "output_type": "stream",
       "stream": "stdout",
       "text": [
        "[('vijay', 976), ('harini', 978), ('john', 977), ('krishna', 11)]\n"
       ]
      }
     ],
     "prompt_number": 15
    },
    {
     "cell_type": "code",
     "collapsed": false,
     "input": [
      "df = DataFrame(data = BabyDataSet, columns=['Names','Birthyear'])\n",
      "df"
     ],
     "language": "python",
     "metadata": {},
     "outputs": [
      {
       "html": [
        "<div style=\"max-height:1000px;max-width:1500px;overflow:auto;\">\n",
        "<table border=\"1\" class=\"dataframe\">\n",
        "  <thead>\n",
        "    <tr style=\"text-align: right;\">\n",
        "      <th></th>\n",
        "      <th>Names</th>\n",
        "      <th>Birthyear</th>\n",
        "    </tr>\n",
        "  </thead>\n",
        "  <tbody>\n",
        "    <tr>\n",
        "      <th>0</th>\n",
        "      <td>   vijay</td>\n",
        "      <td> 976</td>\n",
        "    </tr>\n",
        "    <tr>\n",
        "      <th>1</th>\n",
        "      <td>  harini</td>\n",
        "      <td> 978</td>\n",
        "    </tr>\n",
        "    <tr>\n",
        "      <th>2</th>\n",
        "      <td>    john</td>\n",
        "      <td> 977</td>\n",
        "    </tr>\n",
        "    <tr>\n",
        "      <th>3</th>\n",
        "      <td> krishna</td>\n",
        "      <td>  11</td>\n",
        "    </tr>\n",
        "  </tbody>\n",
        "</table>\n",
        "</div>"
       ],
       "metadata": {},
       "output_type": "pyout",
       "prompt_number": 17,
       "text": [
        "     Names  Birthyear\n",
        "0    vijay        976\n",
        "1   harini        978\n",
        "2     john        977\n",
        "3  krishna         11"
       ]
      }
     ],
     "prompt_number": 17
    },
    {
     "cell_type": "code",
     "collapsed": false,
     "input": [
      "df.to_csv?\n"
     ],
     "language": "python",
     "metadata": {},
     "outputs": [],
     "prompt_number": 20
    },
    {
     "cell_type": "code",
     "collapsed": false,
     "input": [
      "df.to_csv('births.csv',index=False,header=False)"
     ],
     "language": "python",
     "metadata": {},
     "outputs": [],
     "prompt_number": 33
    },
    {
     "cell_type": "code",
     "collapsed": false,
     "input": [
      "read_csv('births.csv', names=['Names','Births'])\n"
     ],
     "language": "python",
     "metadata": {},
     "outputs": [
      {
       "html": [
        "<div style=\"max-height:1000px;max-width:1500px;overflow:auto;\">\n",
        "<table border=\"1\" class=\"dataframe\">\n",
        "  <thead>\n",
        "    <tr style=\"text-align: right;\">\n",
        "      <th></th>\n",
        "      <th>Names</th>\n",
        "      <th>Births</th>\n",
        "    </tr>\n",
        "  </thead>\n",
        "  <tbody>\n",
        "    <tr>\n",
        "      <th>0</th>\n",
        "      <td>   vijay</td>\n",
        "      <td> 976</td>\n",
        "    </tr>\n",
        "    <tr>\n",
        "      <th>1</th>\n",
        "      <td>  harini</td>\n",
        "      <td> 978</td>\n",
        "    </tr>\n",
        "    <tr>\n",
        "      <th>2</th>\n",
        "      <td>    john</td>\n",
        "      <td> 977</td>\n",
        "    </tr>\n",
        "    <tr>\n",
        "      <th>3</th>\n",
        "      <td> krishna</td>\n",
        "      <td>  11</td>\n",
        "    </tr>\n",
        "  </tbody>\n",
        "</table>\n",
        "</div>"
       ],
       "metadata": {},
       "output_type": "pyout",
       "prompt_number": 34,
       "text": [
        "     Names  Births\n",
        "0    vijay     976\n",
        "1   harini     978\n",
        "2     john     977\n",
        "3  krishna      11"
       ]
      }
     ],
     "prompt_number": 34
    },
    {
     "cell_type": "code",
     "collapsed": false,
     "input": [
      "#import os object and remove the file from the filesystem\n",
      "import os\n",
      "os.remove('births.csv')"
     ],
     "language": "python",
     "metadata": {},
     "outputs": [],
     "prompt_number": 35
    },
    {
     "cell_type": "code",
     "collapsed": false,
     "input": [
      "# data types of the columns\n",
      "df.dtypes\n",
      "df.Birthyear.dtype"
     ],
     "language": "python",
     "metadata": {},
     "outputs": [
      {
       "metadata": {},
       "output_type": "pyout",
       "prompt_number": 37,
       "text": [
        "dtype('int64')"
       ]
      }
     ],
     "prompt_number": 37
    },
    {
     "cell_type": "code",
     "collapsed": false,
     "input": [
      "#sort method 1\n",
      "sorted = df.sort(['Birthyear'], ascending=[0])\n",
      "sorted.head(1)"
     ],
     "language": "python",
     "metadata": {},
     "outputs": [
      {
       "html": [
        "<div style=\"max-height:1000px;max-width:1500px;overflow:auto;\">\n",
        "<table border=\"1\" class=\"dataframe\">\n",
        "  <thead>\n",
        "    <tr style=\"text-align: right;\">\n",
        "      <th></th>\n",
        "      <th>Names</th>\n",
        "      <th>Birthyear</th>\n",
        "    </tr>\n",
        "  </thead>\n",
        "  <tbody>\n",
        "    <tr>\n",
        "      <th>3</th>\n",
        "      <td> krishna</td>\n",
        "      <td> 11</td>\n",
        "    </tr>\n",
        "  </tbody>\n",
        "</table>\n",
        "</div>"
       ],
       "metadata": {},
       "output_type": "pyout",
       "prompt_number": 41,
       "text": [
        "     Names  Birthyear\n",
        "3  krishna         11"
       ]
      }
     ],
     "prompt_number": 41
    },
    {
     "cell_type": "code",
     "collapsed": false,
     "input": [
      "df['Birthyear'].max()"
     ],
     "language": "python",
     "metadata": {},
     "outputs": [
      {
       "metadata": {},
       "output_type": "pyout",
       "prompt_number": 45,
       "text": [
        "978"
       ]
      }
     ],
     "prompt_number": 45
    },
    {
     "cell_type": "code",
     "collapsed": false,
     "input": [
      "#create graph\n",
      "df['Birthyear'].plot()\n",
      "\n",
      "#maximum value in data set\n",
      "MaxValue = df['Birthyear'].max()\n",
      "\n",
      "#name associated with max\n",
      "MaxName = df['Names'][df['Birthyear'] == df['Birthyear'].max()].values\n",
      "\n",
      "#Text to display on graph\n",
      "Text = str(MaxValue) + \"_\" + MaxName\n",
      "\n",
      "plt.annotate(Text, xy=(1,MaxValue), xytext=(8,0),xycoords=('axes fraction', 'data'),textcoords='offset points')\n",
      "\n",
      "print 'The most popular name'\n",
      "df[df['Birthyear']==df['Birthyear'].max()]\n"
     ],
     "language": "python",
     "metadata": {},
     "outputs": [
      {
       "output_type": "stream",
       "stream": "stdout",
       "text": [
        "The most popular name\n"
       ]
      },
      {
       "html": [
        "<div style=\"max-height:1000px;max-width:1500px;overflow:auto;\">\n",
        "<table border=\"1\" class=\"dataframe\">\n",
        "  <thead>\n",
        "    <tr style=\"text-align: right;\">\n",
        "      <th></th>\n",
        "      <th>Names</th>\n",
        "      <th>Birthyear</th>\n",
        "    </tr>\n",
        "  </thead>\n",
        "  <tbody>\n",
        "    <tr>\n",
        "      <th>1</th>\n",
        "      <td> harini</td>\n",
        "      <td> 978</td>\n",
        "    </tr>\n",
        "  </tbody>\n",
        "</table>\n",
        "</div>"
       ],
       "metadata": {},
       "output_type": "pyout",
       "prompt_number": 54,
       "text": [
        "    Names  Birthyear\n",
        "1  harini        978"
       ]
      },
      {
       "metadata": {},
       "output_type": "display_data",
       "png": "[encoded data removed]",
       "text": [
        "<matplotlib.figure.Figure at 0x109590f10>"
       ]
      }
     ],
     "prompt_number": 54
    },
    {
     "cell_type": "code",
     "collapsed": false,
     "input": [
      "#df['Names'] - This is the entire list of baby names, the entire Names column\n",
      "#df['Births'] - This is the entire list of Births in the year 1880, the entire Births column\n",
      "#df['Births'].max() - This is the maximum value found in the Births column\n",
      "#[df['Births'] == df['Births'].max()] IS EQUAL TO [Find all of the records in the Births column where it is equal to 973]\n",
      "#df['Names'][df['Births'] == df['Births'].max()] IS EQUAL TO Select all of the records in the Names column WHERE [The Births column is equal to 973]\n",
      "#An alternative way could have been to use the Sorted dataframe:\n",
      "#Sorted['Names'].head(1).value"
     ],
     "language": "python",
     "metadata": {},
     "outputs": [],
     "prompt_number": 55
    },
    {
     "cell_type": "code",
     "collapsed": false,
     "input": [
      "#Begin Lesson 2 - \n",
      "# Anomalies, most popular name, tab/graph data for most popular name in a year"
     ],
     "language": "python",
     "metadata": {},
     "outputs": [],
     "prompt_number": 56
    },
    {
     "cell_type": "code",
     "collapsed": false,
     "input": [
      "#specific functions\n",
      "from pandas import DataFrame, read_csv\n",
      "from numpy import random\n",
      "\n",
      "#full library\n",
      "import matplotlib.pyplot as plt\n",
      "import pandas as pd"
     ],
     "language": "python",
     "metadata": {},
     "outputs": [],
     "prompt_number": 58
    },
    {
     "cell_type": "code",
     "collapsed": false,
     "input": [
      "names.append('vaishnavi')\n",
      "names\n",
      "random.seed?\n",
      "randint?\n",
      "len?\n",
      "range?\n",
      "zip?"
     ],
     "language": "python",
     "metadata": {},
     "outputs": [],
     "prompt_number": 67
    },
    {
     "cell_type": "code",
     "collapsed": false,
     "input": [
      "seed (500)\n",
      "random_names = [names[randint(low=0,high=len(names))] for i in range(1000)]\n",
      "print random_names[:10]"
     ],
     "language": "python",
     "metadata": {},
     "outputs": [
      {
       "output_type": "stream",
       "stream": "stdout",
       "text": [
        "['vaishnavi', 'vaishnavi', 'harini', 'harini', 'vaishnavi', 'vaishnavi', 'harini', 'harini', 'vaishnavi', 'vaishnavi']\n"
       ]
      }
     ],
     "prompt_number": 68
    },
    {
     "cell_type": "code",
     "collapsed": false,
     "input": [
      "birthyear = [randint(low=0, high=1000) for i in range(1000)]\n",
      "print birthyear[:10]"
     ],
     "language": "python",
     "metadata": {},
     "outputs": [
      {
       "output_type": "stream",
       "stream": "stdout",
       "text": [
        "[190, 565, 569, 506, 716, 455, 309, 800, 853, 407]\n"
       ]
      }
     ],
     "prompt_number": 69
    },
    {
     "cell_type": "code",
     "collapsed": false,
     "input": [
      "BabyDataSet = zip(random_names, birthyear)\n",
      "print BabyDataSet[:10]"
     ],
     "language": "python",
     "metadata": {},
     "outputs": [
      {
       "output_type": "stream",
       "stream": "stdout",
       "text": [
        "[('vaishnavi', 190), ('vaishnavi', 565), ('harini', 569), ('harini', 506), ('vaishnavi', 716), ('vaishnavi', 455), ('harini', 309), ('harini', 800), ('vaishnavi', 853), ('vaishnavi', 407)]\n"
       ]
      }
     ],
     "prompt_number": 73
    },
    {
     "cell_type": "code",
     "collapsed": false,
     "input": [
      "df = DataFrame(data = BabyDataSet, columns=['Names','Births'])\n",
      "df[:10]"
     ],
     "language": "python",
     "metadata": {},
     "outputs": [
      {
       "html": [
        "<div style=\"max-height:1000px;max-width:1500px;overflow:auto;\">\n",
        "<table border=\"1\" class=\"dataframe\">\n",
        "  <thead>\n",
        "    <tr style=\"text-align: right;\">\n",
        "      <th></th>\n",
        "      <th>Names</th>\n",
        "      <th>Births</th>\n",
        "    </tr>\n",
        "  </thead>\n",
        "  <tbody>\n",
        "    <tr>\n",
        "      <th>0</th>\n",
        "      <td> vaishnavi</td>\n",
        "      <td> 190</td>\n",
        "    </tr>\n",
        "    <tr>\n",
        "      <th>1</th>\n",
        "      <td> vaishnavi</td>\n",
        "      <td> 565</td>\n",
        "    </tr>\n",
        "    <tr>\n",
        "      <th>2</th>\n",
        "      <td>    harini</td>\n",
        "      <td> 569</td>\n",
        "    </tr>\n",
        "    <tr>\n",
        "      <th>3</th>\n",
        "      <td>    harini</td>\n",
        "      <td> 506</td>\n",
        "    </tr>\n",
        "    <tr>\n",
        "      <th>4</th>\n",
        "      <td> vaishnavi</td>\n",
        "      <td> 716</td>\n",
        "    </tr>\n",
        "    <tr>\n",
        "      <th>5</th>\n",
        "      <td> vaishnavi</td>\n",
        "      <td> 455</td>\n",
        "    </tr>\n",
        "    <tr>\n",
        "      <th>6</th>\n",
        "      <td>    harini</td>\n",
        "      <td> 309</td>\n",
        "    </tr>\n",
        "    <tr>\n",
        "      <th>7</th>\n",
        "      <td>    harini</td>\n",
        "      <td> 800</td>\n",
        "    </tr>\n",
        "    <tr>\n",
        "      <th>8</th>\n",
        "      <td> vaishnavi</td>\n",
        "      <td> 853</td>\n",
        "    </tr>\n",
        "    <tr>\n",
        "      <th>9</th>\n",
        "      <td> vaishnavi</td>\n",
        "      <td> 407</td>\n",
        "    </tr>\n",
        "  </tbody>\n",
        "</table>\n",
        "</div>"
       ],
       "metadata": {},
       "output_type": "pyout",
       "prompt_number": 74,
       "text": [
        "       Names  Births\n",
        "0  vaishnavi     190\n",
        "1  vaishnavi     565\n",
        "2     harini     569\n",
        "3     harini     506\n",
        "4  vaishnavi     716\n",
        "5  vaishnavi     455\n",
        "6     harini     309\n",
        "7     harini     800\n",
        "8  vaishnavi     853\n",
        "9  vaishnavi     407"
       ]
      }
     ],
     "prompt_number": 74
    },
    {
     "cell_type": "code",
     "collapsed": false,
     "input": [
      "df.to_csv('births1880.txt', index=False, header=False)"
     ],
     "language": "python",
     "metadata": {},
     "outputs": [],
     "prompt_number": 76
    },
    {
     "cell_type": "code",
     "collapsed": false,
     "input": [
      "df = read_csv('births1880.txt')"
     ],
     "language": "python",
     "metadata": {},
     "outputs": [],
     "prompt_number": 77
    },
    {
     "cell_type": "code",
     "collapsed": false,
     "input": [
      "df\n",
      "df.head(10)\n",
      "df = read_csv('births1880.txt', header=None)"
     ],
     "language": "python",
     "metadata": {},
     "outputs": [],
     "prompt_number": 83
    },
    {
     "cell_type": "code",
     "collapsed": false,
     "input": [
      "df.tail()\n",
      "df = read_csv('births1880.txt', names=['Names', 'Births'])\n",
      "df.head(5)"
     ],
     "language": "python",
     "metadata": {},
     "outputs": [
      {
       "html": [
        "<div style=\"max-height:1000px;max-width:1500px;overflow:auto;\">\n",
        "<table border=\"1\" class=\"dataframe\">\n",
        "  <thead>\n",
        "    <tr style=\"text-align: right;\">\n",
        "      <th></th>\n",
        "      <th>Names</th>\n",
        "      <th>Births</th>\n",
        "    </tr>\n",
        "  </thead>\n",
        "  <tbody>\n",
        "    <tr>\n",
        "      <th>0</th>\n",
        "      <td> vaishnavi</td>\n",
        "      <td> 190</td>\n",
        "    </tr>\n",
        "    <tr>\n",
        "      <th>1</th>\n",
        "      <td> vaishnavi</td>\n",
        "      <td> 565</td>\n",
        "    </tr>\n",
        "    <tr>\n",
        "      <th>2</th>\n",
        "      <td>    harini</td>\n",
        "      <td> 569</td>\n",
        "    </tr>\n",
        "    <tr>\n",
        "      <th>3</th>\n",
        "      <td>    harini</td>\n",
        "      <td> 506</td>\n",
        "    </tr>\n",
        "    <tr>\n",
        "      <th>4</th>\n",
        "      <td> vaishnavi</td>\n",
        "      <td> 716</td>\n",
        "    </tr>\n",
        "  </tbody>\n",
        "</table>\n",
        "</div>"
       ],
       "metadata": {},
       "output_type": "pyout",
       "prompt_number": 88,
       "text": [
        "       Names  Births\n",
        "0  vaishnavi     190\n",
        "1  vaishnavi     565\n",
        "2     harini     569\n",
        "3     harini     506\n",
        "4  vaishnavi     716"
       ]
      }
     ],
     "prompt_number": 88
    },
    {
     "cell_type": "code",
     "collapsed": false,
     "input": [
      "import os\n",
      "os.remove('births1880.txt')"
     ],
     "language": "python",
     "metadata": {},
     "outputs": [
      {
       "ename": "OSError",
       "evalue": "[Errno 2] No such file or directory: 'births1880.txt'",
       "output_type": "pyerr",
       "traceback": [
        "\u001b[0;31m---------------------------------------------------------------------------\u001b[0m\n\u001b[0;31mOSError\u001b[0m                                   Traceback (most recent call last)",
        "\u001b[0;32m<ipython-input-90-8f9a7b3658cc>\u001b[0m in \u001b[0;36m<module>\u001b[0;34m()\u001b[0m\n\u001b[1;32m      1\u001b[0m \u001b[0;32mimport\u001b[0m \u001b[0mos\u001b[0m\u001b[0;34m\u001b[0m\u001b[0m\n\u001b[0;32m----> 2\u001b[0;31m \u001b[0mos\u001b[0m\u001b[0;34m.\u001b[0m\u001b[0mremove\u001b[0m\u001b[0;34m(\u001b[0m\u001b[0;34m'births1880.txt'\u001b[0m\u001b[0;34m)\u001b[0m\u001b[0;34m\u001b[0m\u001b[0m\n\u001b[0m",
        "\u001b[0;31mOSError\u001b[0m: [Errno 2] No such file or directory: 'births1880.txt'"
       ]
      }
     ],
     "prompt_number": 90
    },
    {
     "cell_type": "code",
     "collapsed": false,
     "input": [
      "df['Names'].unique()\n",
      "for x in df['Names'].unique():\n",
      "    print x"
     ],
     "language": "python",
     "metadata": {},
     "outputs": [
      {
       "output_type": "stream",
       "stream": "stdout",
       "text": [
        "vaishnavi\n",
        "harini\n",
        "john\n",
        "krishna\n",
        "vijay\n"
       ]
      }
     ],
     "prompt_number": 92
    },
    {
     "cell_type": "code",
     "collapsed": false,
     "input": [
      "print df['Names'].describe()"
     ],
     "language": "python",
     "metadata": {},
     "outputs": [
      {
       "output_type": "stream",
       "stream": "stdout",
       "text": [
        "count          1000\n",
        "unique            5\n",
        "top       vaishnavi\n",
        "freq            654\n",
        "dtype: object\n"
       ]
      }
     ],
     "prompt_number": 93
    },
    {
     "cell_type": "code",
     "collapsed": false,
     "input": [
      "df"
     ],
     "language": "python",
     "metadata": {},
     "outputs": [
      {
       "html": [
        "<div style=\"max-height:1000px;max-width:1500px;overflow:auto;\">\n",
        "<table border=\"1\" class=\"dataframe\">\n",
        "  <thead>\n",
        "    <tr style=\"text-align: right;\">\n",
        "      <th></th>\n",
        "      <th>Births</th>\n",
        "    </tr>\n",
        "    <tr>\n",
        "      <th>Names</th>\n",
        "      <th></th>\n",
        "    </tr>\n",
        "  </thead>\n",
        "  <tbody>\n",
        "    <tr>\n",
        "      <th>harini</th>\n",
        "      <td>  54654</td>\n",
        "    </tr>\n",
        "    <tr>\n",
        "      <th>john</th>\n",
        "      <td>  44433</td>\n",
        "    </tr>\n",
        "    <tr>\n",
        "      <th>krishna</th>\n",
        "      <td>  35403</td>\n",
        "    </tr>\n",
        "    <tr>\n",
        "      <th>vaishnavi</th>\n",
        "      <td> 322333</td>\n",
        "    </tr>\n",
        "    <tr>\n",
        "      <th>vijay</th>\n",
        "      <td>  43410</td>\n",
        "    </tr>\n",
        "  </tbody>\n",
        "</table>\n",
        "</div>"
       ],
       "metadata": {},
       "output_type": "pyout",
       "prompt_number": 105,
       "text": [
        "           Births\n",
        "Names            \n",
        "harini      54654\n",
        "john        44433\n",
        "krishna     35403\n",
        "vaishnavi  322333\n",
        "vijay       43410"
       ]
      }
     ],
     "prompt_number": 105
    },
    {
     "cell_type": "code",
     "collapsed": false,
     "input": [
      "df = DataFrame(data = BabyDataSet, columns=['Names','Births'])"
     ],
     "language": "python",
     "metadata": {},
     "outputs": [],
     "prompt_number": 106
    },
    {
     "cell_type": "code",
     "collapsed": false,
     "input": [
      "df.to_csv('births1880.txt', index=False, header=False)"
     ],
     "language": "python",
     "metadata": {},
     "outputs": [],
     "prompt_number": 107
    },
    {
     "cell_type": "code",
     "collapsed": false,
     "input": [
      "df = read_csv('births1880.txt')"
     ],
     "language": "python",
     "metadata": {},
     "outputs": [],
     "prompt_number": 108
    },
    {
     "cell_type": "code",
     "collapsed": false,
     "input": [
      "df.head()\n",
      "df = read_csv('births1880.txt', names=['Names','Births'])\n"
     ],
     "language": "python",
     "metadata": {},
     "outputs": [],
     "prompt_number": 114
    },
    {
     "cell_type": "code",
     "collapsed": false,
     "input": [
      "df.head(5)"
     ],
     "language": "python",
     "metadata": {},
     "outputs": [
      {
       "html": [
        "<div style=\"max-height:1000px;max-width:1500px;overflow:auto;\">\n",
        "<table border=\"1\" class=\"dataframe\">\n",
        "  <thead>\n",
        "    <tr style=\"text-align: right;\">\n",
        "      <th></th>\n",
        "      <th>Names</th>\n",
        "      <th>Births</th>\n",
        "    </tr>\n",
        "  </thead>\n",
        "  <tbody>\n",
        "    <tr>\n",
        "      <th>0</th>\n",
        "      <td> vaishnavi</td>\n",
        "      <td> 190</td>\n",
        "    </tr>\n",
        "    <tr>\n",
        "      <th>1</th>\n",
        "      <td> vaishnavi</td>\n",
        "      <td> 565</td>\n",
        "    </tr>\n",
        "    <tr>\n",
        "      <th>2</th>\n",
        "      <td>    harini</td>\n",
        "      <td> 569</td>\n",
        "    </tr>\n",
        "    <tr>\n",
        "      <th>3</th>\n",
        "      <td>    harini</td>\n",
        "      <td> 506</td>\n",
        "    </tr>\n",
        "    <tr>\n",
        "      <th>4</th>\n",
        "      <td> vaishnavi</td>\n",
        "      <td> 716</td>\n",
        "    </tr>\n",
        "  </tbody>\n",
        "</table>\n",
        "</div>"
       ],
       "metadata": {},
       "output_type": "pyout",
       "prompt_number": 115,
       "text": [
        "       Names  Births\n",
        "0  vaishnavi     190\n",
        "1  vaishnavi     565\n",
        "2     harini     569\n",
        "3     harini     506\n",
        "4  vaishnavi     716"
       ]
      }
     ],
     "prompt_number": 115
    },
    {
     "cell_type": "code",
     "collapsed": false,
     "input": [
      "Name = df.groupby(df['Names'])\n",
      "df = Name.sum()\n",
      "df"
     ],
     "language": "python",
     "metadata": {},
     "outputs": [
      {
       "html": [
        "<div style=\"max-height:1000px;max-width:1500px;overflow:auto;\">\n",
        "<table border=\"1\" class=\"dataframe\">\n",
        "  <thead>\n",
        "    <tr style=\"text-align: right;\">\n",
        "      <th></th>\n",
        "      <th>Births</th>\n",
        "    </tr>\n",
        "    <tr>\n",
        "      <th>Names</th>\n",
        "      <th></th>\n",
        "    </tr>\n",
        "  </thead>\n",
        "  <tbody>\n",
        "    <tr>\n",
        "      <th>harini</th>\n",
        "      <td>  54654</td>\n",
        "    </tr>\n",
        "    <tr>\n",
        "      <th>john</th>\n",
        "      <td>  44433</td>\n",
        "    </tr>\n",
        "    <tr>\n",
        "      <th>krishna</th>\n",
        "      <td>  35403</td>\n",
        "    </tr>\n",
        "    <tr>\n",
        "      <th>vaishnavi</th>\n",
        "      <td> 322333</td>\n",
        "    </tr>\n",
        "    <tr>\n",
        "      <th>vijay</th>\n",
        "      <td>  43410</td>\n",
        "    </tr>\n",
        "  </tbody>\n",
        "</table>\n",
        "</div>"
       ],
       "metadata": {},
       "output_type": "pyout",
       "prompt_number": 117,
       "text": [
        "           Births\n",
        "Names            \n",
        "harini      54654\n",
        "john        44433\n",
        "krishna     35403\n",
        "vaishnavi  322333\n",
        "vijay       43410"
       ]
      }
     ],
     "prompt_number": 117
    },
    {
     "cell_type": "code",
     "collapsed": false,
     "input": [
      "df['Births'].max()"
     ],
     "language": "python",
     "metadata": {},
     "outputs": [
      {
       "metadata": {},
       "output_type": "pyout",
       "prompt_number": 118,
       "text": [
        "322333"
       ]
      }
     ],
     "prompt_number": 118
    },
    {
     "cell_type": "code",
     "collapsed": false,
     "input": [
      "    df['Births'].plot()\n",
      "    MaxValue = df['Births'].max()\n",
      "    MaxName = df[df['Births']==df['Births'].max()].index[0]"
     ],
     "language": "python",
     "metadata": {},
     "outputs": [
      {
       "metadata": {},
       "output_type": "display_data",
       "png": "[encoded data removed]",
       "text": [
        "<matplotlib.figure.Figure at 0x109573f50>"
       ]
      }
     ],
     "prompt_number": 121
    },
    {
     "cell_type": "code",
     "collapsed": false,
     "input": [
      "df['Births'].plot()\n",
      "MaxValue = df['Births'].max()\n",
      "MaxName = df[df['Births']==df['Births'].max()].index[0]\n",
      "Text = str(MaxValue) + \"_\" + MaxName\n",
      "plt.annotate(Text, xy=(1, MaxValue), xytext=(8, 0), \n",
      "                 xycoords=('axes fraction', 'data'), textcoords='offset points')\n",
      "print \"Most popular name\"\n",
      "df[df['Births'] == df['Births'].max()]"
     ],
     "language": "python",
     "metadata": {},
     "outputs": [
      {
       "output_type": "stream",
       "stream": "stdout",
       "text": [
        "Most popular name\n"
       ]
      },
      {
       "html": [
        "<div style=\"max-height:1000px;max-width:1500px;overflow:auto;\">\n",
        "<table border=\"1\" class=\"dataframe\">\n",
        "  <thead>\n",
        "    <tr style=\"text-align: right;\">\n",
        "      <th></th>\n",
        "      <th>Births</th>\n",
        "    </tr>\n",
        "    <tr>\n",
        "      <th>Names</th>\n",
        "      <th></th>\n",
        "    </tr>\n",
        "  </thead>\n",
        "  <tbody>\n",
        "    <tr>\n",
        "      <th>vaishnavi</th>\n",
        "      <td> 322333</td>\n",
        "    </tr>\n",
        "  </tbody>\n",
        "</table>\n",
        "</div>"
       ],
       "metadata": {},
       "output_type": "pyout",
       "prompt_number": 125,
       "text": [
        "           Births\n",
        "Names            \n",
        "vaishnavi  322333"
       ]
      },
      {
       "metadata": {},
       "output_type": "display_data",
       "png": "[encoded data removed]",
       "text": [
        "<matplotlib.figure.Figure at 0x1095457d0>"
       ]
      }
     ],
     "prompt_number": 125
    },
    {
     "cell_type": "code",
     "collapsed": false,
     "input": [
      "#Lesson 3 - Prepare/Analyze/Present\n",
      "from pandas import ExcelFile, DataFrame, concat, date_range\n",
      "import pandas as pd\n",
      "import matplotlib as plt\n",
      "import numpy as np"
     ],
     "language": "python",
     "metadata": {},
     "outputs": [],
     "prompt_number": 126
    },
    {
     "cell_type": "code",
     "collapsed": false,
     "input": [
      "#Create test data\n",
      "def CreateDataSet(Number=1):\n",
      "    Output = []\n",
      "    \n",
      "    for i in range(Number):\n",
      "        rng = date_range(start='1/1/2009', end='12/31/2012',freq='W@MON')\n",
      "        \n",
      "        #create random data\n",
      "        data = np.random.randint(low=25, high=1000, size=len(rng))\n",
      "        \n",
      "        #status pool\n",
      "        status=[1,2,3]\n",
      "        \n",
      "        #Make random list of status\n",
      "        seed(i)\n",
      "        random_status=[status[randint(low=0,high=len(status))] for i in range(len(rng))]\n",
      "        \n",
      "        #state pool\n",
      "        states=['GA','NY','MA','NJ','TX','FL','fl']\n",
      "        \n",
      "        random_states=[states[randint(low=0,high=len(states))] for i in range(len(rng))]\n",
      "        \n",
      "        Output.extend(zip(random_states, random_status, data, rng))\n",
      "    return Output"
     ],
     "language": "python",
     "metadata": {},
     "outputs": [],
     "prompt_number": 127
    },
    {
     "cell_type": "code",
     "collapsed": false,
     "input": [
      "dataset = CreateDataSet(4)\n",
      "df = DataFrame(data=dataset, columns=['State','Status','CustomerCount','StatusDate'])\n",
      "df"
     ],
     "language": "python",
     "metadata": {},
     "outputs": [
      {
       "html": [
        "<pre>\n",
        "&lt;class 'pandas.core.frame.DataFrame'&gt;\n",
        "Int64Index: 836 entries, 0 to 835\n",
        "Data columns (total 4 columns):\n",
        "State            836  non-null values\n",
        "Status           836  non-null values\n",
        "CustomerCount    836  non-null values\n",
        "StatusDate       836  non-null values\n",
        "dtypes: datetime64[ns](1), int64(2), object(1)\n",
        "</pre>"
       ],
       "metadata": {},
       "output_type": "pyout",
       "prompt_number": 128,
       "text": [
        "<class 'pandas.core.frame.DataFrame'>\n",
        "Int64Index: 836 entries, 0 to 835\n",
        "Data columns (total 4 columns):\n",
        "State            836  non-null values\n",
        "Status           836  non-null values\n",
        "CustomerCount    836  non-null values\n",
        "StatusDate       836  non-null values\n",
        "dtypes: datetime64[ns](1), int64(2), object(1)"
       ]
      }
     ],
     "prompt_number": 128
    },
    {
     "cell_type": "code",
     "collapsed": false,
     "input": [
      "df.to_excel('lesson3.xlsx',index=False)\n",
      "print 'Done'"
     ],
     "language": "python",
     "metadata": {},
     "outputs": [
      {
       "output_type": "stream",
       "stream": "stdout",
       "text": [
        "Done\n"
       ]
      }
     ],
     "prompt_number": 129
    },
    {
     "cell_type": "code",
     "collapsed": false,
     "input": [
      "#creating an excel object\n",
      "\n",
      "location = 'lesson3.xlsx'\n",
      "xlsx = ExcelFile(location)\n",
      "\n",
      "#Parse a sheet\n",
      "df = xlsx.parse('sheet1', index_col='StatusDate')\n",
      "df.dtypes"
     ],
     "language": "python",
     "metadata": {},
     "outputs": [
      {
       "metadata": {},
       "output_type": "pyout",
       "prompt_number": 132,
       "text": [
        "State             object\n",
        "Status           float64\n",
        "CustomerCount    float64\n",
        "dtype: object"
       ]
      }
     ],
     "prompt_number": 132
    },
    {
     "cell_type": "code",
     "collapsed": false,
     "input": [
      "df.index"
     ],
     "language": "python",
     "metadata": {},
     "outputs": [
      {
       "metadata": {},
       "output_type": "pyout",
       "prompt_number": 134,
       "text": [
        "<class 'pandas.tseries.index.DatetimeIndex'>\n",
        "[2009-01-05 00:00:00, ..., 2012-12-31 00:00:00]\n",
        "Length: 836, Freq: None, Timezone: None"
       ]
      }
     ],
     "prompt_number": 134
    },
    {
     "cell_type": "code",
     "collapsed": false,
     "input": [
      "#Casting status and customer count objects\n",
      "df.Status = df.Status.astype('int')\n",
      "df.CustomerCount = df.CustomerCount.astype('int')\n",
      "print 'Data Types'\n",
      "print df.dtypes"
     ],
     "language": "python",
     "metadata": {},
     "outputs": [
      {
       "output_type": "stream",
       "stream": "stdout",
       "text": [
        "Data Types\n",
        "State            object\n",
        "Status            int64\n",
        "CustomerCount     int64\n",
        "dtype: object\n"
       ]
      }
     ],
     "prompt_number": 135
    },
    {
     "cell_type": "code",
     "collapsed": false,
     "input": [
      "df.head()"
     ],
     "language": "python",
     "metadata": {},
     "outputs": [
      {
       "html": [
        "<div style=\"max-height:1000px;max-width:1500px;overflow:auto;\">\n",
        "<table border=\"1\" class=\"dataframe\">\n",
        "  <thead>\n",
        "    <tr style=\"text-align: right;\">\n",
        "      <th></th>\n",
        "      <th>State</th>\n",
        "      <th>Status</th>\n",
        "      <th>CustomerCount</th>\n",
        "    </tr>\n",
        "    <tr>\n",
        "      <th>StatusDate</th>\n",
        "      <th></th>\n",
        "      <th></th>\n",
        "      <th></th>\n",
        "    </tr>\n",
        "  </thead>\n",
        "  <tbody>\n",
        "    <tr>\n",
        "      <th>2009-01-05</th>\n",
        "      <td> NJ</td>\n",
        "      <td> 1</td>\n",
        "      <td> 301</td>\n",
        "    </tr>\n",
        "    <tr>\n",
        "      <th>2009-01-12</th>\n",
        "      <td> GA</td>\n",
        "      <td> 2</td>\n",
        "      <td> 908</td>\n",
        "    </tr>\n",
        "    <tr>\n",
        "      <th>2009-01-19</th>\n",
        "      <td> NJ</td>\n",
        "      <td> 1</td>\n",
        "      <td> 102</td>\n",
        "    </tr>\n",
        "    <tr>\n",
        "      <th>2009-01-26</th>\n",
        "      <td> GA</td>\n",
        "      <td> 2</td>\n",
        "      <td>  27</td>\n",
        "    </tr>\n",
        "    <tr>\n",
        "      <th>2009-02-02</th>\n",
        "      <td> TX</td>\n",
        "      <td> 2</td>\n",
        "      <td> 629</td>\n",
        "    </tr>\n",
        "  </tbody>\n",
        "</table>\n",
        "</div>"
       ],
       "metadata": {},
       "output_type": "pyout",
       "prompt_number": 136,
       "text": [
        "           State  Status  CustomerCount\n",
        "StatusDate                             \n",
        "2009-01-05    NJ       1            301\n",
        "2009-01-12    GA       2            908\n",
        "2009-01-19    NJ       1            102\n",
        "2009-01-26    GA       2             27\n",
        "2009-02-02    TX       2            629"
       ]
      }
     ],
     "prompt_number": 136
    },
    {
     "cell_type": "code",
     "collapsed": false,
     "input": [
      "#This section attempts to clean up the data for analysis.\n",
      "#1. Make sure the state column is all in upper case\n",
      "#2. Only select records where the account status is equal to \"1\"\n",
      "#3. Merge (NJ and NY) to NY in the state column\n",
      "#4. Remove any outliers (any odd results in the data set)\n",
      "df['State'].unique()\n",
      "df = df[df['Status']==1]\n",
      "df.State[df.State=='NJ']='NY'"
     ],
     "language": "python",
     "metadata": {},
     "outputs": [],
     "prompt_number": 139
    },
    {
     "cell_type": "code",
     "collapsed": false,
     "input": [
      "df['State']\n",
      "df['CustomerCount'].plot()"
     ],
     "language": "python",
     "metadata": {},
     "outputs": [
      {
       "ename": "AssertionError",
       "evalue": "Index length did not match values",
       "output_type": "pyerr",
       "traceback": [
        "\u001b[0;31m---------------------------------------------------------------------------\u001b[0m\n\u001b[0;31mAssertionError\u001b[0m                            Traceback (most recent call last)",
        "\u001b[0;32m<ipython-input-143-cc04410eb417>\u001b[0m in \u001b[0;36m<module>\u001b[0;34m()\u001b[0m\n\u001b[1;32m      1\u001b[0m \u001b[0mdf\u001b[0m\u001b[0;34m[\u001b[0m\u001b[0;34m'State'\u001b[0m\u001b[0;34m]\u001b[0m\u001b[0;34m\u001b[0m\u001b[0m\n\u001b[0;32m----> 2\u001b[0;31m \u001b[0mdf\u001b[0m\u001b[0;34m[\u001b[0m\u001b[0;34m'CustomerCount'\u001b[0m\u001b[0;34m]\u001b[0m\u001b[0;34m.\u001b[0m\u001b[0mplot\u001b[0m\u001b[0;34m(\u001b[0m\u001b[0;34m)\u001b[0m\u001b[0;34m\u001b[0m\u001b[0m\n\u001b[0m",
        "\u001b[0;32m/Users/vijay/anaconda/envs/learnpandas/lib/python2.7/site-packages/pandas/tools/plotting.pyc\u001b[0m in \u001b[0;36mplot_series\u001b[0;34m(series, label, kind, use_index, rot, xticks, yticks, xlim, ylim, ax, style, grid, legend, logx, logy, secondary_y, **kwds)\u001b[0m\n\u001b[1;32m   1728\u001b[0m                      secondary_y=secondary_y, **kwds)\n\u001b[1;32m   1729\u001b[0m \u001b[0;34m\u001b[0m\u001b[0m\n\u001b[0;32m-> 1730\u001b[0;31m     \u001b[0mplot_obj\u001b[0m\u001b[0;34m.\u001b[0m\u001b[0mgenerate\u001b[0m\u001b[0;34m(\u001b[0m\u001b[0;34m)\u001b[0m\u001b[0;34m\u001b[0m\u001b[0m\n\u001b[0m\u001b[1;32m   1731\u001b[0m     \u001b[0mplot_obj\u001b[0m\u001b[0;34m.\u001b[0m\u001b[0mdraw\u001b[0m\u001b[0;34m(\u001b[0m\u001b[0;34m)\u001b[0m\u001b[0;34m\u001b[0m\u001b[0m\n\u001b[1;32m   1732\u001b[0m \u001b[0;34m\u001b[0m\u001b[0m\n",
        "\u001b[0;32m/Users/vijay/anaconda/envs/learnpandas/lib/python2.7/site-packages/pandas/tools/plotting.pyc\u001b[0m in \u001b[0;36mgenerate\u001b[0;34m(self)\u001b[0m\n\u001b[1;32m    854\u001b[0m         \u001b[0mself\u001b[0m\u001b[0;34m.\u001b[0m\u001b[0m_compute_plot_data\u001b[0m\u001b[0;34m(\u001b[0m\u001b[0;34m)\u001b[0m\u001b[0;34m\u001b[0m\u001b[0m\n\u001b[1;32m    855\u001b[0m         \u001b[0mself\u001b[0m\u001b[0;34m.\u001b[0m\u001b[0m_setup_subplots\u001b[0m\u001b[0;34m(\u001b[0m\u001b[0;34m)\u001b[0m\u001b[0;34m\u001b[0m\u001b[0m\n\u001b[0;32m--> 856\u001b[0;31m         \u001b[0mself\u001b[0m\u001b[0;34m.\u001b[0m\u001b[0m_make_plot\u001b[0m\u001b[0;34m(\u001b[0m\u001b[0;34m)\u001b[0m\u001b[0;34m\u001b[0m\u001b[0m\n\u001b[0m\u001b[1;32m    857\u001b[0m         \u001b[0mself\u001b[0m\u001b[0;34m.\u001b[0m\u001b[0m_post_plot_logic\u001b[0m\u001b[0;34m(\u001b[0m\u001b[0;34m)\u001b[0m\u001b[0;34m\u001b[0m\u001b[0m\n\u001b[1;32m    858\u001b[0m         \u001b[0mself\u001b[0m\u001b[0;34m.\u001b[0m\u001b[0m_adorn_subplots\u001b[0m\u001b[0;34m(\u001b[0m\u001b[0;34m)\u001b[0m\u001b[0;34m\u001b[0m\u001b[0m\n",
        "\u001b[0;32m/Users/vijay/anaconda/envs/learnpandas/lib/python2.7/site-packages/pandas/tools/plotting.pyc\u001b[0m in \u001b[0;36m_make_plot\u001b[0;34m(self)\u001b[0m\n\u001b[1;32m   1242\u001b[0m             \u001b[0mlines\u001b[0m \u001b[0;34m=\u001b[0m \u001b[0;34m[\u001b[0m\u001b[0;34m]\u001b[0m\u001b[0;34m\u001b[0m\u001b[0m\n\u001b[1;32m   1243\u001b[0m             \u001b[0mlabels\u001b[0m \u001b[0;34m=\u001b[0m \u001b[0;34m[\u001b[0m\u001b[0;34m]\u001b[0m\u001b[0;34m\u001b[0m\u001b[0m\n\u001b[0;32m-> 1244\u001b[0;31m             \u001b[0mx\u001b[0m \u001b[0;34m=\u001b[0m \u001b[0mself\u001b[0m\u001b[0;34m.\u001b[0m\u001b[0m_get_xticks\u001b[0m\u001b[0;34m(\u001b[0m\u001b[0mconvert_period\u001b[0m\u001b[0;34m=\u001b[0m\u001b[0mTrue\u001b[0m\u001b[0;34m)\u001b[0m\u001b[0;34m\u001b[0m\u001b[0m\n\u001b[0m\u001b[1;32m   1245\u001b[0m \u001b[0;34m\u001b[0m\u001b[0m\n\u001b[1;32m   1246\u001b[0m             \u001b[0mplotf\u001b[0m \u001b[0;34m=\u001b[0m \u001b[0mself\u001b[0m\u001b[0;34m.\u001b[0m\u001b[0m_get_plot_function\u001b[0m\u001b[0;34m(\u001b[0m\u001b[0;34m)\u001b[0m\u001b[0;34m\u001b[0m\u001b[0m\n",
        "\u001b[0;32m/Users/vijay/anaconda/envs/learnpandas/lib/python2.7/site-packages/pandas/tools/plotting.pyc\u001b[0m in \u001b[0;36m_get_xticks\u001b[0;34m(self, convert_period)\u001b[0m\n\u001b[1;32m   1032\u001b[0m                 \u001b[0mx\u001b[0m \u001b[0;34m=\u001b[0m \u001b[0mindex\u001b[0m\u001b[0;34m.\u001b[0m\u001b[0m_mpl_repr\u001b[0m\u001b[0;34m(\u001b[0m\u001b[0;34m)\u001b[0m\u001b[0;34m\u001b[0m\u001b[0m\n\u001b[1;32m   1033\u001b[0m             \u001b[0;32melif\u001b[0m \u001b[0mis_datetype\u001b[0m\u001b[0;34m:\u001b[0m\u001b[0;34m\u001b[0m\u001b[0m\n\u001b[0;32m-> 1034\u001b[0;31m                 \u001b[0mself\u001b[0m\u001b[0;34m.\u001b[0m\u001b[0mdata\u001b[0m \u001b[0;34m=\u001b[0m \u001b[0mself\u001b[0m\u001b[0;34m.\u001b[0m\u001b[0mdata\u001b[0m\u001b[0;34m.\u001b[0m\u001b[0mreindex\u001b[0m\u001b[0;34m(\u001b[0m\u001b[0mindex\u001b[0m\u001b[0;34m=\u001b[0m\u001b[0mindex\u001b[0m\u001b[0;34m.\u001b[0m\u001b[0morder\u001b[0m\u001b[0;34m(\u001b[0m\u001b[0;34m)\u001b[0m\u001b[0;34m)\u001b[0m\u001b[0;34m\u001b[0m\u001b[0m\n\u001b[0m\u001b[1;32m   1035\u001b[0m                 \u001b[0mx\u001b[0m \u001b[0;34m=\u001b[0m \u001b[0mself\u001b[0m\u001b[0;34m.\u001b[0m\u001b[0mdata\u001b[0m\u001b[0;34m.\u001b[0m\u001b[0mindex\u001b[0m\u001b[0;34m.\u001b[0m\u001b[0m_mpl_repr\u001b[0m\u001b[0;34m(\u001b[0m\u001b[0;34m)\u001b[0m\u001b[0;34m\u001b[0m\u001b[0m\n\u001b[1;32m   1036\u001b[0m             \u001b[0;32melse\u001b[0m\u001b[0;34m:\u001b[0m\u001b[0;34m\u001b[0m\u001b[0m\n",
        "\u001b[0;32m/Users/vijay/anaconda/envs/learnpandas/lib/python2.7/site-packages/pandas/core/series.pyc\u001b[0m in \u001b[0;36mreindex\u001b[0;34m(self, index, method, level, fill_value, limit, copy, takeable)\u001b[0m\n\u001b[1;32m   2644\u001b[0m \u001b[0;34m\u001b[0m\u001b[0m\n\u001b[1;32m   2645\u001b[0m         \u001b[0;31m# GH4246 (dispatch to a common method with frame to handle possibly duplicate index)\u001b[0m\u001b[0;34m\u001b[0m\u001b[0;34m\u001b[0m\u001b[0m\n\u001b[0;32m-> 2646\u001b[0;31m         \u001b[0;32mreturn\u001b[0m \u001b[0mself\u001b[0m\u001b[0;34m.\u001b[0m\u001b[0m_reindex_with_indexers\u001b[0m\u001b[0;34m(\u001b[0m\u001b[0mnew_index\u001b[0m\u001b[0;34m,\u001b[0m \u001b[0mindexer\u001b[0m\u001b[0;34m,\u001b[0m \u001b[0mcopy\u001b[0m\u001b[0;34m=\u001b[0m\u001b[0mcopy\u001b[0m\u001b[0;34m,\u001b[0m \u001b[0mfill_value\u001b[0m\u001b[0;34m=\u001b[0m\u001b[0mfill_value\u001b[0m\u001b[0;34m)\u001b[0m\u001b[0;34m\u001b[0m\u001b[0m\n\u001b[0m\u001b[1;32m   2647\u001b[0m \u001b[0;34m\u001b[0m\u001b[0m\n\u001b[1;32m   2648\u001b[0m     \u001b[0;32mdef\u001b[0m \u001b[0m_reindex_with_indexers\u001b[0m\u001b[0;34m(\u001b[0m\u001b[0mself\u001b[0m\u001b[0;34m,\u001b[0m \u001b[0mindex\u001b[0m\u001b[0;34m,\u001b[0m \u001b[0mindexer\u001b[0m\u001b[0;34m,\u001b[0m \u001b[0mcopy\u001b[0m\u001b[0;34m,\u001b[0m \u001b[0mfill_value\u001b[0m\u001b[0;34m)\u001b[0m\u001b[0;34m:\u001b[0m\u001b[0;34m\u001b[0m\u001b[0m\n",
        "\u001b[0;32m/Users/vijay/anaconda/envs/learnpandas/lib/python2.7/site-packages/pandas/core/series.pyc\u001b[0m in \u001b[0;36m_reindex_with_indexers\u001b[0;34m(self, index, indexer, copy, fill_value)\u001b[0m\n\u001b[1;32m   2648\u001b[0m     \u001b[0;32mdef\u001b[0m \u001b[0m_reindex_with_indexers\u001b[0m\u001b[0;34m(\u001b[0m\u001b[0mself\u001b[0m\u001b[0;34m,\u001b[0m \u001b[0mindex\u001b[0m\u001b[0;34m,\u001b[0m \u001b[0mindexer\u001b[0m\u001b[0;34m,\u001b[0m \u001b[0mcopy\u001b[0m\u001b[0;34m,\u001b[0m \u001b[0mfill_value\u001b[0m\u001b[0;34m)\u001b[0m\u001b[0;34m:\u001b[0m\u001b[0;34m\u001b[0m\u001b[0m\n\u001b[1;32m   2649\u001b[0m         \u001b[0mnew_values\u001b[0m \u001b[0;34m=\u001b[0m \u001b[0mcom\u001b[0m\u001b[0;34m.\u001b[0m\u001b[0mtake_1d\u001b[0m\u001b[0;34m(\u001b[0m\u001b[0mself\u001b[0m\u001b[0;34m.\u001b[0m\u001b[0mvalues\u001b[0m\u001b[0;34m,\u001b[0m \u001b[0mindexer\u001b[0m\u001b[0;34m,\u001b[0m \u001b[0mfill_value\u001b[0m\u001b[0;34m=\u001b[0m\u001b[0mfill_value\u001b[0m\u001b[0;34m)\u001b[0m\u001b[0;34m\u001b[0m\u001b[0m\n\u001b[0;32m-> 2650\u001b[0;31m         \u001b[0;32mreturn\u001b[0m \u001b[0mSeries\u001b[0m\u001b[0;34m(\u001b[0m\u001b[0mnew_values\u001b[0m\u001b[0;34m,\u001b[0m \u001b[0mindex\u001b[0m\u001b[0;34m=\u001b[0m\u001b[0mindex\u001b[0m\u001b[0;34m,\u001b[0m \u001b[0mname\u001b[0m\u001b[0;34m=\u001b[0m\u001b[0mself\u001b[0m\u001b[0;34m.\u001b[0m\u001b[0mname\u001b[0m\u001b[0;34m)\u001b[0m\u001b[0;34m\u001b[0m\u001b[0m\n\u001b[0m\u001b[1;32m   2651\u001b[0m \u001b[0;34m\u001b[0m\u001b[0m\n\u001b[1;32m   2652\u001b[0m     \u001b[0;32mdef\u001b[0m \u001b[0mreindex_axis\u001b[0m\u001b[0;34m(\u001b[0m\u001b[0mself\u001b[0m\u001b[0;34m,\u001b[0m \u001b[0mlabels\u001b[0m\u001b[0;34m,\u001b[0m \u001b[0maxis\u001b[0m\u001b[0;34m=\u001b[0m\u001b[0;36m0\u001b[0m\u001b[0;34m,\u001b[0m \u001b[0;34m**\u001b[0m\u001b[0mkwargs\u001b[0m\u001b[0;34m)\u001b[0m\u001b[0;34m:\u001b[0m\u001b[0;34m\u001b[0m\u001b[0m\n",
        "\u001b[0;32m/Users/vijay/anaconda/envs/learnpandas/lib/python2.7/site-packages/pandas/core/series.pyc\u001b[0m in \u001b[0;36m__new__\u001b[0;34m(cls, data, index, dtype, name, copy)\u001b[0m\n\u001b[1;32m    490\u001b[0m         \u001b[0;32melse\u001b[0m\u001b[0;34m:\u001b[0m\u001b[0;34m\u001b[0m\u001b[0m\n\u001b[1;32m    491\u001b[0m             \u001b[0msubarr\u001b[0m \u001b[0;34m=\u001b[0m \u001b[0msubarr\u001b[0m\u001b[0;34m.\u001b[0m\u001b[0mview\u001b[0m\u001b[0;34m(\u001b[0m\u001b[0mSeries\u001b[0m\u001b[0;34m)\u001b[0m\u001b[0;34m\u001b[0m\u001b[0m\n\u001b[0;32m--> 492\u001b[0;31m         \u001b[0msubarr\u001b[0m\u001b[0;34m.\u001b[0m\u001b[0mindex\u001b[0m \u001b[0;34m=\u001b[0m \u001b[0mindex\u001b[0m\u001b[0;34m\u001b[0m\u001b[0m\n\u001b[0m\u001b[1;32m    493\u001b[0m         \u001b[0msubarr\u001b[0m\u001b[0;34m.\u001b[0m\u001b[0mname\u001b[0m \u001b[0;34m=\u001b[0m \u001b[0mname\u001b[0m\u001b[0;34m\u001b[0m\u001b[0m\n\u001b[1;32m    494\u001b[0m \u001b[0;34m\u001b[0m\u001b[0m\n",
        "\u001b[0;32m/Users/vijay/anaconda/envs/learnpandas/lib/python2.7/site-packages/pandas/lib.so\u001b[0m in \u001b[0;36mpandas.lib.SeriesIndex.__set__ (pandas/lib.c:29541)\u001b[0;34m()\u001b[0m\n",
        "\u001b[0;31mAssertionError\u001b[0m: Index length did not match values"
       ]
      },
      {
       "metadata": {},
       "output_type": "display_data",
       "png": "[encoded data removed]",
       "text": [
        "<matplotlib.figure.Figure at 0x109f2ec90>"
       ]
      }
     ],
     "prompt_number": 143
    },
    {
     "cell_type": "code",
     "collapsed": false,
     "input": [
      "sortdf = df[df['State']=='NY'].sort(axis=0)\n",
      "sortdf.head()"
     ],
     "language": "python",
     "metadata": {},
     "outputs": [
      {
       "html": [
        "<div style=\"max-height:1000px;max-width:1500px;overflow:auto;\">\n",
        "<table border=\"1\" class=\"dataframe\">\n",
        "  <thead>\n",
        "    <tr style=\"text-align: right;\">\n",
        "      <th></th>\n",
        "      <th>State</th>\n",
        "      <th>Status</th>\n",
        "      <th>CustomerCount</th>\n",
        "    </tr>\n",
        "    <tr>\n",
        "      <th>StatusDate</th>\n",
        "      <th></th>\n",
        "      <th></th>\n",
        "      <th></th>\n",
        "    </tr>\n",
        "  </thead>\n",
        "  <tbody>\n",
        "    <tr>\n",
        "      <th>2009-01-05</th>\n",
        "      <td> NY</td>\n",
        "      <td> 1</td>\n",
        "      <td> 301</td>\n",
        "    </tr>\n",
        "    <tr>\n",
        "      <th>2009-01-12</th>\n",
        "      <td> NY</td>\n",
        "      <td> 1</td>\n",
        "      <td> 575</td>\n",
        "    </tr>\n",
        "    <tr>\n",
        "      <th>2009-01-12</th>\n",
        "      <td> NY</td>\n",
        "      <td> 1</td>\n",
        "      <td> 866</td>\n",
        "    </tr>\n",
        "    <tr>\n",
        "      <th>2009-01-19</th>\n",
        "      <td> NY</td>\n",
        "      <td> 1</td>\n",
        "      <td> 102</td>\n",
        "    </tr>\n",
        "    <tr>\n",
        "      <th>2009-02-02</th>\n",
        "      <td> NY</td>\n",
        "      <td> 1</td>\n",
        "      <td> 651</td>\n",
        "    </tr>\n",
        "  </tbody>\n",
        "</table>\n",
        "</div>"
       ],
       "metadata": {},
       "output_type": "pyout",
       "prompt_number": 144,
       "text": [
        "           State  Status  CustomerCount\n",
        "StatusDate                             \n",
        "2009-01-05    NY       1            301\n",
        "2009-01-12    NY       1            575\n",
        "2009-01-12    NY       1            866\n",
        "2009-01-19    NY       1            102\n",
        "2009-02-02    NY       1            651"
       ]
      }
     ],
     "prompt_number": 144
    },
    {
     "cell_type": "code",
     "collapsed": false,
     "input": [
      "#group by State and StatusDate\n",
      "# Reset in order to use Status date as column\n",
      "Daily = df.reset_index().groupby(['State','StatusDate']).sum()\n",
      "Daily.head()"
     ],
     "language": "python",
     "metadata": {},
     "outputs": [
      {
       "html": [
        "<div style=\"max-height:1000px;max-width:1500px;overflow:auto;\">\n",
        "<table border=\"1\" class=\"dataframe\">\n",
        "  <thead>\n",
        "    <tr style=\"text-align: right;\">\n",
        "      <th></th>\n",
        "      <th></th>\n",
        "      <th>Status</th>\n",
        "      <th>CustomerCount</th>\n",
        "    </tr>\n",
        "    <tr>\n",
        "      <th>State</th>\n",
        "      <th>StatusDate</th>\n",
        "      <th></th>\n",
        "      <th></th>\n",
        "    </tr>\n",
        "  </thead>\n",
        "  <tbody>\n",
        "    <tr>\n",
        "      <th rowspan=\"5\" valign=\"top\">FL</th>\n",
        "      <th>2009-01-05</th>\n",
        "      <td> 1</td>\n",
        "      <td> 873</td>\n",
        "    </tr>\n",
        "    <tr>\n",
        "      <th>2009-02-09</th>\n",
        "      <td> 1</td>\n",
        "      <td> 928</td>\n",
        "    </tr>\n",
        "    <tr>\n",
        "      <th>2009-03-02</th>\n",
        "      <td> 1</td>\n",
        "      <td> 824</td>\n",
        "    </tr>\n",
        "    <tr>\n",
        "      <th>2009-03-09</th>\n",
        "      <td> 1</td>\n",
        "      <td>  57</td>\n",
        "    </tr>\n",
        "    <tr>\n",
        "      <th>2009-03-30</th>\n",
        "      <td> 1</td>\n",
        "      <td>  43</td>\n",
        "    </tr>\n",
        "  </tbody>\n",
        "</table>\n",
        "</div>"
       ],
       "metadata": {},
       "output_type": "pyout",
       "prompt_number": 145,
       "text": [
        "                  Status  CustomerCount\n",
        "State StatusDate                       \n",
        "FL    2009-01-05       1            873\n",
        "      2009-02-09       1            928\n",
        "      2009-03-02       1            824\n",
        "      2009-03-09       1             57\n",
        "      2009-03-30       1             43"
       ]
      }
     ],
     "prompt_number": 145
    },
    {
     "cell_type": "code",
     "collapsed": false,
     "input": [
      "del Daily['Status']\n",
      "Daily.head()"
     ],
     "language": "python",
     "metadata": {},
     "outputs": [
      {
       "html": [
        "<div style=\"max-height:1000px;max-width:1500px;overflow:auto;\">\n",
        "<table border=\"1\" class=\"dataframe\">\n",
        "  <thead>\n",
        "    <tr style=\"text-align: right;\">\n",
        "      <th></th>\n",
        "      <th></th>\n",
        "      <th>CustomerCount</th>\n",
        "    </tr>\n",
        "    <tr>\n",
        "      <th>State</th>\n",
        "      <th>StatusDate</th>\n",
        "      <th></th>\n",
        "    </tr>\n",
        "  </thead>\n",
        "  <tbody>\n",
        "    <tr>\n",
        "      <th rowspan=\"5\" valign=\"top\">FL</th>\n",
        "      <th>2009-01-05</th>\n",
        "      <td> 873</td>\n",
        "    </tr>\n",
        "    <tr>\n",
        "      <th>2009-02-09</th>\n",
        "      <td> 928</td>\n",
        "    </tr>\n",
        "    <tr>\n",
        "      <th>2009-03-02</th>\n",
        "      <td> 824</td>\n",
        "    </tr>\n",
        "    <tr>\n",
        "      <th>2009-03-09</th>\n",
        "      <td>  57</td>\n",
        "    </tr>\n",
        "    <tr>\n",
        "      <th>2009-03-30</th>\n",
        "      <td>  43</td>\n",
        "    </tr>\n",
        "  </tbody>\n",
        "</table>\n",
        "</div>"
       ],
       "metadata": {},
       "output_type": "pyout",
       "prompt_number": 146,
       "text": [
        "                  CustomerCount\n",
        "State StatusDate               \n",
        "FL    2009-01-05            873\n",
        "      2009-02-09            928\n",
        "      2009-03-02            824\n",
        "      2009-03-09             57\n",
        "      2009-03-30             43"
       ]
      }
     ],
     "prompt_number": 146
    },
    {
     "cell_type": "code",
     "collapsed": false,
     "input": [
      "#index\n",
      "Daily.index"
     ],
     "language": "python",
     "metadata": {},
     "outputs": [
      {
       "metadata": {},
       "output_type": "pyout",
       "prompt_number": 148,
       "text": [
        "MultiIndex\n",
        "[(u'FL', 2009-01-05 00:00:00), (u'FL', 2009-02-09 00:00:00), (u'FL', 2009-03-02 00:00:00), (u'FL', 2009-03-09 00:00:00), (u'FL', 2009-03-30 00:00:00), (u'FL', 2009-04-13 00:00:00), (u'FL', 2009-04-20 00:00:00), (u'FL', 2009-05-18 00:00:00), (u'FL', 2009-05-25 00:00:00), (u'FL', 2009-06-01 00:00:00), (u'FL', 2009-07-06 00:00:00), (u'FL', 2009-09-07 00:00:00), (u'FL', 2009-09-14 00:00:00), (u'FL', 2009-09-28 00:00:00), (u'FL', 2009-11-16 00:00:00), (u'FL', 2010-01-11 00:00:00), (u'FL', 2010-06-14 00:00:00), (u'FL', 2010-07-19 00:00:00), (u'FL', 2010-08-23 00:00:00), (u'FL', 2010-08-30 00:00:00), (u'FL', 2010-09-20 00:00:00), (u'FL', 2010-10-11 00:00:00), (u'FL', 2010-12-06 00:00:00), (u'FL', 2011-01-17 00:00:00), (u'FL', 2011-02-14 00:00:00), (u'FL', 2011-02-21 00:00:00), (u'FL', 2011-02-28 00:00:00), (u'FL', 2011-03-14 00:00:00), (u'FL', 2011-03-28 00:00:00), (u'FL', 2011-07-11 00:00:00), (u'FL', 2011-08-22 00:00:00), (u'FL', 2011-09-05 00:00:00), (u'FL', 2011-10-17 00:00:00), (u'FL', 2011-11-21 00:00:00), (u'FL', 2012-01-30 00:00:00), (u'FL', 2012-02-13 00:00:00), (u'FL', 2012-03-05 00:00:00), (u'FL', 2012-06-04 00:00:00), (u'FL', 2012-06-18 00:00:00), (u'FL', 2012-07-02 00:00:00), (u'FL', 2012-07-09 00:00:00), (u'FL', 2012-07-23 00:00:00), (u'FL', 2012-08-13 00:00:00), (u'FL', 2012-08-27 00:00:00), (u'FL', 2012-09-24 00:00:00), (u'FL', 2012-10-08 00:00:00), (u'GA', 2009-01-19 00:00:00), (u'GA', 2009-02-09 00:00:00), (u'GA', 2009-04-13 00:00:00), (u'GA', 2009-04-27 00:00:00), (u'GA', 2009-11-02 00:00:00), (u'GA', 2009-11-23 00:00:00), (u'GA', 2010-01-25 00:00:00), (u'GA', 2010-04-05 00:00:00), (u'GA', 2010-04-12 00:00:00), (u'GA', 2010-09-06 00:00:00), (u'GA', 2010-09-20 00:00:00), (u'GA', 2010-10-11 00:00:00), (u'GA', 2010-11-01 00:00:00), (u'GA', 2010-11-08 00:00:00), (u'GA', 2010-12-27 00:00:00), (u'GA', 2011-01-03 00:00:00), (u'GA', 2011-01-10 00:00:00), (u'GA', 2011-04-04 00:00:00), (u'GA', 2011-06-20 00:00:00), (u'GA', 2011-06-27 00:00:00), (u'GA', 2011-08-15 00:00:00), (u'GA', 2011-09-12 00:00:00), (u'GA', 2011-09-19 00:00:00), (u'GA', 2011-10-31 00:00:00), (u'GA', 2012-03-05 00:00:00), (u'GA', 2012-03-19 00:00:00), (u'GA', 2012-05-28 00:00:00), (u'GA', 2012-10-15 00:00:00), (u'GA', 2012-10-22 00:00:00), (u'GA', 2012-12-03 00:00:00), (u'GA', 2012-12-31 00:00:00), (u'MA', 2009-03-16 00:00:00), (u'MA', 2009-03-23 00:00:00), (u'MA', 2009-05-11 00:00:00), (u'MA', 2009-06-29 00:00:00), (u'MA', 2009-10-19 00:00:00), (u'MA', 2009-10-26 00:00:00), (u'MA', 2009-11-30 00:00:00), (u'MA', 2009-12-21 00:00:00), (u'MA', 2010-01-18 00:00:00), (u'MA', 2010-01-25 00:00:00), (u'MA', 2010-02-08 00:00:00), (u'MA', 2010-02-15 00:00:00), (u'MA', 2010-03-08 00:00:00), (u'MA', 2010-04-26 00:00:00), (u'MA', 2010-05-10 00:00:00), (u'MA', 2010-05-31 00:00:00), (u'MA', 2010-07-05 00:00:00), (u'MA', 2010-08-02 00:00:00), (u'MA', 2010-11-01 00:00:00), (u'MA', 2010-11-29 00:00:00), (u'MA', 2011-01-31 00:00:00), (u'MA', 2011-02-28 00:00:00), (u'MA', 2011-04-04 00:00:00), (u'MA', 2011-06-27 00:00:00), (u'MA', 2011-07-11 00:00:00), (u'MA', 2011-08-01 00:00:00), (u'MA', 2011-10-03 00:00:00), (u'MA', 2011-10-24 00:00:00), (u'MA', 2011-11-07 00:00:00), (u'MA', 2011-11-14 00:00:00), (u'MA', 2011-11-28 00:00:00), (u'MA', 2011-12-05 00:00:00), (u'MA', 2011-12-12 00:00:00), (u'MA', 2011-12-19 00:00:00), (u'MA', 2012-01-09 00:00:00), (u'MA', 2012-01-30 00:00:00), (u'MA', 2012-02-06 00:00:00), (u'MA', 2012-04-02 00:00:00), (u'MA', 2012-04-30 00:00:00), (u'MA', 2012-05-07 00:00:00), (u'MA', 2012-05-28 00:00:00), (u'MA', 2012-06-04 00:00:00), (u'MA', 2012-06-11 00:00:00), (u'MA', 2012-06-25 00:00:00), (u'MA', 2012-10-15 00:00:00), (u'MA', 2012-10-22 00:00:00), (u'MA', 2012-11-19 00:00:00), (u'MA', 2012-11-26 00:00:00), (u'NY', 2009-01-05 00:00:00), (u'NY', 2009-01-12 00:00:00), (u'NY', 2009-01-19 00:00:00), (u'NY', 2009-02-02 00:00:00), (u'NY', 2009-03-16 00:00:00), (u'NY', 2009-04-20 00:00:00), (u'NY', 2009-05-18 00:00:00), (u'NY', 2009-06-08 00:00:00), (u'NY', 2009-06-15 00:00:00), (u'NY', 2009-06-22 00:00:00), (u'NY', 2009-07-06 00:00:00), (u'NY', 2009-07-27 00:00:00), (u'NY', 2009-08-03 00:00:00), (u'NY', 2009-08-17 00:00:00), (u'NY', 2009-10-19 00:00:00), (u'NY', 2009-11-09 00:00:00), (u'NY', 2009-11-23 00:00:00), (u'NY', 2009-12-14 00:00:00), (u'NY', 2009-12-21 00:00:00), (u'NY', 2010-02-01 00:00:00), (u'NY', 2010-03-15 00:00:00), (u'NY', 2010-03-29 00:00:00), (u'NY', 2010-04-26 00:00:00), (u'NY', 2010-05-03 00:00:00), (u'NY', 2010-05-10 00:00:00), (u'NY', 2010-05-17 00:00:00), (u'NY', 2010-06-07 00:00:00), (u'NY', 2010-06-21 00:00:00), (u'NY', 2010-06-28 00:00:00), (u'NY', 2010-07-05 00:00:00), (u'NY', 2010-09-27 00:00:00), (u'NY', 2010-10-04 00:00:00), (u'NY', 2010-10-18 00:00:00), (u'NY', 2010-11-08 00:00:00), (u'NY', 2010-12-13 00:00:00), (u'NY', 2010-12-20 00:00:00), (u'NY', 2011-02-21 00:00:00), (u'NY', 2011-02-28 00:00:00), (u'NY', 2011-03-07 00:00:00), (u'NY', 2011-03-14 00:00:00), (u'NY', 2011-03-21 00:00:00), (u'NY', 2011-03-28 00:00:00), (u'NY', 2011-04-18 00:00:00), (u'NY', 2011-04-25 00:00:00), (u'NY', 2011-05-16 00:00:00), (u'NY', 2011-06-06 00:00:00), (u'NY', 2011-06-20 00:00:00), (u'NY', 2011-07-11 00:00:00), (u'NY', 2011-08-08 00:00:00), (u'NY', 2011-08-29 00:00:00), (u'NY', 2011-09-05 00:00:00), (u'NY', 2011-10-24 00:00:00), (u'NY', 2011-10-31 00:00:00), (u'NY', 2011-11-21 00:00:00), (u'NY', 2012-01-09 00:00:00), (u'NY', 2012-01-16 00:00:00), (u'NY', 2012-02-13 00:00:00), (u'NY', 2012-02-27 00:00:00), (u'NY', 2012-03-12 00:00:00), (u'NY', 2012-04-02 00:00:00), (u'NY', 2012-05-07 00:00:00), (u'NY', 2012-05-14 00:00:00), (u'NY', 2012-06-04 00:00:00), (u'NY', 2012-07-23 00:00:00), (u'NY', 2012-07-30 00:00:00), (u'NY', 2012-09-03 00:00:00), (u'NY', 2012-10-08 00:00:00), (u'NY', 2012-10-15 00:00:00), (u'NY', 2012-10-29 00:00:00), (u'NY', 2012-11-26 00:00:00), (u'NY', 2012-12-10 00:00:00), (u'NY', 2012-12-17 00:00:00), (u'TX', 2009-01-26 00:00:00), (u'TX', 2009-02-16 00:00:00), (u'TX', 2009-03-02 00:00:00), (u'TX', 2009-03-16 00:00:00), (u'TX', 2009-04-20 00:00:00), (u'TX', 2009-06-01 00:00:00), (u'TX', 2009-07-27 00:00:00), (u'TX', 2009-08-03 00:00:00), (u'TX', 2009-09-21 00:00:00), (u'TX', 2009-09-28 00:00:00), (u'TX', 2009-10-19 00:00:00), (u'TX', 2009-11-30 00:00:00), (u'TX', 2010-03-22 00:00:00), (u'TX', 2010-04-19 00:00:00), (u'TX', 2010-05-17 00:00:00), (u'TX', 2010-07-05 00:00:00), (u'TX', 2010-07-26 00:00:00), (u'TX', 2010-09-27 00:00:00), (u'TX', 2010-10-04 00:00:00), (u'TX', 2010-10-25 00:00:00), (u'TX', 2010-12-20 00:00:00), (u'TX', 2011-01-24 00:00:00), (u'TX', 2011-02-07 00:00:00), (u'TX', 2011-04-25 00:00:00), (u'TX', 2011-05-30 00:00:00), (u'TX', 2011-07-04 00:00:00), (u'TX', 2011-07-18 00:00:00), (u'TX', 2011-09-26 00:00:00), (u'TX', 2011-12-05 00:00:00), (u'TX', 2011-12-19 00:00:00), (u'TX', 2012-02-27 00:00:00), (u'TX', 2012-03-05 00:00:00), (u'TX', 2012-03-19 00:00:00), (u'TX', 2012-04-16 00:00:00), (u'TX', 2012-04-23 00:00:00), (u'TX', 2012-04-30 00:00:00), (u'TX', 2012-06-18 00:00:00), (u'TX', 2012-08-06 00:00:00), (u'TX', 2012-09-10 00:00:00), (u'TX', 2012-10-29 00:00:00), (u'TX', 2012-11-05 00:00:00), (u'fl', 2009-01-19 00:00:00), (u'fl', 2009-02-16 00:00:00), (u'fl', 2009-07-20 00:00:00), (u'fl', 2009-08-31 00:00:00), (u'fl', 2009-10-05 00:00:00), (u'fl', 2010-01-04 00:00:00), (u'fl', 2010-01-11 00:00:00), (u'fl', 2010-02-01 00:00:00), (u'fl', 2010-02-15 00:00:00), (u'fl', 2010-04-19 00:00:00), (u'fl', 2010-05-31 00:00:00), (u'fl', 2010-06-07 00:00:00), (u'fl', 2010-06-28 00:00:00), (u'fl', 2010-08-09 00:00:00), (u'fl', 2010-08-30 00:00:00), (u'fl', 2010-09-06 00:00:00), (u'fl', 2010-11-01 00:00:00), (u'fl', 2010-11-15 00:00:00), (u'fl', 2010-12-06 00:00:00), (u'fl', 2011-01-10 00:00:00), (u'fl', 2011-01-24 00:00:00), (u'fl', 2011-02-07 00:00:00), (u'fl', 2011-03-14 00:00:00), (u'fl', 2011-03-28 00:00:00), (u'fl', 2011-05-09 00:00:00), (u'fl', 2011-05-16 00:00:00), (u'fl', 2011-05-23 00:00:00), (u'fl', 2011-06-13 00:00:00), (u'fl', 2011-08-01 00:00:00), (u'fl', 2011-08-08 00:00:00), (u'fl', 2011-08-22 00:00:00), (u'fl', 2011-09-12 00:00:00), (u'fl', 2011-10-17 00:00:00), (u'fl', 2011-11-14 00:00:00), (u'fl', 2012-01-02 00:00:00), (u'fl', 2012-03-12 00:00:00), (u'fl', 2012-03-26 00:00:00), (u'fl', 2012-04-30 00:00:00), (u'fl', 2012-05-14 00:00:00), (u'fl', 2012-06-25 00:00:00), (u'fl', 2012-09-17 00:00:00), (u'fl', 2012-10-01 00:00:00), (u'fl', 2012-11-12 00:00:00)]"
       ]
      }
     ],
     "prompt_number": 148
    },
    {
     "cell_type": "code",
     "collapsed": false,
     "input": [
      "#1st index in multi level index\n",
      "Daily.index.levels[0]"
     ],
     "language": "python",
     "metadata": {},
     "outputs": [
      {
       "metadata": {},
       "output_type": "pyout",
       "prompt_number": 149,
       "text": [
        "Index([u'FL', u'GA', u'MA', u'NY', u'TX', u'fl'], dtype=object)"
       ]
      }
     ],
     "prompt_number": 149
    },
    {
     "cell_type": "code",
     "collapsed": false,
     "input": [
      "#2nd index in multi level index\n",
      "Daily.index.levels[1]"
     ],
     "language": "python",
     "metadata": {},
     "outputs": [
      {
       "metadata": {},
       "output_type": "pyout",
       "prompt_number": 150,
       "text": [
        "<class 'pandas.tseries.index.DatetimeIndex'>\n",
        "[2009-01-05 00:00:00, ..., 2012-12-31 00:00:00]\n",
        "Length: 181, Freq: None, Timezone: None"
       ]
      }
     ],
     "prompt_number": 150
    },
    {
     "cell_type": "code",
     "collapsed": false,
     "input": [
      "#Dataframe index - locate FL, GA, NY andTX - and plot Date/Customer count for each\n",
      "Daily.loc['FL'].plot()\n",
      "Daily.loc['GA'].plot()\n",
      "Daily.loc['NY'].plot()\n",
      "Daily.loc['TX'].plot()"
     ],
     "language": "python",
     "metadata": {},
     "outputs": [
      {
       "metadata": {},
       "output_type": "pyout",
       "prompt_number": 152,
       "text": [
        "<matplotlib.axes.AxesSubplot at 0x10a8372d0>"
       ]
      },
      {
       "metadata": {},
       "output_type": "display_data",
       "png": "[encoded data removed]",
       "text": [
        "<matplotlib.figure.Figure at 0x109545ad0>"
       ]
      },
      {
       "metadata": {},
       "output_type": "display_data",
       "png": "[encoded data removed]",
       "text": [
        "<matplotlib.figure.Figure at 0x10a8d6a10>"
       ]
      },
      {
       "metadata": {},
       "output_type": "display_data",
       "png": "[encoded data removed]",
       "text": [
        "<matplotlib.figure.Figure at 0x10a8d3990>"
       ]
      },
      {
       "metadata": {},
       "output_type": "display_data",
       "png": "[encoded data removed]",
       "text": [
        "<matplotlib.figure.Figure at 0x10a831710>"
       ]
      }
     ],
     "prompt_number": 152
    },
    {
     "cell_type": "code",
     "collapsed": false,
     "input": [
      "# Find the dataframe's index FL, GA, NY or TX, then slice on 2012 and plot\n",
      "Daily.loc['FL']['2012':].plot()\n",
      "Daily.loc['NY']['2012':].plot()\n",
      "Daily.loc['TX']['2012':].plot()\n",
      "Daily.loc['GA']['2012':].plot()"
     ],
     "language": "python",
     "metadata": {},
     "outputs": [
      {
       "metadata": {},
       "output_type": "pyout",
       "prompt_number": 157,
       "text": [
        "<matplotlib.axes.AxesSubplot at 0x10a4d9c90>"
       ]
      },
      {
       "metadata": {},
       "output_type": "display_data",
       "png": "[encoded data removed]",
       "text": [
        "<matplotlib.figure.Figure at 0x10a54dd10>"
       ]
      },
      {
       "metadata": {},
       "output_type": "display_data",
       "png": "[encoded data removed]",
       "text": [
        "<matplotlib.figure.Figure at 0x10a800050>"
       ]
      },
      {
       "metadata": {},
       "output_type": "display_data",
       "png": "[encoded data removed]",
       "text": [
        "<matplotlib.figure.Figure at 0x10a83b6d0>"
       ]
      },
      {
       "metadata": {},
       "output_type": "display_data",
       "png": "[encoded data removed]",
       "text": [
        "<matplotlib.figure.Figure at 0x10a4d9a10>"
       ]
      }
     ],
     "prompt_number": 157
    },
    {
     "cell_type": "code",
     "collapsed": false,
     "input": [
      "# Calculate Outliers\n",
      "# Using transform instead of apply\n",
      "# Using percentiles\n",
      "StateYearMonth = Daily.groupby([Daily.index.get_level_values(0), Daily.index.get_level_values(1).year, Daily.index.get_level_values(1).month])\n",
      "Daily['Lower'] = StateYearMonth['CustomerCount'].transform( lambda x: x.quantile(q=.25) - (1.5*x.quantile(q=.75)-x.quantile(q=.25)) )\n",
      "Daily['Upper'] = StateYearMonth['CustomerCount'].transform( lambda x: x.quantile(q=.75) + (1.5*x.quantile(q=.75)-x.quantile(q=.25)) )\n",
      "Daily['Outlier'] = (Daily['CustomerCount'] < Daily['Lower']) | (Daily['CustomerCount'] > Daily['Upper']) \n",
      "\n",
      "# Remove Ouliers\n",
      "Daily = Daily[Daily['Outlier'] == False]"
     ],
     "language": "python",
     "metadata": {},
     "outputs": [],
     "prompt_number": 158
    },
    {
     "cell_type": "code",
     "collapsed": false,
     "input": [
      "Daily.head()"
     ],
     "language": "python",
     "metadata": {},
     "outputs": [
      {
       "html": [
        "<div style=\"max-height:1000px;max-width:1500px;overflow:auto;\">\n",
        "<table border=\"1\" class=\"dataframe\">\n",
        "  <thead>\n",
        "    <tr style=\"text-align: right;\">\n",
        "      <th></th>\n",
        "      <th></th>\n",
        "      <th>CustomerCount</th>\n",
        "      <th>Lower</th>\n",
        "      <th>Upper</th>\n",
        "      <th>Outlier</th>\n",
        "    </tr>\n",
        "    <tr>\n",
        "      <th>State</th>\n",
        "      <th>StatusDate</th>\n",
        "      <th></th>\n",
        "      <th></th>\n",
        "      <th></th>\n",
        "      <th></th>\n",
        "    </tr>\n",
        "  </thead>\n",
        "  <tbody>\n",
        "    <tr>\n",
        "      <th rowspan=\"5\" valign=\"top\">FL</th>\n",
        "      <th>2009-01-05</th>\n",
        "      <td> 873</td>\n",
        "      <td> 436.50</td>\n",
        "      <td> 1309.50</td>\n",
        "      <td> False</td>\n",
        "    </tr>\n",
        "    <tr>\n",
        "      <th>2009-02-09</th>\n",
        "      <td> 928</td>\n",
        "      <td> 464.00</td>\n",
        "      <td> 1392.00</td>\n",
        "      <td> False</td>\n",
        "    </tr>\n",
        "    <tr>\n",
        "      <th>2009-03-02</th>\n",
        "      <td> 824</td>\n",
        "      <td>-560.75</td>\n",
        "      <td> 1051.25</td>\n",
        "      <td> False</td>\n",
        "    </tr>\n",
        "    <tr>\n",
        "      <th>2009-03-09</th>\n",
        "      <td>  57</td>\n",
        "      <td>-560.75</td>\n",
        "      <td> 1051.25</td>\n",
        "      <td> False</td>\n",
        "    </tr>\n",
        "    <tr>\n",
        "      <th>2009-03-30</th>\n",
        "      <td>  43</td>\n",
        "      <td>-560.75</td>\n",
        "      <td> 1051.25</td>\n",
        "      <td> False</td>\n",
        "    </tr>\n",
        "  </tbody>\n",
        "</table>\n",
        "</div>"
       ],
       "metadata": {},
       "output_type": "pyout",
       "prompt_number": 159,
       "text": [
        "                  CustomerCount   Lower    Upper Outlier\n",
        "State StatusDate                                        \n",
        "FL    2009-01-05            873  436.50  1309.50   False\n",
        "      2009-02-09            928  464.00  1392.00   False\n",
        "      2009-03-02            824 -560.75  1051.25   False\n",
        "      2009-03-09             57 -560.75  1051.25   False\n",
        "      2009-03-30             43 -560.75  1051.25   False"
       ]
      }
     ],
     "prompt_number": 159
    },
    {
     "cell_type": "code",
     "collapsed": false,
     "input": [
      "# Combine all markets\n",
      "# Max customer count by state\n",
      "# First statement gets the customer count by date and sums them and calls them CustomerCount\n",
      "ALL = DataFrame(Daily['CustomerCount'].groupby(Daily.index.get_level_values(1)).sum())\n",
      "ALL.columns = ['CustomerCount'] #rename column\n",
      "\n",
      "# Group by Year and  Month\n",
      "# DataFrame Groupby object\n",
      "YearMonth = ALL.groupby([lambda x: x.year, lambda x: x.month])\n",
      "\n",
      "# What is max count per year and month\n",
      "ALL['Max'] = YearMonth['CustomerCount'].transform(lambda x: x.max())\n",
      "ALL.head()"
     ],
     "language": "python",
     "metadata": {},
     "outputs": [
      {
       "output_type": "stream",
       "stream": "stdout",
       "text": [
        "<class 'pandas.core.groupby.DataFrameGroupBy'>\n"
       ]
      },
      {
       "html": [
        "<div style=\"max-height:1000px;max-width:1500px;overflow:auto;\">\n",
        "<table border=\"1\" class=\"dataframe\">\n",
        "  <thead>\n",
        "    <tr style=\"text-align: right;\">\n",
        "      <th></th>\n",
        "      <th>CustomerCount</th>\n",
        "      <th>Max</th>\n",
        "    </tr>\n",
        "    <tr>\n",
        "      <th>StatusDate</th>\n",
        "      <th></th>\n",
        "      <th></th>\n",
        "    </tr>\n",
        "  </thead>\n",
        "  <tbody>\n",
        "    <tr>\n",
        "      <th>2009-01-05</th>\n",
        "      <td> 1174</td>\n",
        "      <td> 1441</td>\n",
        "    </tr>\n",
        "    <tr>\n",
        "      <th>2009-01-12</th>\n",
        "      <td> 1441</td>\n",
        "      <td> 1441</td>\n",
        "    </tr>\n",
        "    <tr>\n",
        "      <th>2009-01-19</th>\n",
        "      <td> 1159</td>\n",
        "      <td> 1441</td>\n",
        "    </tr>\n",
        "    <tr>\n",
        "      <th>2009-01-26</th>\n",
        "      <td>  215</td>\n",
        "      <td> 1441</td>\n",
        "    </tr>\n",
        "    <tr>\n",
        "      <th>2009-02-02</th>\n",
        "      <td>  651</td>\n",
        "      <td> 1951</td>\n",
        "    </tr>\n",
        "  </tbody>\n",
        "</table>\n",
        "</div>"
       ],
       "metadata": {},
       "output_type": "pyout",
       "prompt_number": 165,
       "text": [
        "            CustomerCount   Max\n",
        "StatusDate                     \n",
        "2009-01-05           1174  1441\n",
        "2009-01-12           1441  1441\n",
        "2009-01-19           1159  1441\n",
        "2009-01-26            215  1441\n",
        "2009-02-02            651  1951"
       ]
      }
     ],
     "prompt_number": 165
    },
    {
     "cell_type": "code",
     "collapsed": false,
     "input": [
      "data = [1000,2000,3000]\n",
      "idx = date_range(start='12/31/2011', end='12/31/2013', freq = 'A')\n",
      "BHAG = DataFrame(data, index=idx, columns=['BHAG'])\n",
      "BHAG"
     ],
     "language": "python",
     "metadata": {},
     "outputs": [
      {
       "html": [
        "<div style=\"max-height:1000px;max-width:1500px;overflow:auto;\">\n",
        "<table border=\"1\" class=\"dataframe\">\n",
        "  <thead>\n",
        "    <tr style=\"text-align: right;\">\n",
        "      <th></th>\n",
        "      <th>BHAG</th>\n",
        "    </tr>\n",
        "  </thead>\n",
        "  <tbody>\n",
        "    <tr>\n",
        "      <th>2011-12-31</th>\n",
        "      <td> 1000</td>\n",
        "    </tr>\n",
        "    <tr>\n",
        "      <th>2012-12-31</th>\n",
        "      <td> 2000</td>\n",
        "    </tr>\n",
        "    <tr>\n",
        "      <th>2013-12-31</th>\n",
        "      <td> 3000</td>\n",
        "    </tr>\n",
        "  </tbody>\n",
        "</table>\n",
        "</div>"
       ],
       "metadata": {},
       "output_type": "pyout",
       "prompt_number": 168,
       "text": [
        "            BHAG\n",
        "2011-12-31  1000\n",
        "2012-12-31  2000\n",
        "2013-12-31  3000"
       ]
      }
     ],
     "prompt_number": 168
    },
    {
     "cell_type": "code",
     "collapsed": false,
     "input": [
      "combined = concat([ALL,BHAG],axis=0)\n",
      "combined = combined.sort(axis=0)\n",
      "combined.tail()"
     ],
     "language": "python",
     "metadata": {},
     "outputs": [
      {
       "html": [
        "<div style=\"max-height:1000px;max-width:1500px;overflow:auto;\">\n",
        "<table border=\"1\" class=\"dataframe\">\n",
        "  <thead>\n",
        "    <tr style=\"text-align: right;\">\n",
        "      <th></th>\n",
        "      <th>BHAG</th>\n",
        "      <th>CustomerCount</th>\n",
        "      <th>Max</th>\n",
        "    </tr>\n",
        "  </thead>\n",
        "  <tbody>\n",
        "    <tr>\n",
        "      <th>2012-12-10</th>\n",
        "      <td>  NaN</td>\n",
        "      <td> 377</td>\n",
        "      <td> 672</td>\n",
        "    </tr>\n",
        "    <tr>\n",
        "      <th>2012-12-17</th>\n",
        "      <td>  NaN</td>\n",
        "      <td> 597</td>\n",
        "      <td> 672</td>\n",
        "    </tr>\n",
        "    <tr>\n",
        "      <th>2012-12-31</th>\n",
        "      <td>  NaN</td>\n",
        "      <td> 446</td>\n",
        "      <td> 672</td>\n",
        "    </tr>\n",
        "    <tr>\n",
        "      <th>2012-12-31</th>\n",
        "      <td> 2000</td>\n",
        "      <td> NaN</td>\n",
        "      <td> NaN</td>\n",
        "    </tr>\n",
        "    <tr>\n",
        "      <th>2013-12-31</th>\n",
        "      <td> 3000</td>\n",
        "      <td> NaN</td>\n",
        "      <td> NaN</td>\n",
        "    </tr>\n",
        "  </tbody>\n",
        "</table>\n",
        "</div>"
       ],
       "metadata": {},
       "output_type": "pyout",
       "prompt_number": 169,
       "text": [
        "            BHAG  CustomerCount  Max\n",
        "2012-12-10   NaN            377  672\n",
        "2012-12-17   NaN            597  672\n",
        "2012-12-31   NaN            446  672\n",
        "2012-12-31  2000            NaN  NaN\n",
        "2013-12-31  3000            NaN  NaN"
       ]
      }
     ],
     "prompt_number": 169
    },
    {
     "cell_type": "code",
     "collapsed": false,
     "input": [
      "import matplotlib.pyplot as plt\n",
      "fig, axes = plt.subplots(figsize=(10,5))\n",
      "combined['BHAG'].fillna(method='pad').plot(color='green',label='BHAG')\n",
      "combined['Max'].plot(color='blue',label='All Markets')\n",
      "plt.legend(loc='best') # Best location for the legend"
     ],
     "language": "python",
     "metadata": {},
     "outputs": [
      {
       "metadata": {},
       "output_type": "pyout",
       "prompt_number": 175,
       "text": [
        "<matplotlib.legend.Legend at 0x10a599d10>"
       ]
      },
      {
       "metadata": {},
       "output_type": "display_data",
       "png": "[encoded data removed]",
       "text": [
        "<matplotlib.figure.Figure at 0x10a5acad0>"
       ]
      }
     ],
     "prompt_number": 175
    },
    {
     "cell_type": "code",
     "collapsed": false,
     "input": [
      "Year = combined.groupby(lambda x: x.year).max()\n",
      "Year"
     ],
     "language": "python",
     "metadata": {},
     "outputs": [
      {
       "html": [
        "<div style=\"max-height:1000px;max-width:1500px;overflow:auto;\">\n",
        "<table border=\"1\" class=\"dataframe\">\n",
        "  <thead>\n",
        "    <tr style=\"text-align: right;\">\n",
        "      <th></th>\n",
        "      <th>BHAG</th>\n",
        "      <th>CustomerCount</th>\n",
        "      <th>Max</th>\n",
        "    </tr>\n",
        "  </thead>\n",
        "  <tbody>\n",
        "    <tr>\n",
        "      <th>2009</th>\n",
        "      <td>  NaN</td>\n",
        "      <td> 2165</td>\n",
        "      <td> 2165</td>\n",
        "    </tr>\n",
        "    <tr>\n",
        "      <th>2010</th>\n",
        "      <td>  NaN</td>\n",
        "      <td> 2269</td>\n",
        "      <td> 2269</td>\n",
        "    </tr>\n",
        "    <tr>\n",
        "      <th>2011</th>\n",
        "      <td> 1000</td>\n",
        "      <td> 2016</td>\n",
        "      <td> 2016</td>\n",
        "    </tr>\n",
        "    <tr>\n",
        "      <th>2012</th>\n",
        "      <td> 2000</td>\n",
        "      <td> 1923</td>\n",
        "      <td> 1923</td>\n",
        "    </tr>\n",
        "    <tr>\n",
        "      <th>2013</th>\n",
        "      <td> 3000</td>\n",
        "      <td>  NaN</td>\n",
        "      <td>  NaN</td>\n",
        "    </tr>\n",
        "  </tbody>\n",
        "</table>\n",
        "</div>"
       ],
       "metadata": {},
       "output_type": "pyout",
       "prompt_number": 176,
       "text": [
        "      BHAG  CustomerCount   Max\n",
        "2009   NaN           2165  2165\n",
        "2010   NaN           2269  2269\n",
        "2011  1000           2016  2016\n",
        "2012  2000           1923  1923\n",
        "2013  3000            NaN   NaN"
       ]
      }
     ],
     "prompt_number": 176
    },
    {
     "cell_type": "code",
     "collapsed": false,
     "input": [
      "# Pct change from previous year\n",
      "Year['YR_PCT_CHANGE'] = Year['Max'].pct_change(periods=1)\n",
      "Year"
     ],
     "language": "python",
     "metadata": {},
     "outputs": [
      {
       "html": [
        "<div style=\"max-height:1000px;max-width:1500px;overflow:auto;\">\n",
        "<table border=\"1\" class=\"dataframe\">\n",
        "  <thead>\n",
        "    <tr style=\"text-align: right;\">\n",
        "      <th></th>\n",
        "      <th>BHAG</th>\n",
        "      <th>CustomerCount</th>\n",
        "      <th>Max</th>\n",
        "      <th>YR_PCT_CHANGE</th>\n",
        "    </tr>\n",
        "  </thead>\n",
        "  <tbody>\n",
        "    <tr>\n",
        "      <th>2009</th>\n",
        "      <td>  NaN</td>\n",
        "      <td> 2165</td>\n",
        "      <td> 2165</td>\n",
        "      <td>      NaN</td>\n",
        "    </tr>\n",
        "    <tr>\n",
        "      <th>2010</th>\n",
        "      <td>  NaN</td>\n",
        "      <td> 2269</td>\n",
        "      <td> 2269</td>\n",
        "      <td> 0.048037</td>\n",
        "    </tr>\n",
        "    <tr>\n",
        "      <th>2011</th>\n",
        "      <td> 1000</td>\n",
        "      <td> 2016</td>\n",
        "      <td> 2016</td>\n",
        "      <td>-0.111503</td>\n",
        "    </tr>\n",
        "    <tr>\n",
        "      <th>2012</th>\n",
        "      <td> 2000</td>\n",
        "      <td> 1923</td>\n",
        "      <td> 1923</td>\n",
        "      <td>-0.046131</td>\n",
        "    </tr>\n",
        "    <tr>\n",
        "      <th>2013</th>\n",
        "      <td> 3000</td>\n",
        "      <td>  NaN</td>\n",
        "      <td>  NaN</td>\n",
        "      <td>      NaN</td>\n",
        "    </tr>\n",
        "  </tbody>\n",
        "</table>\n",
        "</div>"
       ],
       "metadata": {},
       "output_type": "pyout",
       "prompt_number": 177,
       "text": [
        "      BHAG  CustomerCount   Max  YR_PCT_CHANGE\n",
        "2009   NaN           2165  2165            NaN\n",
        "2010   NaN           2269  2269       0.048037\n",
        "2011  1000           2016  2016      -0.111503\n",
        "2012  2000           1923  1923      -0.046131\n",
        "2013  3000            NaN   NaN            NaN"
       ]
      }
     ],
     "prompt_number": 177
    },
    {
     "cell_type": "code",
     "collapsed": false,
     "input": [
      "# Calculate percentage change\n",
      "(1 + Year.ix[2012,'YR_PCT_CHANGE']) * Year.ix[2012,'Max']"
     ],
     "language": "python",
     "metadata": {},
     "outputs": [
      {
       "metadata": {},
       "output_type": "pyout",
       "prompt_number": 179,
       "text": [
        "1834.2901785714287"
       ]
      }
     ],
     "prompt_number": 179
    },
    {
     "cell_type": "code",
     "collapsed": false,
     "input": [
      "# Plot all markets with Max per year\n",
      "ALL['Max'].plot(figsize=(10,5));plt.title('ALL Markets')\n",
      "\n",
      "# Four graphs per state\n",
      "fig, axes = plt.subplots(nrows=2,ncols=2,figsize=(20,10))\n",
      "fig.subplots_adjust(hspace=2.0) # Create space between plots - position horizontally\n",
      "\n",
      "Daily.loc['FL']['CustomerCount']['2012':].fillna(method='pad').plot(ax=axes[0,0]); axes[0,0].set_title('Florida')\n",
      "Daily.loc['GA']['CustomerCount']['2012':].fillna(method='pad').plot(ax=axes[0,1]); axes[0,1].set_title('Georgia')\n",
      "Daily.loc['TX']['CustomerCount']['2012':].fillna(method='pad').plot(ax=axes[1,0]); axes[1,0].set_title('Texas')\n",
      "Daily.loc['NY']['CustomerCount']['2012':].fillna(method='pad').plot(ax=axes[1,1]); axes[1,1].set_title('North East')\n",
      "\n"
     ],
     "language": "python",
     "metadata": {},
     "outputs": [
      {
       "metadata": {},
       "output_type": "pyout",
       "prompt_number": 181,
       "text": [
        "<matplotlib.text.Text at 0x10a947c50>"
       ]
      },
      {
       "metadata": {},
       "output_type": "display_data",
       "png": "[encoded data removed]",
       "text": [
        "<matplotlib.figure.Figure at 0x10a3caa50>"
       ]
      },
      {
       "metadata": {},
       "output_type": "display_data",
       "png": "[encoded data removed]",
       "text": [
        "<matplotlib.figure.Figure at 0x10a8352d0>"
       ]
      }
     ],
     "prompt_number": 181
    },
    {
     "cell_type": "code",
     "collapsed": false,
     "input": [
      "#Lesson 4 - Basics\n",
      "from pandas import DataFrame\n",
      "import pandas as pd"
     ],
     "language": "python",
     "metadata": {},
     "outputs": [],
     "prompt_number": 182
    },
    {
     "cell_type": "code",
     "collapsed": false,
     "input": [
      "d=[x for x in range(0,10)]\n",
      "dframe = DataFrame(d)\n",
      "dframe"
     ],
     "language": "python",
     "metadata": {},
     "outputs": [
      {
       "html": [
        "<div style=\"max-height:1000px;max-width:1500px;overflow:auto;\">\n",
        "<table border=\"1\" class=\"dataframe\">\n",
        "  <thead>\n",
        "    <tr style=\"text-align: right;\">\n",
        "      <th></th>\n",
        "      <th>0</th>\n",
        "    </tr>\n",
        "  </thead>\n",
        "  <tbody>\n",
        "    <tr>\n",
        "      <th>0</th>\n",
        "      <td> 0</td>\n",
        "    </tr>\n",
        "    <tr>\n",
        "      <th>1</th>\n",
        "      <td> 1</td>\n",
        "    </tr>\n",
        "    <tr>\n",
        "      <th>2</th>\n",
        "      <td> 2</td>\n",
        "    </tr>\n",
        "    <tr>\n",
        "      <th>3</th>\n",
        "      <td> 3</td>\n",
        "    </tr>\n",
        "    <tr>\n",
        "      <th>4</th>\n",
        "      <td> 4</td>\n",
        "    </tr>\n",
        "    <tr>\n",
        "      <th>5</th>\n",
        "      <td> 5</td>\n",
        "    </tr>\n",
        "    <tr>\n",
        "      <th>6</th>\n",
        "      <td> 6</td>\n",
        "    </tr>\n",
        "    <tr>\n",
        "      <th>7</th>\n",
        "      <td> 7</td>\n",
        "    </tr>\n",
        "    <tr>\n",
        "      <th>8</th>\n",
        "      <td> 8</td>\n",
        "    </tr>\n",
        "    <tr>\n",
        "      <th>9</th>\n",
        "      <td> 9</td>\n",
        "    </tr>\n",
        "  </tbody>\n",
        "</table>\n",
        "</div>"
       ],
       "metadata": {},
       "output_type": "pyout",
       "prompt_number": 183,
       "text": [
        "   0\n",
        "0  0\n",
        "1  1\n",
        "2  2\n",
        "3  3\n",
        "4  4\n",
        "5  5\n",
        "6  6\n",
        "7  7\n",
        "8  8\n",
        "9  9"
       ]
      }
     ],
     "prompt_number": 183
    },
    {
     "cell_type": "code",
     "collapsed": false,
     "input": [
      "#Adds a new column called Rev and sets value to 5 below\n",
      "dframe.columns = ['Rev']\n",
      "dframe"
     ],
     "language": "python",
     "metadata": {},
     "outputs": [
      {
       "html": [
        "<div style=\"max-height:1000px;max-width:1500px;overflow:auto;\">\n",
        "<table border=\"1\" class=\"dataframe\">\n",
        "  <thead>\n",
        "    <tr style=\"text-align: right;\">\n",
        "      <th></th>\n",
        "      <th>Rev</th>\n",
        "    </tr>\n",
        "  </thead>\n",
        "  <tbody>\n",
        "    <tr>\n",
        "      <th>0</th>\n",
        "      <td> 0</td>\n",
        "    </tr>\n",
        "    <tr>\n",
        "      <th>1</th>\n",
        "      <td> 1</td>\n",
        "    </tr>\n",
        "    <tr>\n",
        "      <th>2</th>\n",
        "      <td> 2</td>\n",
        "    </tr>\n",
        "    <tr>\n",
        "      <th>3</th>\n",
        "      <td> 3</td>\n",
        "    </tr>\n",
        "    <tr>\n",
        "      <th>4</th>\n",
        "      <td> 4</td>\n",
        "    </tr>\n",
        "    <tr>\n",
        "      <th>5</th>\n",
        "      <td> 5</td>\n",
        "    </tr>\n",
        "    <tr>\n",
        "      <th>6</th>\n",
        "      <td> 6</td>\n",
        "    </tr>\n",
        "    <tr>\n",
        "      <th>7</th>\n",
        "      <td> 7</td>\n",
        "    </tr>\n",
        "    <tr>\n",
        "      <th>8</th>\n",
        "      <td> 8</td>\n",
        "    </tr>\n",
        "    <tr>\n",
        "      <th>9</th>\n",
        "      <td> 9</td>\n",
        "    </tr>\n",
        "  </tbody>\n",
        "</table>\n",
        "</div>"
       ],
       "metadata": {},
       "output_type": "pyout",
       "prompt_number": 184,
       "text": [
        "   Rev\n",
        "0    0\n",
        "1    1\n",
        "2    2\n",
        "3    3\n",
        "4    4\n",
        "5    5\n",
        "6    6\n",
        "7    7\n",
        "8    8\n",
        "9    9"
       ]
      }
     ],
     "prompt_number": 184
    },
    {
     "cell_type": "code",
     "collapsed": false,
     "input": [
      "dframe['NewCol']=5\n",
      "dframe"
     ],
     "language": "python",
     "metadata": {},
     "outputs": [
      {
       "html": [
        "<div style=\"max-height:1000px;max-width:1500px;overflow:auto;\">\n",
        "<table border=\"1\" class=\"dataframe\">\n",
        "  <thead>\n",
        "    <tr style=\"text-align: right;\">\n",
        "      <th></th>\n",
        "      <th>Rev</th>\n",
        "      <th>NewCol</th>\n",
        "    </tr>\n",
        "  </thead>\n",
        "  <tbody>\n",
        "    <tr>\n",
        "      <th>0</th>\n",
        "      <td> 0</td>\n",
        "      <td> 5</td>\n",
        "    </tr>\n",
        "    <tr>\n",
        "      <th>1</th>\n",
        "      <td> 1</td>\n",
        "      <td> 5</td>\n",
        "    </tr>\n",
        "    <tr>\n",
        "      <th>2</th>\n",
        "      <td> 2</td>\n",
        "      <td> 5</td>\n",
        "    </tr>\n",
        "    <tr>\n",
        "      <th>3</th>\n",
        "      <td> 3</td>\n",
        "      <td> 5</td>\n",
        "    </tr>\n",
        "    <tr>\n",
        "      <th>4</th>\n",
        "      <td> 4</td>\n",
        "      <td> 5</td>\n",
        "    </tr>\n",
        "    <tr>\n",
        "      <th>5</th>\n",
        "      <td> 5</td>\n",
        "      <td> 5</td>\n",
        "    </tr>\n",
        "    <tr>\n",
        "      <th>6</th>\n",
        "      <td> 6</td>\n",
        "      <td> 5</td>\n",
        "    </tr>\n",
        "    <tr>\n",
        "      <th>7</th>\n",
        "      <td> 7</td>\n",
        "      <td> 5</td>\n",
        "    </tr>\n",
        "    <tr>\n",
        "      <th>8</th>\n",
        "      <td> 8</td>\n",
        "      <td> 5</td>\n",
        "    </tr>\n",
        "    <tr>\n",
        "      <th>9</th>\n",
        "      <td> 9</td>\n",
        "      <td> 5</td>\n",
        "    </tr>\n",
        "  </tbody>\n",
        "</table>\n",
        "</div>"
       ],
       "metadata": {},
       "output_type": "pyout",
       "prompt_number": 185,
       "text": [
        "   Rev  NewCol\n",
        "0    0       5\n",
        "1    1       5\n",
        "2    2       5\n",
        "3    3       5\n",
        "4    4       5\n",
        "5    5       5\n",
        "6    6       5\n",
        "7    7       5\n",
        "8    8       5\n",
        "9    9       5"
       ]
      }
     ],
     "prompt_number": 185
    },
    {
     "cell_type": "code",
     "collapsed": false,
     "input": [
      "dframe['NewCol'] = dframe['NewCol'] + 1\n",
      "dframe"
     ],
     "language": "python",
     "metadata": {},
     "outputs": [
      {
       "html": [
        "<div style=\"max-height:1000px;max-width:1500px;overflow:auto;\">\n",
        "<table border=\"1\" class=\"dataframe\">\n",
        "  <thead>\n",
        "    <tr style=\"text-align: right;\">\n",
        "      <th></th>\n",
        "      <th>Rev</th>\n",
        "      <th>NewCol</th>\n",
        "    </tr>\n",
        "  </thead>\n",
        "  <tbody>\n",
        "    <tr>\n",
        "      <th>0</th>\n",
        "      <td> 0</td>\n",
        "      <td> 6</td>\n",
        "    </tr>\n",
        "    <tr>\n",
        "      <th>1</th>\n",
        "      <td> 1</td>\n",
        "      <td> 6</td>\n",
        "    </tr>\n",
        "    <tr>\n",
        "      <th>2</th>\n",
        "      <td> 2</td>\n",
        "      <td> 6</td>\n",
        "    </tr>\n",
        "    <tr>\n",
        "      <th>3</th>\n",
        "      <td> 3</td>\n",
        "      <td> 6</td>\n",
        "    </tr>\n",
        "    <tr>\n",
        "      <th>4</th>\n",
        "      <td> 4</td>\n",
        "      <td> 6</td>\n",
        "    </tr>\n",
        "    <tr>\n",
        "      <th>5</th>\n",
        "      <td> 5</td>\n",
        "      <td> 6</td>\n",
        "    </tr>\n",
        "    <tr>\n",
        "      <th>6</th>\n",
        "      <td> 6</td>\n",
        "      <td> 6</td>\n",
        "    </tr>\n",
        "    <tr>\n",
        "      <th>7</th>\n",
        "      <td> 7</td>\n",
        "      <td> 6</td>\n",
        "    </tr>\n",
        "    <tr>\n",
        "      <th>8</th>\n",
        "      <td> 8</td>\n",
        "      <td> 6</td>\n",
        "    </tr>\n",
        "    <tr>\n",
        "      <th>9</th>\n",
        "      <td> 9</td>\n",
        "      <td> 6</td>\n",
        "    </tr>\n",
        "  </tbody>\n",
        "</table>\n",
        "</div>"
       ],
       "metadata": {},
       "output_type": "pyout",
       "prompt_number": 186,
       "text": [
        "   Rev  NewCol\n",
        "0    0       6\n",
        "1    1       6\n",
        "2    2       6\n",
        "3    3       6\n",
        "4    4       6\n",
        "5    5       6\n",
        "6    6       6\n",
        "7    7       6\n",
        "8    8       6\n",
        "9    9       6"
       ]
      }
     ],
     "prompt_number": 186
    },
    {
     "cell_type": "code",
     "collapsed": false,
     "input": [
      "del dframe['NewCol']\n",
      "dframe"
     ],
     "language": "python",
     "metadata": {},
     "outputs": [
      {
       "html": [
        "<div style=\"max-height:1000px;max-width:1500px;overflow:auto;\">\n",
        "<table border=\"1\" class=\"dataframe\">\n",
        "  <thead>\n",
        "    <tr style=\"text-align: right;\">\n",
        "      <th></th>\n",
        "      <th>Rev</th>\n",
        "    </tr>\n",
        "  </thead>\n",
        "  <tbody>\n",
        "    <tr>\n",
        "      <th>0</th>\n",
        "      <td> 0</td>\n",
        "    </tr>\n",
        "    <tr>\n",
        "      <th>1</th>\n",
        "      <td> 1</td>\n",
        "    </tr>\n",
        "    <tr>\n",
        "      <th>2</th>\n",
        "      <td> 2</td>\n",
        "    </tr>\n",
        "    <tr>\n",
        "      <th>3</th>\n",
        "      <td> 3</td>\n",
        "    </tr>\n",
        "    <tr>\n",
        "      <th>4</th>\n",
        "      <td> 4</td>\n",
        "    </tr>\n",
        "    <tr>\n",
        "      <th>5</th>\n",
        "      <td> 5</td>\n",
        "    </tr>\n",
        "    <tr>\n",
        "      <th>6</th>\n",
        "      <td> 6</td>\n",
        "    </tr>\n",
        "    <tr>\n",
        "      <th>7</th>\n",
        "      <td> 7</td>\n",
        "    </tr>\n",
        "    <tr>\n",
        "      <th>8</th>\n",
        "      <td> 8</td>\n",
        "    </tr>\n",
        "    <tr>\n",
        "      <th>9</th>\n",
        "      <td> 9</td>\n",
        "    </tr>\n",
        "  </tbody>\n",
        "</table>\n",
        "</div>"
       ],
       "metadata": {},
       "output_type": "pyout",
       "prompt_number": 187,
       "text": [
        "   Rev\n",
        "0    0\n",
        "1    1\n",
        "2    2\n",
        "3    3\n",
        "4    4\n",
        "5    5\n",
        "6    6\n",
        "7    7\n",
        "8    8\n",
        "9    9"
       ]
      }
     ],
     "prompt_number": 187
    },
    {
     "cell_type": "code",
     "collapsed": false,
     "input": [
      "dframe['test'] = 3\n",
      "dframe['col'] = dframe['Rev']\n",
      "dframe"
     ],
     "language": "python",
     "metadata": {},
     "outputs": [
      {
       "html": [
        "<div style=\"max-height:1000px;max-width:1500px;overflow:auto;\">\n",
        "<table border=\"1\" class=\"dataframe\">\n",
        "  <thead>\n",
        "    <tr style=\"text-align: right;\">\n",
        "      <th></th>\n",
        "      <th>Rev</th>\n",
        "      <th>test</th>\n",
        "      <th>col</th>\n",
        "    </tr>\n",
        "  </thead>\n",
        "  <tbody>\n",
        "    <tr>\n",
        "      <th>0</th>\n",
        "      <td> 0</td>\n",
        "      <td> 3</td>\n",
        "      <td> 0</td>\n",
        "    </tr>\n",
        "    <tr>\n",
        "      <th>1</th>\n",
        "      <td> 1</td>\n",
        "      <td> 3</td>\n",
        "      <td> 1</td>\n",
        "    </tr>\n",
        "    <tr>\n",
        "      <th>2</th>\n",
        "      <td> 2</td>\n",
        "      <td> 3</td>\n",
        "      <td> 2</td>\n",
        "    </tr>\n",
        "    <tr>\n",
        "      <th>3</th>\n",
        "      <td> 3</td>\n",
        "      <td> 3</td>\n",
        "      <td> 3</td>\n",
        "    </tr>\n",
        "    <tr>\n",
        "      <th>4</th>\n",
        "      <td> 4</td>\n",
        "      <td> 3</td>\n",
        "      <td> 4</td>\n",
        "    </tr>\n",
        "    <tr>\n",
        "      <th>5</th>\n",
        "      <td> 5</td>\n",
        "      <td> 3</td>\n",
        "      <td> 5</td>\n",
        "    </tr>\n",
        "    <tr>\n",
        "      <th>6</th>\n",
        "      <td> 6</td>\n",
        "      <td> 3</td>\n",
        "      <td> 6</td>\n",
        "    </tr>\n",
        "    <tr>\n",
        "      <th>7</th>\n",
        "      <td> 7</td>\n",
        "      <td> 3</td>\n",
        "      <td> 7</td>\n",
        "    </tr>\n",
        "    <tr>\n",
        "      <th>8</th>\n",
        "      <td> 8</td>\n",
        "      <td> 3</td>\n",
        "      <td> 8</td>\n",
        "    </tr>\n",
        "    <tr>\n",
        "      <th>9</th>\n",
        "      <td> 9</td>\n",
        "      <td> 3</td>\n",
        "      <td> 9</td>\n",
        "    </tr>\n",
        "  </tbody>\n",
        "</table>\n",
        "</div>"
       ],
       "metadata": {},
       "output_type": "pyout",
       "prompt_number": 188,
       "text": [
        "   Rev  test  col\n",
        "0    0     3    0\n",
        "1    1     3    1\n",
        "2    2     3    2\n",
        "3    3     3    3\n",
        "4    4     3    4\n",
        "5    5     3    5\n",
        "6    6     3    6\n",
        "7    7     3    7\n",
        "8    8     3    8\n",
        "9    9     3    9"
       ]
      }
     ],
     "prompt_number": 188
    },
    {
     "cell_type": "code",
     "collapsed": false,
     "input": [
      "i = ['a','b','c','d','e','f','g','h','i','j']\n",
      "dframe.index = i\n",
      "dframe"
     ],
     "language": "python",
     "metadata": {},
     "outputs": [
      {
       "html": [
        "<div style=\"max-height:1000px;max-width:1500px;overflow:auto;\">\n",
        "<table border=\"1\" class=\"dataframe\">\n",
        "  <thead>\n",
        "    <tr style=\"text-align: right;\">\n",
        "      <th></th>\n",
        "      <th>Rev</th>\n",
        "      <th>test</th>\n",
        "      <th>col</th>\n",
        "    </tr>\n",
        "  </thead>\n",
        "  <tbody>\n",
        "    <tr>\n",
        "      <th>a</th>\n",
        "      <td> 0</td>\n",
        "      <td> 3</td>\n",
        "      <td> 0</td>\n",
        "    </tr>\n",
        "    <tr>\n",
        "      <th>b</th>\n",
        "      <td> 1</td>\n",
        "      <td> 3</td>\n",
        "      <td> 1</td>\n",
        "    </tr>\n",
        "    <tr>\n",
        "      <th>c</th>\n",
        "      <td> 2</td>\n",
        "      <td> 3</td>\n",
        "      <td> 2</td>\n",
        "    </tr>\n",
        "    <tr>\n",
        "      <th>d</th>\n",
        "      <td> 3</td>\n",
        "      <td> 3</td>\n",
        "      <td> 3</td>\n",
        "    </tr>\n",
        "    <tr>\n",
        "      <th>e</th>\n",
        "      <td> 4</td>\n",
        "      <td> 3</td>\n",
        "      <td> 4</td>\n",
        "    </tr>\n",
        "    <tr>\n",
        "      <th>f</th>\n",
        "      <td> 5</td>\n",
        "      <td> 3</td>\n",
        "      <td> 5</td>\n",
        "    </tr>\n",
        "    <tr>\n",
        "      <th>g</th>\n",
        "      <td> 6</td>\n",
        "      <td> 3</td>\n",
        "      <td> 6</td>\n",
        "    </tr>\n",
        "    <tr>\n",
        "      <th>h</th>\n",
        "      <td> 7</td>\n",
        "      <td> 3</td>\n",
        "      <td> 7</td>\n",
        "    </tr>\n",
        "    <tr>\n",
        "      <th>i</th>\n",
        "      <td> 8</td>\n",
        "      <td> 3</td>\n",
        "      <td> 8</td>\n",
        "    </tr>\n",
        "    <tr>\n",
        "      <th>j</th>\n",
        "      <td> 9</td>\n",
        "      <td> 3</td>\n",
        "      <td> 9</td>\n",
        "    </tr>\n",
        "  </tbody>\n",
        "</table>\n",
        "</div>"
       ],
       "metadata": {},
       "output_type": "pyout",
       "prompt_number": 189,
       "text": [
        "   Rev  test  col\n",
        "a    0     3    0\n",
        "b    1     3    1\n",
        "c    2     3    2\n",
        "d    3     3    3\n",
        "e    4     3    4\n",
        "f    5     3    5\n",
        "g    6     3    6\n",
        "h    7     3    7\n",
        "i    8     3    8\n",
        "j    9     3    9"
       ]
      }
     ],
     "prompt_number": 189
    },
    {
     "cell_type": "code",
     "collapsed": false,
     "input": [
      "# Select using dataframe loc\n",
      "# loc is label based - map numbers or 'characters'\n",
      "dframe.loc['a']"
     ],
     "language": "python",
     "metadata": {},
     "outputs": [
      {
       "metadata": {},
       "output_type": "pyout",
       "prompt_number": 190,
       "text": [
        "Rev     0\n",
        "test    3\n",
        "col     0\n",
        "Name: a, dtype: int64"
       ]
      }
     ],
     "prompt_number": 190
    },
    {
     "cell_type": "code",
     "collapsed": false,
     "input": [
      "dframe.loc['a':'e'] #inclusive"
     ],
     "language": "python",
     "metadata": {},
     "outputs": [
      {
       "html": [
        "<div style=\"max-height:1000px;max-width:1500px;overflow:auto;\">\n",
        "<table border=\"1\" class=\"dataframe\">\n",
        "  <thead>\n",
        "    <tr style=\"text-align: right;\">\n",
        "      <th></th>\n",
        "      <th>Rev</th>\n",
        "      <th>test</th>\n",
        "      <th>col</th>\n",
        "    </tr>\n",
        "  </thead>\n",
        "  <tbody>\n",
        "    <tr>\n",
        "      <th>a</th>\n",
        "      <td> 0</td>\n",
        "      <td> 3</td>\n",
        "      <td> 0</td>\n",
        "    </tr>\n",
        "    <tr>\n",
        "      <th>b</th>\n",
        "      <td> 1</td>\n",
        "      <td> 3</td>\n",
        "      <td> 1</td>\n",
        "    </tr>\n",
        "    <tr>\n",
        "      <th>c</th>\n",
        "      <td> 2</td>\n",
        "      <td> 3</td>\n",
        "      <td> 2</td>\n",
        "    </tr>\n",
        "    <tr>\n",
        "      <th>d</th>\n",
        "      <td> 3</td>\n",
        "      <td> 3</td>\n",
        "      <td> 3</td>\n",
        "    </tr>\n",
        "    <tr>\n",
        "      <th>e</th>\n",
        "      <td> 4</td>\n",
        "      <td> 3</td>\n",
        "      <td> 4</td>\n",
        "    </tr>\n",
        "  </tbody>\n",
        "</table>\n",
        "</div>"
       ],
       "metadata": {},
       "output_type": "pyout",
       "prompt_number": 191,
       "text": [
        "   Rev  test  col\n",
        "a    0     3    0\n",
        "b    1     3    1\n",
        "c    2     3    2\n",
        "d    3     3    3\n",
        "e    4     3    4"
       ]
      }
     ],
     "prompt_number": 191
    },
    {
     "cell_type": "code",
     "collapsed": false,
     "input": [
      "dframe.iloc[0:4] # inclusive:exclusive"
     ],
     "language": "python",
     "metadata": {},
     "outputs": [
      {
       "html": [
        "<div style=\"max-height:1000px;max-width:1500px;overflow:auto;\">\n",
        "<table border=\"1\" class=\"dataframe\">\n",
        "  <thead>\n",
        "    <tr style=\"text-align: right;\">\n",
        "      <th></th>\n",
        "      <th>Rev</th>\n",
        "      <th>test</th>\n",
        "      <th>col</th>\n",
        "    </tr>\n",
        "  </thead>\n",
        "  <tbody>\n",
        "    <tr>\n",
        "      <th>a</th>\n",
        "      <td> 0</td>\n",
        "      <td> 3</td>\n",
        "      <td> 0</td>\n",
        "    </tr>\n",
        "    <tr>\n",
        "      <th>b</th>\n",
        "      <td> 1</td>\n",
        "      <td> 3</td>\n",
        "      <td> 1</td>\n",
        "    </tr>\n",
        "    <tr>\n",
        "      <th>c</th>\n",
        "      <td> 2</td>\n",
        "      <td> 3</td>\n",
        "      <td> 2</td>\n",
        "    </tr>\n",
        "    <tr>\n",
        "      <th>d</th>\n",
        "      <td> 3</td>\n",
        "      <td> 3</td>\n",
        "      <td> 3</td>\n",
        "    </tr>\n",
        "  </tbody>\n",
        "</table>\n",
        "</div>"
       ],
       "metadata": {},
       "output_type": "pyout",
       "prompt_number": 192,
       "text": [
        "   Rev  test  col\n",
        "a    0     3    0\n",
        "b    1     3    1\n",
        "c    2     3    2\n",
        "d    3     3    3"
       ]
      }
     ],
     "prompt_number": 192
    },
    {
     "cell_type": "code",
     "collapsed": false,
     "input": [
      "dframe['Rev'] #Select using columnname"
     ],
     "language": "python",
     "metadata": {},
     "outputs": [
      {
       "metadata": {},
       "output_type": "pyout",
       "prompt_number": 193,
       "text": [
        "a    0\n",
        "b    1\n",
        "c    2\n",
        "d    3\n",
        "e    4\n",
        "f    5\n",
        "g    6\n",
        "h    7\n",
        "i    8\n",
        "j    9\n",
        "Name: Rev, dtype: int64"
       ]
      }
     ],
     "prompt_number": 193
    },
    {
     "cell_type": "code",
     "collapsed": false,
     "input": [
      "dframe[['Rev','test']] #Select using 2 column names"
     ],
     "language": "python",
     "metadata": {},
     "outputs": [
      {
       "html": [
        "<div style=\"max-height:1000px;max-width:1500px;overflow:auto;\">\n",
        "<table border=\"1\" class=\"dataframe\">\n",
        "  <thead>\n",
        "    <tr style=\"text-align: right;\">\n",
        "      <th></th>\n",
        "      <th>Rev</th>\n",
        "      <th>test</th>\n",
        "    </tr>\n",
        "  </thead>\n",
        "  <tbody>\n",
        "    <tr>\n",
        "      <th>a</th>\n",
        "      <td> 0</td>\n",
        "      <td> 3</td>\n",
        "    </tr>\n",
        "    <tr>\n",
        "      <th>b</th>\n",
        "      <td> 1</td>\n",
        "      <td> 3</td>\n",
        "    </tr>\n",
        "    <tr>\n",
        "      <th>c</th>\n",
        "      <td> 2</td>\n",
        "      <td> 3</td>\n",
        "    </tr>\n",
        "    <tr>\n",
        "      <th>d</th>\n",
        "      <td> 3</td>\n",
        "      <td> 3</td>\n",
        "    </tr>\n",
        "    <tr>\n",
        "      <th>e</th>\n",
        "      <td> 4</td>\n",
        "      <td> 3</td>\n",
        "    </tr>\n",
        "    <tr>\n",
        "      <th>f</th>\n",
        "      <td> 5</td>\n",
        "      <td> 3</td>\n",
        "    </tr>\n",
        "    <tr>\n",
        "      <th>g</th>\n",
        "      <td> 6</td>\n",
        "      <td> 3</td>\n",
        "    </tr>\n",
        "    <tr>\n",
        "      <th>h</th>\n",
        "      <td> 7</td>\n",
        "      <td> 3</td>\n",
        "    </tr>\n",
        "    <tr>\n",
        "      <th>i</th>\n",
        "      <td> 8</td>\n",
        "      <td> 3</td>\n",
        "    </tr>\n",
        "    <tr>\n",
        "      <th>j</th>\n",
        "      <td> 9</td>\n",
        "      <td> 3</td>\n",
        "    </tr>\n",
        "  </tbody>\n",
        "</table>\n",
        "</div>"
       ],
       "metadata": {},
       "output_type": "pyout",
       "prompt_number": 194,
       "text": [
        "   Rev  test\n",
        "a    0     3\n",
        "b    1     3\n",
        "c    2     3\n",
        "d    3     3\n",
        "e    4     3\n",
        "f    5     3\n",
        "g    6     3\n",
        "h    7     3\n",
        "i    8     3\n",
        "j    9     3"
       ]
      }
     ],
     "prompt_number": 194
    },
    {
     "cell_type": "code",
     "collapsed": false,
     "input": [
      "#Column name and index - Inclusive/exclusive\n",
      "dframe['Rev'][0:3] # first 4 rows"
     ],
     "language": "python",
     "metadata": {},
     "outputs": [
      {
       "metadata": {},
       "output_type": "pyout",
       "prompt_number": 195,
       "text": [
        "a    0\n",
        "b    1\n",
        "c    2\n",
        "Name: Rev, dtype: int64"
       ]
      }
     ],
     "prompt_number": 195
    },
    {
     "cell_type": "code",
     "collapsed": false,
     "input": [
      "dframe['col'][5:] # column name and index - row 5 to the end"
     ],
     "language": "python",
     "metadata": {},
     "outputs": [
      {
       "metadata": {},
       "output_type": "pyout",
       "prompt_number": 196,
       "text": [
        "f    5\n",
        "g    6\n",
        "h    7\n",
        "i    8\n",
        "j    9\n",
        "Name: col, dtype: int64"
       ]
      }
     ],
     "prompt_number": 196
    },
    {
     "cell_type": "code",
     "collapsed": false,
     "input": [
      "dframe[['col','test']][:3] #columns - col and test - 1st three rows"
     ],
     "language": "python",
     "metadata": {},
     "outputs": [
      {
       "html": [
        "<div style=\"max-height:1000px;max-width:1500px;overflow:auto;\">\n",
        "<table border=\"1\" class=\"dataframe\">\n",
        "  <thead>\n",
        "    <tr style=\"text-align: right;\">\n",
        "      <th></th>\n",
        "      <th>col</th>\n",
        "      <th>test</th>\n",
        "    </tr>\n",
        "  </thead>\n",
        "  <tbody>\n",
        "    <tr>\n",
        "      <th>a</th>\n",
        "      <td> 0</td>\n",
        "      <td> 3</td>\n",
        "    </tr>\n",
        "    <tr>\n",
        "      <th>b</th>\n",
        "      <td> 1</td>\n",
        "      <td> 3</td>\n",
        "    </tr>\n",
        "    <tr>\n",
        "      <th>c</th>\n",
        "      <td> 2</td>\n",
        "      <td> 3</td>\n",
        "    </tr>\n",
        "  </tbody>\n",
        "</table>\n",
        "</div>"
       ],
       "metadata": {},
       "output_type": "pyout",
       "prompt_number": 197,
       "text": [
        "   col  test\n",
        "a    0     3\n",
        "b    1     3\n",
        "c    2     3"
       ]
      }
     ],
     "prompt_number": 197
    },
    {
     "cell_type": "code",
     "collapsed": false,
     "input": [
      "dframe.head() # Top 5 default records"
     ],
     "language": "python",
     "metadata": {},
     "outputs": [
      {
       "html": [
        "<div style=\"max-height:1000px;max-width:1500px;overflow:auto;\">\n",
        "<table border=\"1\" class=\"dataframe\">\n",
        "  <thead>\n",
        "    <tr style=\"text-align: right;\">\n",
        "      <th></th>\n",
        "      <th>Rev</th>\n",
        "      <th>test</th>\n",
        "      <th>col</th>\n",
        "    </tr>\n",
        "  </thead>\n",
        "  <tbody>\n",
        "    <tr>\n",
        "      <th>a</th>\n",
        "      <td> 0</td>\n",
        "      <td> 3</td>\n",
        "      <td> 0</td>\n",
        "    </tr>\n",
        "    <tr>\n",
        "      <th>b</th>\n",
        "      <td> 1</td>\n",
        "      <td> 3</td>\n",
        "      <td> 1</td>\n",
        "    </tr>\n",
        "    <tr>\n",
        "      <th>c</th>\n",
        "      <td> 2</td>\n",
        "      <td> 3</td>\n",
        "      <td> 2</td>\n",
        "    </tr>\n",
        "    <tr>\n",
        "      <th>d</th>\n",
        "      <td> 3</td>\n",
        "      <td> 3</td>\n",
        "      <td> 3</td>\n",
        "    </tr>\n",
        "    <tr>\n",
        "      <th>e</th>\n",
        "      <td> 4</td>\n",
        "      <td> 3</td>\n",
        "      <td> 4</td>\n",
        "    </tr>\n",
        "  </tbody>\n",
        "</table>\n",
        "</div>"
       ],
       "metadata": {},
       "output_type": "pyout",
       "prompt_number": 198,
       "text": [
        "   Rev  test  col\n",
        "a    0     3    0\n",
        "b    1     3    1\n",
        "c    2     3    2\n",
        "d    3     3    3\n",
        "e    4     3    4"
       ]
      }
     ],
     "prompt_number": 198
    },
    {
     "cell_type": "code",
     "collapsed": false,
     "input": [
      "dframe.tail() # Bottom 5 default records"
     ],
     "language": "python",
     "metadata": {},
     "outputs": [
      {
       "html": [
        "<div style=\"max-height:1000px;max-width:1500px;overflow:auto;\">\n",
        "<table border=\"1\" class=\"dataframe\">\n",
        "  <thead>\n",
        "    <tr style=\"text-align: right;\">\n",
        "      <th></th>\n",
        "      <th>Rev</th>\n",
        "      <th>test</th>\n",
        "      <th>col</th>\n",
        "    </tr>\n",
        "  </thead>\n",
        "  <tbody>\n",
        "    <tr>\n",
        "      <th>f</th>\n",
        "      <td> 5</td>\n",
        "      <td> 3</td>\n",
        "      <td> 5</td>\n",
        "    </tr>\n",
        "    <tr>\n",
        "      <th>g</th>\n",
        "      <td> 6</td>\n",
        "      <td> 3</td>\n",
        "      <td> 6</td>\n",
        "    </tr>\n",
        "    <tr>\n",
        "      <th>h</th>\n",
        "      <td> 7</td>\n",
        "      <td> 3</td>\n",
        "      <td> 7</td>\n",
        "    </tr>\n",
        "    <tr>\n",
        "      <th>i</th>\n",
        "      <td> 8</td>\n",
        "      <td> 3</td>\n",
        "      <td> 8</td>\n",
        "    </tr>\n",
        "    <tr>\n",
        "      <th>j</th>\n",
        "      <td> 9</td>\n",
        "      <td> 3</td>\n",
        "      <td> 9</td>\n",
        "    </tr>\n",
        "  </tbody>\n",
        "</table>\n",
        "</div>"
       ],
       "metadata": {},
       "output_type": "pyout",
       "prompt_number": 199,
       "text": [
        "   Rev  test  col\n",
        "f    5     3    5\n",
        "g    6     3    6\n",
        "h    7     3    7\n",
        "i    8     3    8\n",
        "j    9     3    9"
       ]
      }
     ],
     "prompt_number": 199
    },
    {
     "cell_type": "code",
     "collapsed": false,
     "input": [
      "# End chapter 4; Begin chapter 5\n",
      "# Intro to stack and unstack functions - Take a table and do columnwise or rowwise grouping\n",
      "from pandas import DataFrame\n",
      "import pandas as pd\n",
      "d = {'one':[1,1],'two':[2,2]}\n",
      "i = ['a','b']\n",
      "\n",
      "# create frame\n",
      "df = DataFrame(data = d, index = i)\n",
      "df"
     ],
     "language": "python",
     "metadata": {},
     "outputs": [
      {
       "html": [
        "<div style=\"max-height:1000px;max-width:1500px;overflow:auto;\">\n",
        "<table border=\"1\" class=\"dataframe\">\n",
        "  <thead>\n",
        "    <tr style=\"text-align: right;\">\n",
        "      <th></th>\n",
        "      <th>one</th>\n",
        "      <th>two</th>\n",
        "    </tr>\n",
        "  </thead>\n",
        "  <tbody>\n",
        "    <tr>\n",
        "      <th>a</th>\n",
        "      <td> 1</td>\n",
        "      <td> 2</td>\n",
        "    </tr>\n",
        "    <tr>\n",
        "      <th>b</th>\n",
        "      <td> 1</td>\n",
        "      <td> 2</td>\n",
        "    </tr>\n",
        "  </tbody>\n",
        "</table>\n",
        "</div>"
       ],
       "metadata": {},
       "output_type": "pyout",
       "prompt_number": 201,
       "text": [
        "   one  two\n",
        "a    1    2\n",
        "b    1    2"
       ]
      }
     ],
     "prompt_number": 201
    },
    {
     "cell_type": "code",
     "collapsed": false,
     "input": [
      "df.index"
     ],
     "language": "python",
     "metadata": {},
     "outputs": [
      {
       "metadata": {},
       "output_type": "pyout",
       "prompt_number": 202,
       "text": [
        "Index([u'a', u'b'], dtype=object)"
       ]
      }
     ],
     "prompt_number": 202
    },
    {
     "cell_type": "code",
     "collapsed": false,
     "input": [
      "stack = df.stack()\n",
      "stack"
     ],
     "language": "python",
     "metadata": {},
     "outputs": [
      {
       "metadata": {},
       "output_type": "pyout",
       "prompt_number": 204,
       "text": [
        "a  one    1\n",
        "   two    2\n",
        "b  one    1\n",
        "   two    2\n",
        "dtype: int64"
       ]
      }
     ],
     "prompt_number": 204
    },
    {
     "cell_type": "code",
     "collapsed": false,
     "input": [
      "stack.index"
     ],
     "language": "python",
     "metadata": {},
     "outputs": [
      {
       "metadata": {},
       "output_type": "pyout",
       "prompt_number": 205,
       "text": [
        "MultiIndex\n",
        "[(u'a', u'one'), (u'a', u'two'), (u'b', u'one'), (u'b', u'two')]"
       ]
      }
     ],
     "prompt_number": 205
    },
    {
     "cell_type": "code",
     "collapsed": false,
     "input": [
      "unstack = df.unstack()\n",
      "unstack"
     ],
     "language": "python",
     "metadata": {},
     "outputs": [
      {
       "metadata": {},
       "output_type": "pyout",
       "prompt_number": 206,
       "text": [
        "one  a    1\n",
        "     b    1\n",
        "two  a    2\n",
        "     b    2\n",
        "dtype: int64"
       ]
      }
     ],
     "prompt_number": 206
    },
    {
     "cell_type": "code",
     "collapsed": false,
     "input": [
      "unstack.index"
     ],
     "language": "python",
     "metadata": {},
     "outputs": [
      {
       "metadata": {},
       "output_type": "pyout",
       "prompt_number": 207,
       "text": [
        "MultiIndex\n",
        "[(u'one', u'a'), (u'one', u'b'), (u'two', u'a'), (u'two', u'b')]"
       ]
      }
     ],
     "prompt_number": 207
    },
    {
     "cell_type": "code",
     "collapsed": false,
     "input": [
      "transpose = df.T\n",
      "transpose"
     ],
     "language": "python",
     "metadata": {},
     "outputs": [
      {
       "html": [
        "<div style=\"max-height:1000px;max-width:1500px;overflow:auto;\">\n",
        "<table border=\"1\" class=\"dataframe\">\n",
        "  <thead>\n",
        "    <tr style=\"text-align: right;\">\n",
        "      <th></th>\n",
        "      <th>a</th>\n",
        "      <th>b</th>\n",
        "    </tr>\n",
        "  </thead>\n",
        "  <tbody>\n",
        "    <tr>\n",
        "      <th>one</th>\n",
        "      <td> 1</td>\n",
        "      <td> 1</td>\n",
        "    </tr>\n",
        "    <tr>\n",
        "      <th>two</th>\n",
        "      <td> 2</td>\n",
        "      <td> 2</td>\n",
        "    </tr>\n",
        "  </tbody>\n",
        "</table>\n",
        "</div>"
       ],
       "metadata": {},
       "output_type": "pyout",
       "prompt_number": 208,
       "text": [
        "     a  b\n",
        "one  1  1\n",
        "two  2  2"
       ]
      }
     ],
     "prompt_number": 208
    },
    {
     "cell_type": "code",
     "collapsed": false,
     "input": [
      "transpose.index"
     ],
     "language": "python",
     "metadata": {},
     "outputs": [
      {
       "metadata": {},
       "output_type": "pyout",
       "prompt_number": 209,
       "text": [
        "Index([u'one', u'two'], dtype=object)"
       ]
      }
     ],
     "prompt_number": 209
    },
    {
     "cell_type": "code",
     "collapsed": false,
     "input": [
      "#End of chapter 5\n",
      "#Beginning of chapter 6\n",
      "#Group by\n",
      "from pandas import DataFrame\n",
      "import pandas as pd\n",
      "d = {'one':[1,1,1,1,1],'two':[2,2,2,2,2],'letter':['a','a','b','b','c']} # letter is row 1, one is row 2 and letter is row3\n",
      "df = DataFrame(d)\n",
      "df"
     ],
     "language": "python",
     "metadata": {},
     "outputs": [
      {
       "html": [
        "<div style=\"max-height:1000px;max-width:1500px;overflow:auto;\">\n",
        "<table border=\"1\" class=\"dataframe\">\n",
        "  <thead>\n",
        "    <tr style=\"text-align: right;\">\n",
        "      <th></th>\n",
        "      <th>letter</th>\n",
        "      <th>one</th>\n",
        "      <th>two</th>\n",
        "    </tr>\n",
        "  </thead>\n",
        "  <tbody>\n",
        "    <tr>\n",
        "      <th>0</th>\n",
        "      <td> a</td>\n",
        "      <td> 1</td>\n",
        "      <td> 2</td>\n",
        "    </tr>\n",
        "    <tr>\n",
        "      <th>1</th>\n",
        "      <td> a</td>\n",
        "      <td> 1</td>\n",
        "      <td> 2</td>\n",
        "    </tr>\n",
        "    <tr>\n",
        "      <th>2</th>\n",
        "      <td> b</td>\n",
        "      <td> 1</td>\n",
        "      <td> 2</td>\n",
        "    </tr>\n",
        "    <tr>\n",
        "      <th>3</th>\n",
        "      <td> b</td>\n",
        "      <td> 1</td>\n",
        "      <td> 2</td>\n",
        "    </tr>\n",
        "    <tr>\n",
        "      <th>4</th>\n",
        "      <td> c</td>\n",
        "      <td> 1</td>\n",
        "      <td> 2</td>\n",
        "    </tr>\n",
        "  </tbody>\n",
        "</table>\n",
        "</div>"
       ],
       "metadata": {},
       "output_type": "pyout",
       "prompt_number": 211,
       "text": [
        "  letter  one  two\n",
        "0      a    1    2\n",
        "1      a    1    2\n",
        "2      b    1    2\n",
        "3      b    1    2\n",
        "4      c    1    2"
       ]
      }
     ],
     "prompt_number": 211
    },
    {
     "cell_type": "code",
     "collapsed": false,
     "input": [
      "# Create group object\n",
      "# groupby letter\n",
      "one = df.groupby('letter')\n",
      "\n",
      "one.sum()"
     ],
     "language": "python",
     "metadata": {},
     "outputs": [
      {
       "html": [
        "<div style=\"max-height:1000px;max-width:1500px;overflow:auto;\">\n",
        "<table border=\"1\" class=\"dataframe\">\n",
        "  <thead>\n",
        "    <tr style=\"text-align: right;\">\n",
        "      <th></th>\n",
        "      <th>one</th>\n",
        "      <th>two</th>\n",
        "    </tr>\n",
        "    <tr>\n",
        "      <th>letter</th>\n",
        "      <th></th>\n",
        "      <th></th>\n",
        "    </tr>\n",
        "  </thead>\n",
        "  <tbody>\n",
        "    <tr>\n",
        "      <th>a</th>\n",
        "      <td> 2</td>\n",
        "      <td> 4</td>\n",
        "    </tr>\n",
        "    <tr>\n",
        "      <th>b</th>\n",
        "      <td> 2</td>\n",
        "      <td> 4</td>\n",
        "    </tr>\n",
        "    <tr>\n",
        "      <th>c</th>\n",
        "      <td> 1</td>\n",
        "      <td> 2</td>\n",
        "    </tr>\n",
        "  </tbody>\n",
        "</table>\n",
        "</div>"
       ],
       "metadata": {},
       "output_type": "pyout",
       "prompt_number": 212,
       "text": [
        "        one  two\n",
        "letter          \n",
        "a         2    4\n",
        "b         2    4\n",
        "c         1    2"
       ]
      }
     ],
     "prompt_number": 212
    },
    {
     "cell_type": "code",
     "collapsed": false,
     "input": [
      "#Groupby letter and one\n",
      "letterone = df.groupby(['letter','one']).sum()\n",
      "letterone"
     ],
     "language": "python",
     "metadata": {},
     "outputs": [
      {
       "html": [
        "<div style=\"max-height:1000px;max-width:1500px;overflow:auto;\">\n",
        "<table border=\"1\" class=\"dataframe\">\n",
        "  <thead>\n",
        "    <tr style=\"text-align: right;\">\n",
        "      <th></th>\n",
        "      <th></th>\n",
        "      <th>two</th>\n",
        "    </tr>\n",
        "    <tr>\n",
        "      <th>letter</th>\n",
        "      <th>one</th>\n",
        "      <th></th>\n",
        "    </tr>\n",
        "  </thead>\n",
        "  <tbody>\n",
        "    <tr>\n",
        "      <th>a</th>\n",
        "      <th>1</th>\n",
        "      <td> 4</td>\n",
        "    </tr>\n",
        "    <tr>\n",
        "      <th>b</th>\n",
        "      <th>1</th>\n",
        "      <td> 4</td>\n",
        "    </tr>\n",
        "    <tr>\n",
        "      <th>c</th>\n",
        "      <th>1</th>\n",
        "      <td> 2</td>\n",
        "    </tr>\n",
        "  </tbody>\n",
        "</table>\n",
        "</div>"
       ],
       "metadata": {},
       "output_type": "pyout",
       "prompt_number": 213,
       "text": [
        "            two\n",
        "letter one     \n",
        "a      1      4\n",
        "b      1      4\n",
        "c      1      2"
       ]
      }
     ],
     "prompt_number": 213
    },
    {
     "cell_type": "code",
     "collapsed": false,
     "input": [
      "#Get index of letterone\n",
      "letterone.index"
     ],
     "language": "python",
     "metadata": {},
     "outputs": [
      {
       "metadata": {},
       "output_type": "pyout",
       "prompt_number": 214,
       "text": [
        "MultiIndex\n",
        "[(u'a', 1), (u'b', 1), (u'c', 1)]"
       ]
      }
     ],
     "prompt_number": 214
    },
    {
     "cell_type": "code",
     "collapsed": false,
     "input": [
      "letterone = df.groupby(['letter','one'],as_index=False).sum()\n",
      "letterone"
     ],
     "language": "python",
     "metadata": {},
     "outputs": [
      {
       "html": [
        "<div style=\"max-height:1000px;max-width:1500px;overflow:auto;\">\n",
        "<table border=\"1\" class=\"dataframe\">\n",
        "  <thead>\n",
        "    <tr style=\"text-align: right;\">\n",
        "      <th></th>\n",
        "      <th>letter</th>\n",
        "      <th>one</th>\n",
        "      <th>two</th>\n",
        "    </tr>\n",
        "  </thead>\n",
        "  <tbody>\n",
        "    <tr>\n",
        "      <th>0</th>\n",
        "      <td> a</td>\n",
        "      <td> 1</td>\n",
        "      <td> 4</td>\n",
        "    </tr>\n",
        "    <tr>\n",
        "      <th>1</th>\n",
        "      <td> b</td>\n",
        "      <td> 1</td>\n",
        "      <td> 4</td>\n",
        "    </tr>\n",
        "    <tr>\n",
        "      <th>2</th>\n",
        "      <td> c</td>\n",
        "      <td> 1</td>\n",
        "      <td> 2</td>\n",
        "    </tr>\n",
        "  </tbody>\n",
        "</table>\n",
        "</div>"
       ],
       "metadata": {},
       "output_type": "pyout",
       "prompt_number": 216,
       "text": [
        "  letter  one  two\n",
        "0      a    1    4\n",
        "1      b    1    4\n",
        "2      c    1    2"
       ]
      }
     ],
     "prompt_number": 216
    },
    {
     "cell_type": "code",
     "collapsed": false,
     "input": [
      "letterone.index"
     ],
     "language": "python",
     "metadata": {},
     "outputs": [
      {
       "metadata": {},
       "output_type": "pyout",
       "prompt_number": 217,
       "text": [
        "Int64Index([0, 1, 2], dtype=int64)"
       ]
      }
     ],
     "prompt_number": 217
    },
    {
     "cell_type": "code",
     "collapsed": false,
     "input": [
      "# end chapter 6\n",
      "# begin chapter 7\n",
      "# Working with outliers\n",
      "from pandas import DataFrame, date_range, concat\n",
      "import pandas as pd\n"
     ],
     "language": "python",
     "metadata": {},
     "outputs": [],
     "prompt_number": 219
    },
    {
     "cell_type": "code",
     "collapsed": false,
     "input": [
      "States = ['NY','NY','NY','NY','FL','FL','GA','GA','FL','FL']\n",
      "data = [1.0,2,3,4,5,6,7,8,9,10]\n",
      "idx = date_range('1/1/2012',periods=10,freq='MS')\n",
      "df1 = DataFrame(data, index=idx,columns=['Revenue'])\n",
      "df1['State'] = States\n",
      "\n",
      "#second data frame\n",
      "data2 = [10.0, 10.0, 9, 9, 8, 8, 7, 7, 6, 6]\n",
      "idx2 = date_range('1/1/2013',periods=10,freq='MS')\n",
      "df2 = DataFrame(data2, index=idx2,columns=['Revenue'])\n",
      "df2['State'] = States"
     ],
     "language": "python",
     "metadata": {},
     "outputs": [],
     "prompt_number": 225
    },
    {
     "cell_type": "code",
     "collapsed": false,
     "input": [
      "df = concat([df1,df2])\n",
      "df"
     ],
     "language": "python",
     "metadata": {},
     "outputs": [
      {
       "html": [
        "<div style=\"max-height:1000px;max-width:1500px;overflow:auto;\">\n",
        "<table border=\"1\" class=\"dataframe\">\n",
        "  <thead>\n",
        "    <tr style=\"text-align: right;\">\n",
        "      <th></th>\n",
        "      <th>Revenue</th>\n",
        "      <th>State</th>\n",
        "    </tr>\n",
        "  </thead>\n",
        "  <tbody>\n",
        "    <tr>\n",
        "      <th>2012-01-01</th>\n",
        "      <td>  1</td>\n",
        "      <td> NY</td>\n",
        "    </tr>\n",
        "    <tr>\n",
        "      <th>2012-02-01</th>\n",
        "      <td>  2</td>\n",
        "      <td> NY</td>\n",
        "    </tr>\n",
        "    <tr>\n",
        "      <th>2012-03-01</th>\n",
        "      <td>  3</td>\n",
        "      <td> NY</td>\n",
        "    </tr>\n",
        "    <tr>\n",
        "      <th>2012-04-01</th>\n",
        "      <td>  4</td>\n",
        "      <td> NY</td>\n",
        "    </tr>\n",
        "    <tr>\n",
        "      <th>2012-05-01</th>\n",
        "      <td>  5</td>\n",
        "      <td> FL</td>\n",
        "    </tr>\n",
        "    <tr>\n",
        "      <th>2012-06-01</th>\n",
        "      <td>  6</td>\n",
        "      <td> FL</td>\n",
        "    </tr>\n",
        "    <tr>\n",
        "      <th>2012-07-01</th>\n",
        "      <td>  7</td>\n",
        "      <td> GA</td>\n",
        "    </tr>\n",
        "    <tr>\n",
        "      <th>2012-08-01</th>\n",
        "      <td>  8</td>\n",
        "      <td> GA</td>\n",
        "    </tr>\n",
        "    <tr>\n",
        "      <th>2012-09-01</th>\n",
        "      <td>  9</td>\n",
        "      <td> FL</td>\n",
        "    </tr>\n",
        "    <tr>\n",
        "      <th>2012-10-01</th>\n",
        "      <td> 10</td>\n",
        "      <td> FL</td>\n",
        "    </tr>\n",
        "    <tr>\n",
        "      <th>2013-01-01</th>\n",
        "      <td> 10</td>\n",
        "      <td> NY</td>\n",
        "    </tr>\n",
        "    <tr>\n",
        "      <th>2013-02-01</th>\n",
        "      <td> 10</td>\n",
        "      <td> NY</td>\n",
        "    </tr>\n",
        "    <tr>\n",
        "      <th>2013-03-01</th>\n",
        "      <td>  9</td>\n",
        "      <td> NY</td>\n",
        "    </tr>\n",
        "    <tr>\n",
        "      <th>2013-04-01</th>\n",
        "      <td>  9</td>\n",
        "      <td> NY</td>\n",
        "    </tr>\n",
        "    <tr>\n",
        "      <th>2013-05-01</th>\n",
        "      <td>  8</td>\n",
        "      <td> FL</td>\n",
        "    </tr>\n",
        "    <tr>\n",
        "      <th>2013-06-01</th>\n",
        "      <td>  8</td>\n",
        "      <td> FL</td>\n",
        "    </tr>\n",
        "    <tr>\n",
        "      <th>2013-07-01</th>\n",
        "      <td>  7</td>\n",
        "      <td> GA</td>\n",
        "    </tr>\n",
        "    <tr>\n",
        "      <th>2013-08-01</th>\n",
        "      <td>  7</td>\n",
        "      <td> GA</td>\n",
        "    </tr>\n",
        "    <tr>\n",
        "      <th>2013-09-01</th>\n",
        "      <td>  6</td>\n",
        "      <td> FL</td>\n",
        "    </tr>\n",
        "    <tr>\n",
        "      <th>2013-10-01</th>\n",
        "      <td>  6</td>\n",
        "      <td> FL</td>\n",
        "    </tr>\n",
        "  </tbody>\n",
        "</table>\n",
        "</div>"
       ],
       "metadata": {},
       "output_type": "pyout",
       "prompt_number": 230,
       "text": [
        "            Revenue State\n",
        "2012-01-01        1    NY\n",
        "2012-02-01        2    NY\n",
        "2012-03-01        3    NY\n",
        "2012-04-01        4    NY\n",
        "2012-05-01        5    FL\n",
        "2012-06-01        6    FL\n",
        "2012-07-01        7    GA\n",
        "2012-08-01        8    GA\n",
        "2012-09-01        9    FL\n",
        "2012-10-01       10    FL\n",
        "2013-01-01       10    NY\n",
        "2013-02-01       10    NY\n",
        "2013-03-01        9    NY\n",
        "2013-04-01        9    NY\n",
        "2013-05-01        8    FL\n",
        "2013-06-01        8    FL\n",
        "2013-07-01        7    GA\n",
        "2013-08-01        7    GA\n",
        "2013-09-01        6    FL\n",
        "2013-10-01        6    FL"
       ]
      }
     ],
     "prompt_number": 230
    },
    {
     "cell_type": "code",
     "collapsed": false,
     "input": [
      "#Calculate outliers\n",
      "#Method I\n",
      "df['x-Mean'] = abs(df['Revenue'] - df['Revenue'].mean())\n",
      "df['1.96*std'] = 1.96 * df['Revenue'].std()\n",
      "df['Outlier'] = df['x-Mean'] > df['1.96*std'] # Can also type out both formulae again\n",
      "df"
     ],
     "language": "python",
     "metadata": {},
     "outputs": [
      {
       "html": [
        "<div style=\"max-height:1000px;max-width:1500px;overflow:auto;\">\n",
        "<table border=\"1\" class=\"dataframe\">\n",
        "  <thead>\n",
        "    <tr style=\"text-align: right;\">\n",
        "      <th></th>\n",
        "      <th>Revenue</th>\n",
        "      <th>State</th>\n",
        "      <th>x-Mean</th>\n",
        "      <th>1.96*std</th>\n",
        "      <th>Outlier</th>\n",
        "    </tr>\n",
        "  </thead>\n",
        "  <tbody>\n",
        "    <tr>\n",
        "      <th>2012-01-01</th>\n",
        "      <td>  1</td>\n",
        "      <td> NY</td>\n",
        "      <td> 5.75</td>\n",
        "      <td> 5.200273</td>\n",
        "      <td>  True</td>\n",
        "    </tr>\n",
        "    <tr>\n",
        "      <th>2012-02-01</th>\n",
        "      <td>  2</td>\n",
        "      <td> NY</td>\n",
        "      <td> 4.75</td>\n",
        "      <td> 5.200273</td>\n",
        "      <td> False</td>\n",
        "    </tr>\n",
        "    <tr>\n",
        "      <th>2012-03-01</th>\n",
        "      <td>  3</td>\n",
        "      <td> NY</td>\n",
        "      <td> 3.75</td>\n",
        "      <td> 5.200273</td>\n",
        "      <td> False</td>\n",
        "    </tr>\n",
        "    <tr>\n",
        "      <th>2012-04-01</th>\n",
        "      <td>  4</td>\n",
        "      <td> NY</td>\n",
        "      <td> 2.75</td>\n",
        "      <td> 5.200273</td>\n",
        "      <td> False</td>\n",
        "    </tr>\n",
        "    <tr>\n",
        "      <th>2012-05-01</th>\n",
        "      <td>  5</td>\n",
        "      <td> FL</td>\n",
        "      <td> 1.75</td>\n",
        "      <td> 5.200273</td>\n",
        "      <td> False</td>\n",
        "    </tr>\n",
        "    <tr>\n",
        "      <th>2012-06-01</th>\n",
        "      <td>  6</td>\n",
        "      <td> FL</td>\n",
        "      <td> 0.75</td>\n",
        "      <td> 5.200273</td>\n",
        "      <td> False</td>\n",
        "    </tr>\n",
        "    <tr>\n",
        "      <th>2012-07-01</th>\n",
        "      <td>  7</td>\n",
        "      <td> GA</td>\n",
        "      <td> 0.25</td>\n",
        "      <td> 5.200273</td>\n",
        "      <td> False</td>\n",
        "    </tr>\n",
        "    <tr>\n",
        "      <th>2012-08-01</th>\n",
        "      <td>  8</td>\n",
        "      <td> GA</td>\n",
        "      <td> 1.25</td>\n",
        "      <td> 5.200273</td>\n",
        "      <td> False</td>\n",
        "    </tr>\n",
        "    <tr>\n",
        "      <th>2012-09-01</th>\n",
        "      <td>  9</td>\n",
        "      <td> FL</td>\n",
        "      <td> 2.25</td>\n",
        "      <td> 5.200273</td>\n",
        "      <td> False</td>\n",
        "    </tr>\n",
        "    <tr>\n",
        "      <th>2012-10-01</th>\n",
        "      <td> 10</td>\n",
        "      <td> FL</td>\n",
        "      <td> 3.25</td>\n",
        "      <td> 5.200273</td>\n",
        "      <td> False</td>\n",
        "    </tr>\n",
        "    <tr>\n",
        "      <th>2013-01-01</th>\n",
        "      <td> 10</td>\n",
        "      <td> NY</td>\n",
        "      <td> 3.25</td>\n",
        "      <td> 5.200273</td>\n",
        "      <td> False</td>\n",
        "    </tr>\n",
        "    <tr>\n",
        "      <th>2013-02-01</th>\n",
        "      <td> 10</td>\n",
        "      <td> NY</td>\n",
        "      <td> 3.25</td>\n",
        "      <td> 5.200273</td>\n",
        "      <td> False</td>\n",
        "    </tr>\n",
        "    <tr>\n",
        "      <th>2013-03-01</th>\n",
        "      <td>  9</td>\n",
        "      <td> NY</td>\n",
        "      <td> 2.25</td>\n",
        "      <td> 5.200273</td>\n",
        "      <td> False</td>\n",
        "    </tr>\n",
        "    <tr>\n",
        "      <th>2013-04-01</th>\n",
        "      <td>  9</td>\n",
        "      <td> NY</td>\n",
        "      <td> 2.25</td>\n",
        "      <td> 5.200273</td>\n",
        "      <td> False</td>\n",
        "    </tr>\n",
        "    <tr>\n",
        "      <th>2013-05-01</th>\n",
        "      <td>  8</td>\n",
        "      <td> FL</td>\n",
        "      <td> 1.25</td>\n",
        "      <td> 5.200273</td>\n",
        "      <td> False</td>\n",
        "    </tr>\n",
        "    <tr>\n",
        "      <th>2013-06-01</th>\n",
        "      <td>  8</td>\n",
        "      <td> FL</td>\n",
        "      <td> 1.25</td>\n",
        "      <td> 5.200273</td>\n",
        "      <td> False</td>\n",
        "    </tr>\n",
        "    <tr>\n",
        "      <th>2013-07-01</th>\n",
        "      <td>  7</td>\n",
        "      <td> GA</td>\n",
        "      <td> 0.25</td>\n",
        "      <td> 5.200273</td>\n",
        "      <td> False</td>\n",
        "    </tr>\n",
        "    <tr>\n",
        "      <th>2013-08-01</th>\n",
        "      <td>  7</td>\n",
        "      <td> GA</td>\n",
        "      <td> 0.25</td>\n",
        "      <td> 5.200273</td>\n",
        "      <td> False</td>\n",
        "    </tr>\n",
        "    <tr>\n",
        "      <th>2013-09-01</th>\n",
        "      <td>  6</td>\n",
        "      <td> FL</td>\n",
        "      <td> 0.75</td>\n",
        "      <td> 5.200273</td>\n",
        "      <td> False</td>\n",
        "    </tr>\n",
        "    <tr>\n",
        "      <th>2013-10-01</th>\n",
        "      <td>  6</td>\n",
        "      <td> FL</td>\n",
        "      <td> 0.75</td>\n",
        "      <td> 5.200273</td>\n",
        "      <td> False</td>\n",
        "    </tr>\n",
        "  </tbody>\n",
        "</table>\n",
        "</div>"
       ],
       "metadata": {},
       "output_type": "pyout",
       "prompt_number": 232,
       "text": [
        "            Revenue State  x-Mean  1.96*std Outlier\n",
        "2012-01-01        1    NY    5.75  5.200273    True\n",
        "2012-02-01        2    NY    4.75  5.200273   False\n",
        "2012-03-01        3    NY    3.75  5.200273   False\n",
        "2012-04-01        4    NY    2.75  5.200273   False\n",
        "2012-05-01        5    FL    1.75  5.200273   False\n",
        "2012-06-01        6    FL    0.75  5.200273   False\n",
        "2012-07-01        7    GA    0.25  5.200273   False\n",
        "2012-08-01        8    GA    1.25  5.200273   False\n",
        "2012-09-01        9    FL    2.25  5.200273   False\n",
        "2012-10-01       10    FL    3.25  5.200273   False\n",
        "2013-01-01       10    NY    3.25  5.200273   False\n",
        "2013-02-01       10    NY    3.25  5.200273   False\n",
        "2013-03-01        9    NY    2.25  5.200273   False\n",
        "2013-04-01        9    NY    2.25  5.200273   False\n",
        "2013-05-01        8    FL    1.25  5.200273   False\n",
        "2013-06-01        8    FL    1.25  5.200273   False\n",
        "2013-07-01        7    GA    0.25  5.200273   False\n",
        "2013-08-01        7    GA    0.25  5.200273   False\n",
        "2013-09-01        6    FL    0.75  5.200273   False\n",
        "2013-10-01        6    FL    0.75  5.200273   False"
       ]
      }
     ],
     "prompt_number": 232
    },
    {
     "cell_type": "code",
     "collapsed": false,
     "input": [
      "#reset and Method2\n",
      "df = concat([df1,df2])\n",
      "State = df.groupby('State')\n",
      "df['Outlier'] = State.transform(lambda x: abs(x-x.mean()) > 1.96*x.std())\n",
      "df['x-Mean'] = State.transform(lambda x: abs(x-x.mean()) )\n",
      "df['1.96*std'] = State.transform(lambda x: 1.96 *x.std() )\n",
      "df"
     ],
     "language": "python",
     "metadata": {},
     "outputs": [
      {
       "html": [
        "<div style=\"max-height:1000px;max-width:1500px;overflow:auto;\">\n",
        "<table border=\"1\" class=\"dataframe\">\n",
        "  <thead>\n",
        "    <tr style=\"text-align: right;\">\n",
        "      <th></th>\n",
        "      <th>Revenue</th>\n",
        "      <th>State</th>\n",
        "      <th>Outlier</th>\n",
        "      <th>x-Mean</th>\n",
        "      <th>1.96*std</th>\n",
        "    </tr>\n",
        "  </thead>\n",
        "  <tbody>\n",
        "    <tr>\n",
        "      <th>2012-01-01</th>\n",
        "      <td>  1</td>\n",
        "      <td> NY</td>\n",
        "      <td> False</td>\n",
        "      <td> 5.00</td>\n",
        "      <td> 7.554813</td>\n",
        "    </tr>\n",
        "    <tr>\n",
        "      <th>2012-02-01</th>\n",
        "      <td>  2</td>\n",
        "      <td> NY</td>\n",
        "      <td> False</td>\n",
        "      <td> 4.00</td>\n",
        "      <td> 7.554813</td>\n",
        "    </tr>\n",
        "    <tr>\n",
        "      <th>2012-03-01</th>\n",
        "      <td>  3</td>\n",
        "      <td> NY</td>\n",
        "      <td> False</td>\n",
        "      <td> 3.00</td>\n",
        "      <td> 7.554813</td>\n",
        "    </tr>\n",
        "    <tr>\n",
        "      <th>2012-04-01</th>\n",
        "      <td>  4</td>\n",
        "      <td> NY</td>\n",
        "      <td> False</td>\n",
        "      <td> 2.00</td>\n",
        "      <td> 7.554813</td>\n",
        "    </tr>\n",
        "    <tr>\n",
        "      <th>2012-05-01</th>\n",
        "      <td>  5</td>\n",
        "      <td> FL</td>\n",
        "      <td> False</td>\n",
        "      <td> 2.25</td>\n",
        "      <td> 3.434996</td>\n",
        "    </tr>\n",
        "    <tr>\n",
        "      <th>2012-06-01</th>\n",
        "      <td>  6</td>\n",
        "      <td> FL</td>\n",
        "      <td> False</td>\n",
        "      <td> 1.25</td>\n",
        "      <td> 3.434996</td>\n",
        "    </tr>\n",
        "    <tr>\n",
        "      <th>2012-07-01</th>\n",
        "      <td>  7</td>\n",
        "      <td> GA</td>\n",
        "      <td> False</td>\n",
        "      <td> 0.25</td>\n",
        "      <td> 0.980000</td>\n",
        "    </tr>\n",
        "    <tr>\n",
        "      <th>2012-08-01</th>\n",
        "      <td>  8</td>\n",
        "      <td> GA</td>\n",
        "      <td> False</td>\n",
        "      <td> 0.75</td>\n",
        "      <td> 0.980000</td>\n",
        "    </tr>\n",
        "    <tr>\n",
        "      <th>2012-09-01</th>\n",
        "      <td>  9</td>\n",
        "      <td> FL</td>\n",
        "      <td> False</td>\n",
        "      <td> 1.75</td>\n",
        "      <td> 3.434996</td>\n",
        "    </tr>\n",
        "    <tr>\n",
        "      <th>2012-10-01</th>\n",
        "      <td> 10</td>\n",
        "      <td> FL</td>\n",
        "      <td> False</td>\n",
        "      <td> 2.75</td>\n",
        "      <td> 3.434996</td>\n",
        "    </tr>\n",
        "    <tr>\n",
        "      <th>2013-01-01</th>\n",
        "      <td> 10</td>\n",
        "      <td> NY</td>\n",
        "      <td> False</td>\n",
        "      <td> 4.00</td>\n",
        "      <td> 7.554813</td>\n",
        "    </tr>\n",
        "    <tr>\n",
        "      <th>2013-02-01</th>\n",
        "      <td> 10</td>\n",
        "      <td> NY</td>\n",
        "      <td> False</td>\n",
        "      <td> 4.00</td>\n",
        "      <td> 7.554813</td>\n",
        "    </tr>\n",
        "    <tr>\n",
        "      <th>2013-03-01</th>\n",
        "      <td>  9</td>\n",
        "      <td> NY</td>\n",
        "      <td> False</td>\n",
        "      <td> 3.00</td>\n",
        "      <td> 7.554813</td>\n",
        "    </tr>\n",
        "    <tr>\n",
        "      <th>2013-04-01</th>\n",
        "      <td>  9</td>\n",
        "      <td> NY</td>\n",
        "      <td> False</td>\n",
        "      <td> 3.00</td>\n",
        "      <td> 7.554813</td>\n",
        "    </tr>\n",
        "    <tr>\n",
        "      <th>2013-05-01</th>\n",
        "      <td>  8</td>\n",
        "      <td> FL</td>\n",
        "      <td> False</td>\n",
        "      <td> 0.75</td>\n",
        "      <td> 3.434996</td>\n",
        "    </tr>\n",
        "    <tr>\n",
        "      <th>2013-06-01</th>\n",
        "      <td>  8</td>\n",
        "      <td> FL</td>\n",
        "      <td> False</td>\n",
        "      <td> 0.75</td>\n",
        "      <td> 3.434996</td>\n",
        "    </tr>\n",
        "    <tr>\n",
        "      <th>2013-07-01</th>\n",
        "      <td>  7</td>\n",
        "      <td> GA</td>\n",
        "      <td> False</td>\n",
        "      <td> 0.25</td>\n",
        "      <td> 0.980000</td>\n",
        "    </tr>\n",
        "    <tr>\n",
        "      <th>2013-08-01</th>\n",
        "      <td>  7</td>\n",
        "      <td> GA</td>\n",
        "      <td> False</td>\n",
        "      <td> 0.25</td>\n",
        "      <td> 0.980000</td>\n",
        "    </tr>\n",
        "    <tr>\n",
        "      <th>2013-09-01</th>\n",
        "      <td>  6</td>\n",
        "      <td> FL</td>\n",
        "      <td> False</td>\n",
        "      <td> 1.25</td>\n",
        "      <td> 3.434996</td>\n",
        "    </tr>\n",
        "    <tr>\n",
        "      <th>2013-10-01</th>\n",
        "      <td>  6</td>\n",
        "      <td> FL</td>\n",
        "      <td> False</td>\n",
        "      <td> 1.25</td>\n",
        "      <td> 3.434996</td>\n",
        "    </tr>\n",
        "  </tbody>\n",
        "</table>\n",
        "</div>"
       ],
       "metadata": {},
       "output_type": "pyout",
       "prompt_number": 234,
       "text": [
        "            Revenue State Outlier  x-Mean  1.96*std\n",
        "2012-01-01        1    NY   False    5.00  7.554813\n",
        "2012-02-01        2    NY   False    4.00  7.554813\n",
        "2012-03-01        3    NY   False    3.00  7.554813\n",
        "2012-04-01        4    NY   False    2.00  7.554813\n",
        "2012-05-01        5    FL   False    2.25  3.434996\n",
        "2012-06-01        6    FL   False    1.25  3.434996\n",
        "2012-07-01        7    GA   False    0.25  0.980000\n",
        "2012-08-01        8    GA   False    0.75  0.980000\n",
        "2012-09-01        9    FL   False    1.75  3.434996\n",
        "2012-10-01       10    FL   False    2.75  3.434996\n",
        "2013-01-01       10    NY   False    4.00  7.554813\n",
        "2013-02-01       10    NY   False    4.00  7.554813\n",
        "2013-03-01        9    NY   False    3.00  7.554813\n",
        "2013-04-01        9    NY   False    3.00  7.554813\n",
        "2013-05-01        8    FL   False    0.75  3.434996\n",
        "2013-06-01        8    FL   False    0.75  3.434996\n",
        "2013-07-01        7    GA   False    0.25  0.980000\n",
        "2013-08-01        7    GA   False    0.25  0.980000\n",
        "2013-09-01        6    FL   False    1.25  3.434996\n",
        "2013-10-01        6    FL   False    1.25  3.434996"
       ]
      }
     ],
     "prompt_number": 234
    },
    {
     "cell_type": "code",
     "collapsed": false,
     "input": [
      "# reset again\n",
      "df = concat([df1,df2])\n",
      "#Group by multiple\n",
      "StateMonth=df.groupby(['State',lambda x: x.month])\n",
      "df['Outlier'] = StateMonth.transform(lambda x: abs(x-x.mean()) > 1.96*x.std() )\n",
      "df['1.96*std'] = StateMonth.transform(lambda x: 1.96*x.std() )\n",
      "df['x-Mean'] = StateMonth.transform(lambda x: abs(x-x.mean() ) )\n",
      "df"
     ],
     "language": "python",
     "metadata": {},
     "outputs": [
      {
       "html": [
        "<div style=\"max-height:1000px;max-width:1500px;overflow:auto;\">\n",
        "<table border=\"1\" class=\"dataframe\">\n",
        "  <thead>\n",
        "    <tr style=\"text-align: right;\">\n",
        "      <th></th>\n",
        "      <th>Revenue</th>\n",
        "      <th>State</th>\n",
        "      <th>Outlier</th>\n",
        "      <th>1.96*std</th>\n",
        "      <th>x-Mean</th>\n",
        "    </tr>\n",
        "  </thead>\n",
        "  <tbody>\n",
        "    <tr>\n",
        "      <th>2012-01-01</th>\n",
        "      <td>  1</td>\n",
        "      <td> NY</td>\n",
        "      <td> False</td>\n",
        "      <td> 12.473364</td>\n",
        "      <td> 4.5</td>\n",
        "    </tr>\n",
        "    <tr>\n",
        "      <th>2012-02-01</th>\n",
        "      <td>  2</td>\n",
        "      <td> NY</td>\n",
        "      <td> False</td>\n",
        "      <td> 11.087434</td>\n",
        "      <td> 4.0</td>\n",
        "    </tr>\n",
        "    <tr>\n",
        "      <th>2012-03-01</th>\n",
        "      <td>  3</td>\n",
        "      <td> NY</td>\n",
        "      <td> False</td>\n",
        "      <td>  8.315576</td>\n",
        "      <td> 3.0</td>\n",
        "    </tr>\n",
        "    <tr>\n",
        "      <th>2012-04-01</th>\n",
        "      <td>  4</td>\n",
        "      <td> NY</td>\n",
        "      <td> False</td>\n",
        "      <td>  6.929646</td>\n",
        "      <td> 2.5</td>\n",
        "    </tr>\n",
        "    <tr>\n",
        "      <th>2012-05-01</th>\n",
        "      <td>  5</td>\n",
        "      <td> FL</td>\n",
        "      <td> False</td>\n",
        "      <td>  4.157788</td>\n",
        "      <td> 1.5</td>\n",
        "    </tr>\n",
        "    <tr>\n",
        "      <th>2012-06-01</th>\n",
        "      <td>  6</td>\n",
        "      <td> FL</td>\n",
        "      <td> False</td>\n",
        "      <td>  2.771859</td>\n",
        "      <td> 1.0</td>\n",
        "    </tr>\n",
        "    <tr>\n",
        "      <th>2012-07-01</th>\n",
        "      <td>  7</td>\n",
        "      <td> GA</td>\n",
        "      <td> False</td>\n",
        "      <td>  0.000000</td>\n",
        "      <td> 0.0</td>\n",
        "    </tr>\n",
        "    <tr>\n",
        "      <th>2012-08-01</th>\n",
        "      <td>  8</td>\n",
        "      <td> GA</td>\n",
        "      <td> False</td>\n",
        "      <td>  1.385929</td>\n",
        "      <td> 0.5</td>\n",
        "    </tr>\n",
        "    <tr>\n",
        "      <th>2012-09-01</th>\n",
        "      <td>  9</td>\n",
        "      <td> FL</td>\n",
        "      <td> False</td>\n",
        "      <td>  4.157788</td>\n",
        "      <td> 1.5</td>\n",
        "    </tr>\n",
        "    <tr>\n",
        "      <th>2012-10-01</th>\n",
        "      <td> 10</td>\n",
        "      <td> FL</td>\n",
        "      <td> False</td>\n",
        "      <td>  5.543717</td>\n",
        "      <td> 2.0</td>\n",
        "    </tr>\n",
        "    <tr>\n",
        "      <th>2013-01-01</th>\n",
        "      <td> 10</td>\n",
        "      <td> NY</td>\n",
        "      <td> False</td>\n",
        "      <td> 12.473364</td>\n",
        "      <td> 4.5</td>\n",
        "    </tr>\n",
        "    <tr>\n",
        "      <th>2013-02-01</th>\n",
        "      <td> 10</td>\n",
        "      <td> NY</td>\n",
        "      <td> False</td>\n",
        "      <td> 11.087434</td>\n",
        "      <td> 4.0</td>\n",
        "    </tr>\n",
        "    <tr>\n",
        "      <th>2013-03-01</th>\n",
        "      <td>  9</td>\n",
        "      <td> NY</td>\n",
        "      <td> False</td>\n",
        "      <td>  8.315576</td>\n",
        "      <td> 3.0</td>\n",
        "    </tr>\n",
        "    <tr>\n",
        "      <th>2013-04-01</th>\n",
        "      <td>  9</td>\n",
        "      <td> NY</td>\n",
        "      <td> False</td>\n",
        "      <td>  6.929646</td>\n",
        "      <td> 2.5</td>\n",
        "    </tr>\n",
        "    <tr>\n",
        "      <th>2013-05-01</th>\n",
        "      <td>  8</td>\n",
        "      <td> FL</td>\n",
        "      <td> False</td>\n",
        "      <td>  4.157788</td>\n",
        "      <td> 1.5</td>\n",
        "    </tr>\n",
        "    <tr>\n",
        "      <th>2013-06-01</th>\n",
        "      <td>  8</td>\n",
        "      <td> FL</td>\n",
        "      <td> False</td>\n",
        "      <td>  2.771859</td>\n",
        "      <td> 1.0</td>\n",
        "    </tr>\n",
        "    <tr>\n",
        "      <th>2013-07-01</th>\n",
        "      <td>  7</td>\n",
        "      <td> GA</td>\n",
        "      <td> False</td>\n",
        "      <td>  0.000000</td>\n",
        "      <td> 0.0</td>\n",
        "    </tr>\n",
        "    <tr>\n",
        "      <th>2013-08-01</th>\n",
        "      <td>  7</td>\n",
        "      <td> GA</td>\n",
        "      <td> False</td>\n",
        "      <td>  1.385929</td>\n",
        "      <td> 0.5</td>\n",
        "    </tr>\n",
        "    <tr>\n",
        "      <th>2013-09-01</th>\n",
        "      <td>  6</td>\n",
        "      <td> FL</td>\n",
        "      <td> False</td>\n",
        "      <td>  4.157788</td>\n",
        "      <td> 1.5</td>\n",
        "    </tr>\n",
        "    <tr>\n",
        "      <th>2013-10-01</th>\n",
        "      <td>  6</td>\n",
        "      <td> FL</td>\n",
        "      <td> False</td>\n",
        "      <td>  5.543717</td>\n",
        "      <td> 2.0</td>\n",
        "    </tr>\n",
        "  </tbody>\n",
        "</table>\n",
        "</div>"
       ],
       "metadata": {},
       "output_type": "pyout",
       "prompt_number": 235,
       "text": [
        "            Revenue State Outlier   1.96*std  x-Mean\n",
        "2012-01-01        1    NY   False  12.473364     4.5\n",
        "2012-02-01        2    NY   False  11.087434     4.0\n",
        "2012-03-01        3    NY   False   8.315576     3.0\n",
        "2012-04-01        4    NY   False   6.929646     2.5\n",
        "2012-05-01        5    FL   False   4.157788     1.5\n",
        "2012-06-01        6    FL   False   2.771859     1.0\n",
        "2012-07-01        7    GA   False   0.000000     0.0\n",
        "2012-08-01        8    GA   False   1.385929     0.5\n",
        "2012-09-01        9    FL   False   4.157788     1.5\n",
        "2012-10-01       10    FL   False   5.543717     2.0\n",
        "2013-01-01       10    NY   False  12.473364     4.5\n",
        "2013-02-01       10    NY   False  11.087434     4.0\n",
        "2013-03-01        9    NY   False   8.315576     3.0\n",
        "2013-04-01        9    NY   False   6.929646     2.5\n",
        "2013-05-01        8    FL   False   4.157788     1.5\n",
        "2013-06-01        8    FL   False   2.771859     1.0\n",
        "2013-07-01        7    GA   False   0.000000     0.0\n",
        "2013-08-01        7    GA   False   1.385929     0.5\n",
        "2013-09-01        6    FL   False   4.157788     1.5\n",
        "2013-10-01        6    FL   False   5.543717     2.0"
       ]
      }
     ],
     "prompt_number": 235
    },
    {
     "cell_type": "code",
     "collapsed": false,
     "input": [
      "#reset again\n",
      "#Method 3\n",
      "df = concat([df1,df2])\n",
      "State = df.groupby('State')\n",
      "\n",
      "def s(group):\n",
      "    group['x-Mean'] = abs(group['Revenue'] - group['Revenue'].mean() )\n",
      "    group['1.96*std'] = 1.96*group['Revenue'].std()\n",
      "    group['Outlier'] = group['x-Mean'] > group['1.96*std']\n",
      "    return group\n",
      "\n",
      "Newdf = State.apply(s)\n",
      "Newdf"
     ],
     "language": "python",
     "metadata": {},
     "outputs": [
      {
       "html": [
        "<div style=\"max-height:1000px;max-width:1500px;overflow:auto;\">\n",
        "<table border=\"1\" class=\"dataframe\">\n",
        "  <thead>\n",
        "    <tr style=\"text-align: right;\">\n",
        "      <th></th>\n",
        "      <th>Revenue</th>\n",
        "      <th>State</th>\n",
        "      <th>x-Mean</th>\n",
        "      <th>1.96*std</th>\n",
        "      <th>Outlier</th>\n",
        "    </tr>\n",
        "  </thead>\n",
        "  <tbody>\n",
        "    <tr>\n",
        "      <th>2012-01-01</th>\n",
        "      <td>  1</td>\n",
        "      <td> NY</td>\n",
        "      <td> 5.00</td>\n",
        "      <td> 7.554813</td>\n",
        "      <td> False</td>\n",
        "    </tr>\n",
        "    <tr>\n",
        "      <th>2012-02-01</th>\n",
        "      <td>  2</td>\n",
        "      <td> NY</td>\n",
        "      <td> 4.00</td>\n",
        "      <td> 7.554813</td>\n",
        "      <td> False</td>\n",
        "    </tr>\n",
        "    <tr>\n",
        "      <th>2012-03-01</th>\n",
        "      <td>  3</td>\n",
        "      <td> NY</td>\n",
        "      <td> 3.00</td>\n",
        "      <td> 7.554813</td>\n",
        "      <td> False</td>\n",
        "    </tr>\n",
        "    <tr>\n",
        "      <th>2012-04-01</th>\n",
        "      <td>  4</td>\n",
        "      <td> NY</td>\n",
        "      <td> 2.00</td>\n",
        "      <td> 7.554813</td>\n",
        "      <td> False</td>\n",
        "    </tr>\n",
        "    <tr>\n",
        "      <th>2012-05-01</th>\n",
        "      <td>  5</td>\n",
        "      <td> FL</td>\n",
        "      <td> 2.25</td>\n",
        "      <td> 3.434996</td>\n",
        "      <td> False</td>\n",
        "    </tr>\n",
        "    <tr>\n",
        "      <th>2012-06-01</th>\n",
        "      <td>  6</td>\n",
        "      <td> FL</td>\n",
        "      <td> 1.25</td>\n",
        "      <td> 3.434996</td>\n",
        "      <td> False</td>\n",
        "    </tr>\n",
        "    <tr>\n",
        "      <th>2012-07-01</th>\n",
        "      <td>  7</td>\n",
        "      <td> GA</td>\n",
        "      <td> 0.25</td>\n",
        "      <td> 0.980000</td>\n",
        "      <td> False</td>\n",
        "    </tr>\n",
        "    <tr>\n",
        "      <th>2012-08-01</th>\n",
        "      <td>  8</td>\n",
        "      <td> GA</td>\n",
        "      <td> 0.75</td>\n",
        "      <td> 0.980000</td>\n",
        "      <td> False</td>\n",
        "    </tr>\n",
        "    <tr>\n",
        "      <th>2012-09-01</th>\n",
        "      <td>  9</td>\n",
        "      <td> FL</td>\n",
        "      <td> 1.75</td>\n",
        "      <td> 3.434996</td>\n",
        "      <td> False</td>\n",
        "    </tr>\n",
        "    <tr>\n",
        "      <th>2012-10-01</th>\n",
        "      <td> 10</td>\n",
        "      <td> FL</td>\n",
        "      <td> 2.75</td>\n",
        "      <td> 3.434996</td>\n",
        "      <td> False</td>\n",
        "    </tr>\n",
        "    <tr>\n",
        "      <th>2013-01-01</th>\n",
        "      <td> 10</td>\n",
        "      <td> NY</td>\n",
        "      <td> 4.00</td>\n",
        "      <td> 7.554813</td>\n",
        "      <td> False</td>\n",
        "    </tr>\n",
        "    <tr>\n",
        "      <th>2013-02-01</th>\n",
        "      <td> 10</td>\n",
        "      <td> NY</td>\n",
        "      <td> 4.00</td>\n",
        "      <td> 7.554813</td>\n",
        "      <td> False</td>\n",
        "    </tr>\n",
        "    <tr>\n",
        "      <th>2013-03-01</th>\n",
        "      <td>  9</td>\n",
        "      <td> NY</td>\n",
        "      <td> 3.00</td>\n",
        "      <td> 7.554813</td>\n",
        "      <td> False</td>\n",
        "    </tr>\n",
        "    <tr>\n",
        "      <th>2013-04-01</th>\n",
        "      <td>  9</td>\n",
        "      <td> NY</td>\n",
        "      <td> 3.00</td>\n",
        "      <td> 7.554813</td>\n",
        "      <td> False</td>\n",
        "    </tr>\n",
        "    <tr>\n",
        "      <th>2013-05-01</th>\n",
        "      <td>  8</td>\n",
        "      <td> FL</td>\n",
        "      <td> 0.75</td>\n",
        "      <td> 3.434996</td>\n",
        "      <td> False</td>\n",
        "    </tr>\n",
        "    <tr>\n",
        "      <th>2013-06-01</th>\n",
        "      <td>  8</td>\n",
        "      <td> FL</td>\n",
        "      <td> 0.75</td>\n",
        "      <td> 3.434996</td>\n",
        "      <td> False</td>\n",
        "    </tr>\n",
        "    <tr>\n",
        "      <th>2013-07-01</th>\n",
        "      <td>  7</td>\n",
        "      <td> GA</td>\n",
        "      <td> 0.25</td>\n",
        "      <td> 0.980000</td>\n",
        "      <td> False</td>\n",
        "    </tr>\n",
        "    <tr>\n",
        "      <th>2013-08-01</th>\n",
        "      <td>  7</td>\n",
        "      <td> GA</td>\n",
        "      <td> 0.25</td>\n",
        "      <td> 0.980000</td>\n",
        "      <td> False</td>\n",
        "    </tr>\n",
        "    <tr>\n",
        "      <th>2013-09-01</th>\n",
        "      <td>  6</td>\n",
        "      <td> FL</td>\n",
        "      <td> 1.25</td>\n",
        "      <td> 3.434996</td>\n",
        "      <td> False</td>\n",
        "    </tr>\n",
        "    <tr>\n",
        "      <th>2013-10-01</th>\n",
        "      <td>  6</td>\n",
        "      <td> FL</td>\n",
        "      <td> 1.25</td>\n",
        "      <td> 3.434996</td>\n",
        "      <td> False</td>\n",
        "    </tr>\n",
        "  </tbody>\n",
        "</table>\n",
        "</div>"
       ],
       "metadata": {},
       "output_type": "pyout",
       "prompt_number": 236,
       "text": [
        "            Revenue State  x-Mean  1.96*std Outlier\n",
        "2012-01-01        1    NY    5.00  7.554813   False\n",
        "2012-02-01        2    NY    4.00  7.554813   False\n",
        "2012-03-01        3    NY    3.00  7.554813   False\n",
        "2012-04-01        4    NY    2.00  7.554813   False\n",
        "2012-05-01        5    FL    2.25  3.434996   False\n",
        "2012-06-01        6    FL    1.25  3.434996   False\n",
        "2012-07-01        7    GA    0.25  0.980000   False\n",
        "2012-08-01        8    GA    0.75  0.980000   False\n",
        "2012-09-01        9    FL    1.75  3.434996   False\n",
        "2012-10-01       10    FL    2.75  3.434996   False\n",
        "2013-01-01       10    NY    4.00  7.554813   False\n",
        "2013-02-01       10    NY    4.00  7.554813   False\n",
        "2013-03-01        9    NY    3.00  7.554813   False\n",
        "2013-04-01        9    NY    3.00  7.554813   False\n",
        "2013-05-01        8    FL    0.75  3.434996   False\n",
        "2013-06-01        8    FL    0.75  3.434996   False\n",
        "2013-07-01        7    GA    0.25  0.980000   False\n",
        "2013-08-01        7    GA    0.25  0.980000   False\n",
        "2013-09-01        6    FL    1.25  3.434996   False\n",
        "2013-10-01        6    FL    1.25  3.434996   False"
       ]
      }
     ],
     "prompt_number": 236
    },
    {
     "cell_type": "code",
     "collapsed": false,
     "input": [
      "# reset again - group by multiple items\n",
      "StateMonth = df.groupby(['State',lambda x: x.month])\n",
      "def s(group):\n",
      "    group['x-Mean'] = abs(group['Revenue'] - group['Revenue'].mean())\n",
      "    group['1.96*std'] = 1.96*group['Revenue'].std()  \n",
      "    group['Outlier'] = abs(group['Revenue'] - group['Revenue'].mean()) > 1.96*group['Revenue'].std()\n",
      "    return group\n",
      "\n",
      "Newdf2 = StateMonth.apply(s)\n",
      "Newdf2"
     ],
     "language": "python",
     "metadata": {},
     "outputs": [
      {
       "html": [
        "<div style=\"max-height:1000px;max-width:1500px;overflow:auto;\">\n",
        "<table border=\"1\" class=\"dataframe\">\n",
        "  <thead>\n",
        "    <tr style=\"text-align: right;\">\n",
        "      <th></th>\n",
        "      <th>Revenue</th>\n",
        "      <th>State</th>\n",
        "      <th>x-Mean</th>\n",
        "      <th>1.96*std</th>\n",
        "      <th>Outlier</th>\n",
        "    </tr>\n",
        "  </thead>\n",
        "  <tbody>\n",
        "    <tr>\n",
        "      <th>2012-01-01</th>\n",
        "      <td>  1</td>\n",
        "      <td> NY</td>\n",
        "      <td> 4.5</td>\n",
        "      <td> 12.473364</td>\n",
        "      <td> False</td>\n",
        "    </tr>\n",
        "    <tr>\n",
        "      <th>2012-02-01</th>\n",
        "      <td>  2</td>\n",
        "      <td> NY</td>\n",
        "      <td> 4.0</td>\n",
        "      <td> 11.087434</td>\n",
        "      <td> False</td>\n",
        "    </tr>\n",
        "    <tr>\n",
        "      <th>2012-03-01</th>\n",
        "      <td>  3</td>\n",
        "      <td> NY</td>\n",
        "      <td> 3.0</td>\n",
        "      <td>  8.315576</td>\n",
        "      <td> False</td>\n",
        "    </tr>\n",
        "    <tr>\n",
        "      <th>2012-04-01</th>\n",
        "      <td>  4</td>\n",
        "      <td> NY</td>\n",
        "      <td> 2.5</td>\n",
        "      <td>  6.929646</td>\n",
        "      <td> False</td>\n",
        "    </tr>\n",
        "    <tr>\n",
        "      <th>2012-05-01</th>\n",
        "      <td>  5</td>\n",
        "      <td> FL</td>\n",
        "      <td> 1.5</td>\n",
        "      <td>  4.157788</td>\n",
        "      <td> False</td>\n",
        "    </tr>\n",
        "    <tr>\n",
        "      <th>2012-06-01</th>\n",
        "      <td>  6</td>\n",
        "      <td> FL</td>\n",
        "      <td> 1.0</td>\n",
        "      <td>  2.771859</td>\n",
        "      <td> False</td>\n",
        "    </tr>\n",
        "    <tr>\n",
        "      <th>2012-07-01</th>\n",
        "      <td>  7</td>\n",
        "      <td> GA</td>\n",
        "      <td> 0.0</td>\n",
        "      <td>  0.000000</td>\n",
        "      <td> False</td>\n",
        "    </tr>\n",
        "    <tr>\n",
        "      <th>2012-08-01</th>\n",
        "      <td>  8</td>\n",
        "      <td> GA</td>\n",
        "      <td> 0.5</td>\n",
        "      <td>  1.385929</td>\n",
        "      <td> False</td>\n",
        "    </tr>\n",
        "    <tr>\n",
        "      <th>2012-09-01</th>\n",
        "      <td>  9</td>\n",
        "      <td> FL</td>\n",
        "      <td> 1.5</td>\n",
        "      <td>  4.157788</td>\n",
        "      <td> False</td>\n",
        "    </tr>\n",
        "    <tr>\n",
        "      <th>2012-10-01</th>\n",
        "      <td> 10</td>\n",
        "      <td> FL</td>\n",
        "      <td> 2.0</td>\n",
        "      <td>  5.543717</td>\n",
        "      <td> False</td>\n",
        "    </tr>\n",
        "    <tr>\n",
        "      <th>2013-01-01</th>\n",
        "      <td> 10</td>\n",
        "      <td> NY</td>\n",
        "      <td> 4.5</td>\n",
        "      <td> 12.473364</td>\n",
        "      <td> False</td>\n",
        "    </tr>\n",
        "    <tr>\n",
        "      <th>2013-02-01</th>\n",
        "      <td> 10</td>\n",
        "      <td> NY</td>\n",
        "      <td> 4.0</td>\n",
        "      <td> 11.087434</td>\n",
        "      <td> False</td>\n",
        "    </tr>\n",
        "    <tr>\n",
        "      <th>2013-03-01</th>\n",
        "      <td>  9</td>\n",
        "      <td> NY</td>\n",
        "      <td> 3.0</td>\n",
        "      <td>  8.315576</td>\n",
        "      <td> False</td>\n",
        "    </tr>\n",
        "    <tr>\n",
        "      <th>2013-04-01</th>\n",
        "      <td>  9</td>\n",
        "      <td> NY</td>\n",
        "      <td> 2.5</td>\n",
        "      <td>  6.929646</td>\n",
        "      <td> False</td>\n",
        "    </tr>\n",
        "    <tr>\n",
        "      <th>2013-05-01</th>\n",
        "      <td>  8</td>\n",
        "      <td> FL</td>\n",
        "      <td> 1.5</td>\n",
        "      <td>  4.157788</td>\n",
        "      <td> False</td>\n",
        "    </tr>\n",
        "    <tr>\n",
        "      <th>2013-06-01</th>\n",
        "      <td>  8</td>\n",
        "      <td> FL</td>\n",
        "      <td> 1.0</td>\n",
        "      <td>  2.771859</td>\n",
        "      <td> False</td>\n",
        "    </tr>\n",
        "    <tr>\n",
        "      <th>2013-07-01</th>\n",
        "      <td>  7</td>\n",
        "      <td> GA</td>\n",
        "      <td> 0.0</td>\n",
        "      <td>  0.000000</td>\n",
        "      <td> False</td>\n",
        "    </tr>\n",
        "    <tr>\n",
        "      <th>2013-08-01</th>\n",
        "      <td>  7</td>\n",
        "      <td> GA</td>\n",
        "      <td> 0.5</td>\n",
        "      <td>  1.385929</td>\n",
        "      <td> False</td>\n",
        "    </tr>\n",
        "    <tr>\n",
        "      <th>2013-09-01</th>\n",
        "      <td>  6</td>\n",
        "      <td> FL</td>\n",
        "      <td> 1.5</td>\n",
        "      <td>  4.157788</td>\n",
        "      <td> False</td>\n",
        "    </tr>\n",
        "    <tr>\n",
        "      <th>2013-10-01</th>\n",
        "      <td>  6</td>\n",
        "      <td> FL</td>\n",
        "      <td> 2.0</td>\n",
        "      <td>  5.543717</td>\n",
        "      <td> False</td>\n",
        "    </tr>\n",
        "  </tbody>\n",
        "</table>\n",
        "</div>"
       ],
       "metadata": {},
       "output_type": "pyout",
       "prompt_number": 237,
       "text": [
        "            Revenue State  x-Mean   1.96*std Outlier\n",
        "2012-01-01        1    NY     4.5  12.473364   False\n",
        "2012-02-01        2    NY     4.0  11.087434   False\n",
        "2012-03-01        3    NY     3.0   8.315576   False\n",
        "2012-04-01        4    NY     2.5   6.929646   False\n",
        "2012-05-01        5    FL     1.5   4.157788   False\n",
        "2012-06-01        6    FL     1.0   2.771859   False\n",
        "2012-07-01        7    GA     0.0   0.000000   False\n",
        "2012-08-01        8    GA     0.5   1.385929   False\n",
        "2012-09-01        9    FL     1.5   4.157788   False\n",
        "2012-10-01       10    FL     2.0   5.543717   False\n",
        "2013-01-01       10    NY     4.5  12.473364   False\n",
        "2013-02-01       10    NY     4.0  11.087434   False\n",
        "2013-03-01        9    NY     3.0   8.315576   False\n",
        "2013-04-01        9    NY     2.5   6.929646   False\n",
        "2013-05-01        8    FL     1.5   4.157788   False\n",
        "2013-06-01        8    FL     1.0   2.771859   False\n",
        "2013-07-01        7    GA     0.0   0.000000   False\n",
        "2013-08-01        7    GA     0.5   1.385929   False\n",
        "2013-09-01        6    FL     1.5   4.157788   False\n",
        "2013-10-01        6    FL     2.0   5.543717   False"
       ]
      }
     ],
     "prompt_number": 237
    },
    {
     "cell_type": "code",
     "collapsed": false,
     "input": [
      "# working with quantiles\n",
      "df = concat([df1,df2]) #reset dataframe to prevent error\n",
      "\n",
      "State = df.groupby('State')\n",
      "\n",
      "df['Lower'] = State['Revenue'].transform( lambda x: x.quantile(q=.25) - (1.5*x.quantile(q=.75)-x.quantile(q=.25)) )\n",
      "df['Upper'] = State['Revenue'].transform( lambda x: x.quantile(q=.75) + (1.5*x.quantile(q=.75)-x.quantile(q=.25)) )\n",
      "df['Outlier'] = (df['Revenue'] < df['Lower']) | (df['Revenue'] > df['Upper']) \n",
      "df"
     ],
     "language": "python",
     "metadata": {},
     "outputs": [
      {
       "html": [
        "<div style=\"max-height:1000px;max-width:1500px;overflow:auto;\">\n",
        "<table border=\"1\" class=\"dataframe\">\n",
        "  <thead>\n",
        "    <tr style=\"text-align: right;\">\n",
        "      <th></th>\n",
        "      <th>Revenue</th>\n",
        "      <th>State</th>\n",
        "      <th>Lower</th>\n",
        "      <th>Upper</th>\n",
        "      <th>Outlier</th>\n",
        "    </tr>\n",
        "  </thead>\n",
        "  <tbody>\n",
        "    <tr>\n",
        "      <th>2012-01-01</th>\n",
        "      <td>  1</td>\n",
        "      <td> NY</td>\n",
        "      <td>-8.375</td>\n",
        "      <td> 20.375</td>\n",
        "      <td> False</td>\n",
        "    </tr>\n",
        "    <tr>\n",
        "      <th>2012-02-01</th>\n",
        "      <td>  2</td>\n",
        "      <td> NY</td>\n",
        "      <td>-8.375</td>\n",
        "      <td> 20.375</td>\n",
        "      <td> False</td>\n",
        "    </tr>\n",
        "    <tr>\n",
        "      <th>2012-03-01</th>\n",
        "      <td>  3</td>\n",
        "      <td> NY</td>\n",
        "      <td>-8.375</td>\n",
        "      <td> 20.375</td>\n",
        "      <td> False</td>\n",
        "    </tr>\n",
        "    <tr>\n",
        "      <th>2012-04-01</th>\n",
        "      <td>  4</td>\n",
        "      <td> NY</td>\n",
        "      <td>-8.375</td>\n",
        "      <td> 20.375</td>\n",
        "      <td> False</td>\n",
        "    </tr>\n",
        "    <tr>\n",
        "      <th>2012-05-01</th>\n",
        "      <td>  5</td>\n",
        "      <td> FL</td>\n",
        "      <td>-0.375</td>\n",
        "      <td> 14.625</td>\n",
        "      <td> False</td>\n",
        "    </tr>\n",
        "    <tr>\n",
        "      <th>2012-06-01</th>\n",
        "      <td>  6</td>\n",
        "      <td> FL</td>\n",
        "      <td>-0.375</td>\n",
        "      <td> 14.625</td>\n",
        "      <td> False</td>\n",
        "    </tr>\n",
        "    <tr>\n",
        "      <th>2012-07-01</th>\n",
        "      <td>  7</td>\n",
        "      <td> GA</td>\n",
        "      <td> 3.125</td>\n",
        "      <td> 11.125</td>\n",
        "      <td> False</td>\n",
        "    </tr>\n",
        "    <tr>\n",
        "      <th>2012-08-01</th>\n",
        "      <td>  8</td>\n",
        "      <td> GA</td>\n",
        "      <td> 3.125</td>\n",
        "      <td> 11.125</td>\n",
        "      <td> False</td>\n",
        "    </tr>\n",
        "    <tr>\n",
        "      <th>2012-09-01</th>\n",
        "      <td>  9</td>\n",
        "      <td> FL</td>\n",
        "      <td>-0.375</td>\n",
        "      <td> 14.625</td>\n",
        "      <td> False</td>\n",
        "    </tr>\n",
        "    <tr>\n",
        "      <th>2012-10-01</th>\n",
        "      <td> 10</td>\n",
        "      <td> FL</td>\n",
        "      <td>-0.375</td>\n",
        "      <td> 14.625</td>\n",
        "      <td> False</td>\n",
        "    </tr>\n",
        "    <tr>\n",
        "      <th>2013-01-01</th>\n",
        "      <td> 10</td>\n",
        "      <td> NY</td>\n",
        "      <td>-8.375</td>\n",
        "      <td> 20.375</td>\n",
        "      <td> False</td>\n",
        "    </tr>\n",
        "    <tr>\n",
        "      <th>2013-02-01</th>\n",
        "      <td> 10</td>\n",
        "      <td> NY</td>\n",
        "      <td>-8.375</td>\n",
        "      <td> 20.375</td>\n",
        "      <td> False</td>\n",
        "    </tr>\n",
        "    <tr>\n",
        "      <th>2013-03-01</th>\n",
        "      <td>  9</td>\n",
        "      <td> NY</td>\n",
        "      <td>-8.375</td>\n",
        "      <td> 20.375</td>\n",
        "      <td> False</td>\n",
        "    </tr>\n",
        "    <tr>\n",
        "      <th>2013-04-01</th>\n",
        "      <td>  9</td>\n",
        "      <td> NY</td>\n",
        "      <td>-8.375</td>\n",
        "      <td> 20.375</td>\n",
        "      <td> False</td>\n",
        "    </tr>\n",
        "    <tr>\n",
        "      <th>2013-05-01</th>\n",
        "      <td>  8</td>\n",
        "      <td> FL</td>\n",
        "      <td>-0.375</td>\n",
        "      <td> 14.625</td>\n",
        "      <td> False</td>\n",
        "    </tr>\n",
        "    <tr>\n",
        "      <th>2013-06-01</th>\n",
        "      <td>  8</td>\n",
        "      <td> FL</td>\n",
        "      <td>-0.375</td>\n",
        "      <td> 14.625</td>\n",
        "      <td> False</td>\n",
        "    </tr>\n",
        "    <tr>\n",
        "      <th>2013-07-01</th>\n",
        "      <td>  7</td>\n",
        "      <td> GA</td>\n",
        "      <td> 3.125</td>\n",
        "      <td> 11.125</td>\n",
        "      <td> False</td>\n",
        "    </tr>\n",
        "    <tr>\n",
        "      <th>2013-08-01</th>\n",
        "      <td>  7</td>\n",
        "      <td> GA</td>\n",
        "      <td> 3.125</td>\n",
        "      <td> 11.125</td>\n",
        "      <td> False</td>\n",
        "    </tr>\n",
        "    <tr>\n",
        "      <th>2013-09-01</th>\n",
        "      <td>  6</td>\n",
        "      <td> FL</td>\n",
        "      <td>-0.375</td>\n",
        "      <td> 14.625</td>\n",
        "      <td> False</td>\n",
        "    </tr>\n",
        "    <tr>\n",
        "      <th>2013-10-01</th>\n",
        "      <td>  6</td>\n",
        "      <td> FL</td>\n",
        "      <td>-0.375</td>\n",
        "      <td> 14.625</td>\n",
        "      <td> False</td>\n",
        "    </tr>\n",
        "  </tbody>\n",
        "</table>\n",
        "</div>"
       ],
       "metadata": {},
       "output_type": "pyout",
       "prompt_number": 238,
       "text": [
        "            Revenue State  Lower   Upper Outlier\n",
        "2012-01-01        1    NY -8.375  20.375   False\n",
        "2012-02-01        2    NY -8.375  20.375   False\n",
        "2012-03-01        3    NY -8.375  20.375   False\n",
        "2012-04-01        4    NY -8.375  20.375   False\n",
        "2012-05-01        5    FL -0.375  14.625   False\n",
        "2012-06-01        6    FL -0.375  14.625   False\n",
        "2012-07-01        7    GA  3.125  11.125   False\n",
        "2012-08-01        8    GA  3.125  11.125   False\n",
        "2012-09-01        9    FL -0.375  14.625   False\n",
        "2012-10-01       10    FL -0.375  14.625   False\n",
        "2013-01-01       10    NY -8.375  20.375   False\n",
        "2013-02-01       10    NY -8.375  20.375   False\n",
        "2013-03-01        9    NY -8.375  20.375   False\n",
        "2013-04-01        9    NY -8.375  20.375   False\n",
        "2013-05-01        8    FL -0.375  14.625   False\n",
        "2013-06-01        8    FL -0.375  14.625   False\n",
        "2013-07-01        7    GA  3.125  11.125   False\n",
        "2013-08-01        7    GA  3.125  11.125   False\n",
        "2013-09-01        6    FL -0.375  14.625   False\n",
        "2013-10-01        6    FL -0.375  14.625   False"
       ]
      }
     ],
     "prompt_number": 238
    },
    {
     "cell_type": "code",
     "collapsed": false,
     "input": [
      "# Skipping lessons 8, 9 - Microsoft related\n",
      "# Lesson 10 - converting between xlsx and json\n",
      "from pandas import DataFrame, ExcelFile\n",
      "import pandas as pd\n",
      "import json\n"
     ],
     "language": "python",
     "metadata": {},
     "outputs": [],
     "prompt_number": 239
    },
    {
     "cell_type": "code",
     "collapsed": false,
     "input": [
      "d = [1,2,3,4,5,6,7,8,9]\n",
      "dfm = DataFrame(d,columns=['Number'])\n",
      "dfm"
     ],
     "language": "python",
     "metadata": {},
     "outputs": [
      {
       "html": [
        "<div style=\"max-height:1000px;max-width:1500px;overflow:auto;\">\n",
        "<table border=\"1\" class=\"dataframe\">\n",
        "  <thead>\n",
        "    <tr style=\"text-align: right;\">\n",
        "      <th></th>\n",
        "      <th>Number</th>\n",
        "    </tr>\n",
        "  </thead>\n",
        "  <tbody>\n",
        "    <tr>\n",
        "      <th>0</th>\n",
        "      <td> 1</td>\n",
        "    </tr>\n",
        "    <tr>\n",
        "      <th>1</th>\n",
        "      <td> 2</td>\n",
        "    </tr>\n",
        "    <tr>\n",
        "      <th>2</th>\n",
        "      <td> 3</td>\n",
        "    </tr>\n",
        "    <tr>\n",
        "      <th>3</th>\n",
        "      <td> 4</td>\n",
        "    </tr>\n",
        "    <tr>\n",
        "      <th>4</th>\n",
        "      <td> 5</td>\n",
        "    </tr>\n",
        "    <tr>\n",
        "      <th>5</th>\n",
        "      <td> 6</td>\n",
        "    </tr>\n",
        "    <tr>\n",
        "      <th>6</th>\n",
        "      <td> 7</td>\n",
        "    </tr>\n",
        "    <tr>\n",
        "      <th>7</th>\n",
        "      <td> 8</td>\n",
        "    </tr>\n",
        "    <tr>\n",
        "      <th>8</th>\n",
        "      <td> 9</td>\n",
        "    </tr>\n",
        "  </tbody>\n",
        "</table>\n",
        "</div>"
       ],
       "metadata": {},
       "output_type": "pyout",
       "prompt_number": 240,
       "text": [
        "   Number\n",
        "0       1\n",
        "1       2\n",
        "2       3\n",
        "3       4\n",
        "4       5\n",
        "5       6\n",
        "6       7\n",
        "7       8\n",
        "8       9"
       ]
      }
     ],
     "prompt_number": 240
    },
    {
     "cell_type": "code",
     "collapsed": false,
     "input": [
      "dfm.to_excel('lesson10.xlsx', sheet_name='testing',index=False)\n",
      "print 'Done'"
     ],
     "language": "python",
     "metadata": {},
     "outputs": [
      {
       "output_type": "stream",
       "stream": "stdout",
       "text": [
        "Done\n"
       ]
      }
     ],
     "prompt_number": 243
    },
    {
     "cell_type": "code",
     "collapsed": false,
     "input": [
      "location = 'lesson10.xlsx'\n",
      "xls = ExcelFile(location)\n",
      "dfe = xls.parse('testing')\n",
      "dfe.head()"
     ],
     "language": "python",
     "metadata": {},
     "outputs": [
      {
       "html": [
        "<div style=\"max-height:1000px;max-width:1500px;overflow:auto;\">\n",
        "<table border=\"1\" class=\"dataframe\">\n",
        "  <thead>\n",
        "    <tr style=\"text-align: right;\">\n",
        "      <th></th>\n",
        "      <th>Number</th>\n",
        "    </tr>\n",
        "  </thead>\n",
        "  <tbody>\n",
        "    <tr>\n",
        "      <th>0</th>\n",
        "      <td> 1</td>\n",
        "    </tr>\n",
        "    <tr>\n",
        "      <th>1</th>\n",
        "      <td> 2</td>\n",
        "    </tr>\n",
        "    <tr>\n",
        "      <th>2</th>\n",
        "      <td> 3</td>\n",
        "    </tr>\n",
        "    <tr>\n",
        "      <th>3</th>\n",
        "      <td> 4</td>\n",
        "    </tr>\n",
        "    <tr>\n",
        "      <th>4</th>\n",
        "      <td> 5</td>\n",
        "    </tr>\n",
        "  </tbody>\n",
        "</table>\n",
        "</div>"
       ],
       "metadata": {},
       "output_type": "pyout",
       "prompt_number": 244,
       "text": [
        "   Number\n",
        "0       1\n",
        "1       2\n",
        "2       3\n",
        "3       4\n",
        "4       5"
       ]
      }
     ],
     "prompt_number": 244
    },
    {
     "cell_type": "code",
     "collapsed": false,
     "input": [
      "dfe.dtypes"
     ],
     "language": "python",
     "metadata": {},
     "outputs": [
      {
       "metadata": {},
       "output_type": "pyout",
       "prompt_number": 245,
       "text": [
        "Number    float64\n",
        "dtype: object"
       ]
      }
     ],
     "prompt_number": 245
    },
    {
     "cell_type": "code",
     "collapsed": false,
     "input": [
      "dfe.tail()"
     ],
     "language": "python",
     "metadata": {},
     "outputs": [
      {
       "html": [
        "<div style=\"max-height:1000px;max-width:1500px;overflow:auto;\">\n",
        "<table border=\"1\" class=\"dataframe\">\n",
        "  <thead>\n",
        "    <tr style=\"text-align: right;\">\n",
        "      <th></th>\n",
        "      <th>Number</th>\n",
        "    </tr>\n",
        "  </thead>\n",
        "  <tbody>\n",
        "    <tr>\n",
        "      <th>4</th>\n",
        "      <td> 5</td>\n",
        "    </tr>\n",
        "    <tr>\n",
        "      <th>5</th>\n",
        "      <td> 6</td>\n",
        "    </tr>\n",
        "    <tr>\n",
        "      <th>6</th>\n",
        "      <td> 7</td>\n",
        "    </tr>\n",
        "    <tr>\n",
        "      <th>7</th>\n",
        "      <td> 8</td>\n",
        "    </tr>\n",
        "    <tr>\n",
        "      <th>8</th>\n",
        "      <td> 9</td>\n",
        "    </tr>\n",
        "  </tbody>\n",
        "</table>\n",
        "</div>"
       ],
       "metadata": {},
       "output_type": "pyout",
       "prompt_number": 246,
       "text": [
        "   Number\n",
        "4       5\n",
        "5       6\n",
        "6       7\n",
        "7       8\n",
        "8       9"
       ]
      }
     ],
     "prompt_number": 246
    },
    {
     "cell_type": "code",
     "collapsed": false,
     "input": [
      "# Create data to Json\n",
      "def to_json(data):\n",
      "    \"\"\"Converts data frame to json using column names\"\"\"\n",
      "    json_result = [ dict([(key, str(value)) for key, value in zip(data.columns, row)]) for row in data.values]\n",
      "    return json.dumps(json_result)"
     ],
     "language": "python",
     "metadata": {},
     "outputs": [],
     "prompt_number": 247
    },
    {
     "cell_type": "code",
     "collapsed": false,
     "input": [
      "f = open('Lesson10.json','w')\n",
      "f.write(to_json(dfe))\n",
      "f.close()"
     ],
     "language": "python",
     "metadata": {},
     "outputs": [],
     "prompt_number": 248
    },
    {
     "cell_type": "code",
     "collapsed": false,
     "input": [
      "ls\n"
     ],
     "language": "python",
     "metadata": {},
     "outputs": [
      {
       "output_type": "stream",
       "stream": "stdout",
       "text": [
        "01 - Exercise.ipynb                03 - Lesson.ipynb                  07 - Lesson.ipynb                  \u001b[34mDataFiles\u001b[m\u001b[m/                         births1880.txt\r\n",
        "01 - Lesson.ipynb                  04 - Exercise.ipynb                08 - Lesson.ipynb                  Lesson10.json                      lesson10.xlsx\r\n",
        "02 - Exercise.ipynb                04 - Lesson.ipynb                  09 - Lesson.ipynb                  Pandas for Excel Developers.ipynb  lesson3.xlsx\r\n",
        "02 - Lesson.ipynb                  05 - Lesson.ipynb                  10 - Lesson.ipynb                  Pandas for SQL Developers.ipynb    pandaslearn.ipynb\r\n",
        "03 - Exercise.ipynb                06 - Lesson.ipynb                  11 - Lesson.ipynb                  Python_101.ipynb\r\n"
       ]
      }
     ],
     "prompt_number": 249
    },
    {
     "cell_type": "code",
     "collapsed": false,
     "input": [
      "jsonloc = 'Lesson10.json'\n",
      "json = [json.loads(line) for line in open(jsonloc)]\n",
      "df3 = DataFrame([rec for rec in json[0] ])\n",
      "df3.head()"
     ],
     "language": "python",
     "metadata": {},
     "outputs": [
      {
       "html": [
        "<div style=\"max-height:1000px;max-width:1500px;overflow:auto;\">\n",
        "<table border=\"1\" class=\"dataframe\">\n",
        "  <thead>\n",
        "    <tr style=\"text-align: right;\">\n",
        "      <th></th>\n",
        "      <th>Number</th>\n",
        "    </tr>\n",
        "  </thead>\n",
        "  <tbody>\n",
        "    <tr>\n",
        "      <th>0</th>\n",
        "      <td> 1.0</td>\n",
        "    </tr>\n",
        "    <tr>\n",
        "      <th>1</th>\n",
        "      <td> 2.0</td>\n",
        "    </tr>\n",
        "    <tr>\n",
        "      <th>2</th>\n",
        "      <td> 3.0</td>\n",
        "    </tr>\n",
        "    <tr>\n",
        "      <th>3</th>\n",
        "      <td> 4.0</td>\n",
        "    </tr>\n",
        "    <tr>\n",
        "      <th>4</th>\n",
        "      <td> 5.0</td>\n",
        "    </tr>\n",
        "  </tbody>\n",
        "</table>\n",
        "</div>"
       ],
       "metadata": {},
       "output_type": "pyout",
       "prompt_number": 250,
       "text": [
        "  Number\n",
        "0    1.0\n",
        "1    2.0\n",
        "2    3.0\n",
        "3    4.0\n",
        "4    5.0"
       ]
      }
     ],
     "prompt_number": 250
    },
    {
     "cell_type": "code",
     "collapsed": false,
     "input": [
      "df3.dtypes"
     ],
     "language": "python",
     "metadata": {},
     "outputs": [
      {
       "metadata": {},
       "output_type": "pyout",
       "prompt_number": 253,
       "text": [
        "Number    object\n",
        "dtype: object"
       ]
      }
     ],
     "prompt_number": 253
    },
    {
     "cell_type": "code",
     "collapsed": false,
     "input": [
      "df3['Number'] = df3['Number'].astype('int')\n",
      "df3.dtypes"
     ],
     "language": "python",
     "metadata": {},
     "outputs": [
      {
       "ename": "ValueError",
       "evalue": "invalid literal for long() with base 10: '1.0'",
       "output_type": "pyerr",
       "traceback": [
        "\u001b[0;31m---------------------------------------------------------------------------\u001b[0m\n\u001b[0;31mValueError\u001b[0m                                Traceback (most recent call last)",
        "\u001b[0;32m<ipython-input-254-faae295fcc7c>\u001b[0m in \u001b[0;36m<module>\u001b[0;34m()\u001b[0m\n\u001b[0;32m----> 1\u001b[0;31m \u001b[0mdf3\u001b[0m\u001b[0;34m[\u001b[0m\u001b[0;34m'Number'\u001b[0m\u001b[0;34m]\u001b[0m \u001b[0;34m=\u001b[0m \u001b[0mdf3\u001b[0m\u001b[0;34m[\u001b[0m\u001b[0;34m'Number'\u001b[0m\u001b[0;34m]\u001b[0m\u001b[0;34m.\u001b[0m\u001b[0mastype\u001b[0m\u001b[0;34m(\u001b[0m\u001b[0;34m'int'\u001b[0m\u001b[0;34m)\u001b[0m\u001b[0;34m\u001b[0m\u001b[0m\n\u001b[0m\u001b[1;32m      2\u001b[0m \u001b[0mdf3\u001b[0m\u001b[0;34m.\u001b[0m\u001b[0mdtypes\u001b[0m\u001b[0;34m\u001b[0m\u001b[0m\n",
        "\u001b[0;32m/Users/vijay/anaconda/envs/learnpandas/lib/python2.7/site-packages/pandas/core/series.pyc\u001b[0m in \u001b[0;36mastype\u001b[0;34m(self, dtype)\u001b[0m\n\u001b[1;32m    932\u001b[0m             \u001b[0mvalues\u001b[0m \u001b[0;34m=\u001b[0m \u001b[0mcom\u001b[0m\u001b[0;34m.\u001b[0m\u001b[0m_possibly_cast_to_datetime\u001b[0m\u001b[0;34m(\u001b[0m\u001b[0mself\u001b[0m\u001b[0;34m.\u001b[0m\u001b[0mvalues\u001b[0m\u001b[0;34m,\u001b[0m\u001b[0mdtype\u001b[0m\u001b[0;34m)\u001b[0m\u001b[0;34m\u001b[0m\u001b[0m\n\u001b[1;32m    933\u001b[0m         \u001b[0;32melse\u001b[0m\u001b[0;34m:\u001b[0m\u001b[0;34m\u001b[0m\u001b[0m\n\u001b[0;32m--> 934\u001b[0;31m             \u001b[0mvalues\u001b[0m \u001b[0;34m=\u001b[0m \u001b[0mcom\u001b[0m\u001b[0;34m.\u001b[0m\u001b[0m_astype_nansafe\u001b[0m\u001b[0;34m(\u001b[0m\u001b[0mself\u001b[0m\u001b[0;34m.\u001b[0m\u001b[0mvalues\u001b[0m\u001b[0;34m,\u001b[0m \u001b[0mdtype\u001b[0m\u001b[0;34m)\u001b[0m\u001b[0;34m\u001b[0m\u001b[0m\n\u001b[0m\u001b[1;32m    935\u001b[0m         return self._constructor(values, index=self.index, name=self.name,\n\u001b[1;32m    936\u001b[0m                                  dtype=values.dtype)\n",
        "\u001b[0;32m/Users/vijay/anaconda/envs/learnpandas/lib/python2.7/site-packages/pandas/core/common.pyc\u001b[0m in \u001b[0;36m_astype_nansafe\u001b[0;34m(arr, dtype, copy)\u001b[0m\n\u001b[1;32m   1660\u001b[0m     \u001b[0;32melif\u001b[0m \u001b[0marr\u001b[0m\u001b[0;34m.\u001b[0m\u001b[0mdtype\u001b[0m \u001b[0;34m==\u001b[0m \u001b[0mnp\u001b[0m\u001b[0;34m.\u001b[0m\u001b[0mobject_\u001b[0m \u001b[0;32mand\u001b[0m \u001b[0mnp\u001b[0m\u001b[0;34m.\u001b[0m\u001b[0missubdtype\u001b[0m\u001b[0;34m(\u001b[0m\u001b[0mdtype\u001b[0m\u001b[0;34m.\u001b[0m\u001b[0mtype\u001b[0m\u001b[0;34m,\u001b[0m \u001b[0mnp\u001b[0m\u001b[0;34m.\u001b[0m\u001b[0minteger\u001b[0m\u001b[0;34m)\u001b[0m\u001b[0;34m:\u001b[0m\u001b[0;34m\u001b[0m\u001b[0m\n\u001b[1;32m   1661\u001b[0m         \u001b[0;31m# work around NumPy brokenness, #1987\u001b[0m\u001b[0;34m\u001b[0m\u001b[0;34m\u001b[0m\u001b[0m\n\u001b[0;32m-> 1662\u001b[0;31m         \u001b[0;32mreturn\u001b[0m \u001b[0mlib\u001b[0m\u001b[0;34m.\u001b[0m\u001b[0mastype_intsafe\u001b[0m\u001b[0;34m(\u001b[0m\u001b[0marr\u001b[0m\u001b[0;34m.\u001b[0m\u001b[0mravel\u001b[0m\u001b[0;34m(\u001b[0m\u001b[0;34m)\u001b[0m\u001b[0;34m,\u001b[0m \u001b[0mdtype\u001b[0m\u001b[0;34m)\u001b[0m\u001b[0;34m.\u001b[0m\u001b[0mreshape\u001b[0m\u001b[0;34m(\u001b[0m\u001b[0marr\u001b[0m\u001b[0;34m.\u001b[0m\u001b[0mshape\u001b[0m\u001b[0;34m)\u001b[0m\u001b[0;34m\u001b[0m\u001b[0m\n\u001b[0m\u001b[1;32m   1663\u001b[0m \u001b[0;34m\u001b[0m\u001b[0m\n\u001b[1;32m   1664\u001b[0m     \u001b[0;32mif\u001b[0m \u001b[0mcopy\u001b[0m\u001b[0;34m:\u001b[0m\u001b[0;34m\u001b[0m\u001b[0m\n",
        "\u001b[0;32m/Users/vijay/anaconda/envs/learnpandas/lib/python2.7/site-packages/pandas/lib.so\u001b[0m in \u001b[0;36mpandas.lib.astype_intsafe (pandas/lib.c:12338)\u001b[0;34m()\u001b[0m\n",
        "\u001b[0;32m/Users/vijay/anaconda/envs/learnpandas/lib/python2.7/site-packages/pandas/lib.so\u001b[0m in \u001b[0;36mutil.set_value_at (pandas/lib.c:47301)\u001b[0;34m()\u001b[0m\n",
        "\u001b[0;31mValueError\u001b[0m: invalid literal for long() with base 10: '1.0'"
       ]
      }
     ],
     "prompt_number": 254
    },
    {
     "cell_type": "code",
     "collapsed": false,
     "input": [
      "df3"
     ],
     "language": "python",
     "metadata": {},
     "outputs": [
      {
       "html": [
        "<div style=\"max-height:1000px;max-width:1500px;overflow:auto;\">\n",
        "<table border=\"1\" class=\"dataframe\">\n",
        "  <thead>\n",
        "    <tr style=\"text-align: right;\">\n",
        "      <th></th>\n",
        "      <th>Number</th>\n",
        "    </tr>\n",
        "  </thead>\n",
        "  <tbody>\n",
        "    <tr>\n",
        "      <th>0</th>\n",
        "      <td> 1.0</td>\n",
        "    </tr>\n",
        "    <tr>\n",
        "      <th>1</th>\n",
        "      <td> 2.0</td>\n",
        "    </tr>\n",
        "    <tr>\n",
        "      <th>2</th>\n",
        "      <td> 3.0</td>\n",
        "    </tr>\n",
        "    <tr>\n",
        "      <th>3</th>\n",
        "      <td> 4.0</td>\n",
        "    </tr>\n",
        "    <tr>\n",
        "      <th>4</th>\n",
        "      <td> 5.0</td>\n",
        "    </tr>\n",
        "    <tr>\n",
        "      <th>5</th>\n",
        "      <td> 6.0</td>\n",
        "    </tr>\n",
        "    <tr>\n",
        "      <th>6</th>\n",
        "      <td> 7.0</td>\n",
        "    </tr>\n",
        "    <tr>\n",
        "      <th>7</th>\n",
        "      <td> 8.0</td>\n",
        "    </tr>\n",
        "    <tr>\n",
        "      <th>8</th>\n",
        "      <td> 9.0</td>\n",
        "    </tr>\n",
        "  </tbody>\n",
        "</table>\n",
        "</div>"
       ],
       "metadata": {},
       "output_type": "pyout",
       "prompt_number": 255,
       "text": [
        "  Number\n",
        "0    1.0\n",
        "1    2.0\n",
        "2    3.0\n",
        "3    4.0\n",
        "4    5.0\n",
        "5    6.0\n",
        "6    7.0\n",
        "7    8.0\n",
        "8    9.0"
       ]
      }
     ],
     "prompt_number": 255
    },
    {
     "cell_type": "code",
     "collapsed": false,
     "input": [
      "#Lesson 11 = Get data from 3 data files in excel and combine into a dataframe - deferred for now"
     ],
     "language": "python",
     "metadata": {},
     "outputs": []
    }
   ],
   "metadata": {}
  }
 ]
}