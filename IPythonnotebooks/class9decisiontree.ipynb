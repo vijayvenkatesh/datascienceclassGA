{
 "metadata": {
  "name": ""
 },
 "nbformat": 3,
 "nbformat_minor": 0,
 "worksheets": [
  {
   "cells": [
    {
     "cell_type": "code",
     "collapsed": false,
     "input": [
      "import pandas as pd\n",
      "data = pd.read_csv('/Users/vjbu/Google Drive/classes/datascience/GADS7/src/lesson09/cs-training.csv')\n",
      "from sklearn.tree import DecisionTreeClassifier\n",
      "data.head()\n",
      "data.MonthlyIncome.describe() # Mathematical basics / average / mean / 25-70%\n"
     ],
     "language": "python",
     "metadata": {},
     "outputs": [
      {
       "metadata": {},
       "output_type": "pyout",
       "prompt_number": 7,
       "text": [
        "count     120269.000000\n",
        "mean        6670.221237\n",
        "std        14384.674215\n",
        "min            0.000000\n",
        "25%         3400.000000\n",
        "50%         5400.000000\n",
        "75%         8249.000000\n",
        "max      3008750.000000\n",
        "dtype: float64"
       ]
      }
     ],
     "prompt_number": 7
    }
   ],
   "metadata": {}
  }
 ]
}