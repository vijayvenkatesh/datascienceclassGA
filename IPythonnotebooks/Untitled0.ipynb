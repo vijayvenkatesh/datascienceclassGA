{
 "metadata": {
  "name": ""
 },
 "nbformat": 3,
 "nbformat_minor": 0,
 "worksheets": [
  {
   "cells": [
    {
     "cell_type": "code",
     "collapsed": false,
     "input": [
      "import pandas as pd\n",
      "from pandas import DataFrame, read_csv\n",
      "data = read_csv('/Users/vjbu/src/datascienceclassGA/lemonpredict/inclass_training.csv')\n",
      "data.BYRNO.value_counts()\n",
      "data.I"
     ],
     "language": "python",
     "metadata": {},
     "outputs": [
      {
       "metadata": {},
       "output_type": "pyout",
       "prompt_number": 19,
       "text": [
        "99761    3501\n",
        "18880    3197\n",
        "835      2663\n",
        "3453     2605\n",
        "22916    2573\n",
        "21053    2493\n",
        "19619    2449\n",
        "99750    2369\n",
        "17675    2326\n",
        "20928    2326\n",
        "21973    2267\n",
        "17212    2238\n",
        "20740    2149\n",
        "5546     1952\n",
        "18111    1882\n",
        "...\n",
        "10410    9\n",
        "1156     9\n",
        "1082     7\n",
        "11210    7\n",
        "16369    7\n",
        "1041     6\n",
        "1152     5\n",
        "10420    4\n",
        "10510    4\n",
        "99760    2\n",
        "1086     1\n",
        "1157     1\n",
        "99741    1\n",
        "10425    1\n",
        "3582     1\n",
        "Length: 74, dtype: int64"
       ]
      }
     ],
     "prompt_number": 19
    },
    {
     "cell_type": "code",
     "collapsed": false,
     "input": [
      "data[['BYRNO','IsBadBuy']].head(50)\n",
      "data.IsBadBuy.groupby"
     ],
     "language": "python",
     "metadata": {},
     "outputs": [
      {
       "metadata": {},
       "output_type": "pyout",
       "prompt_number": 30,
       "text": [
        "<bound method Series.groupby of 0     0\n",
        "1     0\n",
        "2     0\n",
        "3     0\n",
        "4     0\n",
        "5     0\n",
        "6     0\n",
        "7     0\n",
        "8     0\n",
        "9     0\n",
        "10    0\n",
        "11    1\n",
        "12    0\n",
        "13    0\n",
        "14    0\n",
        "...\n",
        "64968    0\n",
        "64969    0\n",
        "64970    0\n",
        "64971    0\n",
        "64972    0\n",
        "64973    0\n",
        "64974    0\n",
        "64975    0\n",
        "64976    0\n",
        "64977    0\n",
        "64978    1\n",
        "64979    0\n",
        "64980    0\n",
        "64981    0\n",
        "64982    0\n",
        "Name: IsBadBuy, Length: 64983, dtype: int64>"
       ]
      }
     ],
     "prompt_number": 30
    }
   ],
   "metadata": {}
  }
 ]
}